{
 "cells": [
  {
   "cell_type": "markdown",
   "id": "1b23eb17-73c6-47c6-929b-3201590879e3",
   "metadata": {},
   "source": [
    "## Dictionaries\n",
    "***In this chapter, you'll learn how to work with dictionaries in Python.***\n",
    "\n",
    "***Book: Python Crash Course!***"
   ]
  },
  {
   "cell_type": "markdown",
   "id": "07f5fa15-6d13-41aa-a329-30d480e4be18",
   "metadata": {},
   "source": [
    "### A simple Dictionary"
   ]
  },
  {
   "cell_type": "code",
   "execution_count": 1,
   "id": "864c8e41-a50d-41b9-9c88-8e448117270b",
   "metadata": {},
   "outputs": [
    {
     "name": "stdout",
     "output_type": "stream",
     "text": [
      "Alireza\n",
      "Khajehvandi\n"
     ]
    }
   ],
   "source": [
    "# dict_var = {\"key\": \"value\"}\n",
    "# dict_var = {\"key1\": \"value1\", \"key2\": \"value2\"}\n",
    "\n",
    "# values can get any object that you can define in Python\n",
    "# keys can not get unhashable type like list\n",
    "\n",
    "person_0 = {'name': 'Alireza', 'last_name': 'Khajehvandi'}\n",
    "\n",
    "print (person_0['name'])\n",
    "print (person_0['last_name'])"
   ]
  },
  {
   "cell_type": "markdown",
   "id": "82ea6844-8e9b-45b1-afd0-c4a1691e555f",
   "metadata": {},
   "source": [
    "### Working with dictionaries\n",
    "A *dictionary* in Python is a collection of *key-value* pairs. Each *key* is connected to\n",
    "a *value*."
   ]
  },
  {
   "cell_type": "code",
   "execution_count": 2,
   "id": "3d5a9086-9e26-4181-8a8d-c08b14fd6499",
   "metadata": {},
   "outputs": [
    {
     "name": "stdout",
     "output_type": "stream",
     "text": [
      "{'name': 'Asghar', 'last_name': 'Asghari', 'age': 45}\n"
     ]
    }
   ],
   "source": [
    "new_person = {\"name\": \"Asghar\", \"last_name\": \"Asghari\", \"age\": 45}\n",
    "print (new_person)\n"
   ]
  },
  {
   "cell_type": "code",
   "execution_count": 3,
   "id": "c199321b-25d7-4395-b6f7-8341f8e3db8c",
   "metadata": {},
   "outputs": [
    {
     "name": "stdout",
     "output_type": "stream",
     "text": [
      "{'color': 'green'}\n"
     ]
    }
   ],
   "source": [
    "simple_dict = {\"color\": \"green\"}\n",
    "print (simple_dict)"
   ]
  },
  {
   "cell_type": "markdown",
   "id": "139b07be-973a-49d4-a465-ddc49ddfea88",
   "metadata": {},
   "source": [
    "#### Accessing Values in a Dictionary"
   ]
  },
  {
   "cell_type": "code",
   "execution_count": 4,
   "id": "f74f6413-68d7-4589-8bfd-20184d1fec1d",
   "metadata": {},
   "outputs": [
    {
     "data": {
      "text/plain": [
       "'Asghar'"
      ]
     },
     "execution_count": 4,
     "metadata": {},
     "output_type": "execute_result"
    }
   ],
   "source": [
    "# just say the name of the dictionary with a specific key such as:\n",
    "new_person[\"name\"]"
   ]
  },
  {
   "cell_type": "code",
   "execution_count": 5,
   "id": "a510ef41-3e4e-4b08-8461-acecf2762bb7",
   "metadata": {},
   "outputs": [
    {
     "name": "stdout",
     "output_type": "stream",
     "text": [
      "5\n"
     ]
    }
   ],
   "source": [
    "fruits = {\"apple\": 5, \"banana\": 10}\n",
    "print (fruits[\"apple\"])"
   ]
  },
  {
   "cell_type": "markdown",
   "id": "97bd6485-3460-422f-aea6-19ad6a47f42a",
   "metadata": {},
   "source": [
    "#### Adding New Key-Value Pairs\n",
    "you can add new key-value pairs\n",
    "to a dictionary at any time"
   ]
  },
  {
   "cell_type": "code",
   "execution_count": 6,
   "id": "2eb6a23a-7571-47c9-8a91-3a8c617623a6",
   "metadata": {},
   "outputs": [
    {
     "name": "stdout",
     "output_type": "stream",
     "text": [
      "{'name': 'Ariana'}\n"
     ]
    }
   ],
   "source": [
    "student = {\"name\": \"Ariana\"}\n",
    "print (student)"
   ]
  },
  {
   "cell_type": "code",
   "execution_count": 7,
   "id": "32810b9c-7206-4904-87be-46ab1be1ba53",
   "metadata": {},
   "outputs": [
    {
     "name": "stdout",
     "output_type": "stream",
     "text": [
      "{'name': 'Ariana', 'id_number': 50545, 'gender': 'female'}\n"
     ]
    }
   ],
   "source": [
    "student[\"id_number\"] = 50545\n",
    "student[\"gender\"] = \"female\"\n",
    "\n",
    "print (student)"
   ]
  },
  {
   "cell_type": "markdown",
   "id": "0e905573-bdd3-44a6-9b55-c0b7c0798482",
   "metadata": {},
   "source": [
    "#### Starting with an Empty Dictionary"
   ]
  },
  {
   "cell_type": "code",
   "execution_count": 8,
   "id": "e49c4609-4824-4dc9-8d97-528064d8ff99",
   "metadata": {},
   "outputs": [
    {
     "name": "stdout",
     "output_type": "stream",
     "text": [
      "{}\n",
      "{'name': 'Alireza', 'id_number': 50546, 'gender': 'male'}\n"
     ]
    }
   ],
   "source": [
    "new_student = {}\n",
    "print (new_student)\n",
    "\n",
    "new_student[\"name\"] = \"Alireza\"\n",
    "new_student[\"id_number\"] = 50546\n",
    "new_student[\"gender\"] = \"male\"\n",
    "print (new_student)"
   ]
  },
  {
   "cell_type": "markdown",
   "id": "9fe51943-349b-4296-b2e1-fae322d9eb17",
   "metadata": {},
   "source": [
    "#### Modifying Values in a Dictionary"
   ]
  },
  {
   "cell_type": "code",
   "execution_count": 9,
   "id": "ec521836-43a7-4e25-9dc4-ac5e453440bf",
   "metadata": {},
   "outputs": [
    {
     "name": "stdout",
     "output_type": "stream",
     "text": [
      "{'topic': 'Python', 'students': 1000}\n"
     ]
    }
   ],
   "source": [
    "course = {\"topic\": \"Python\", \"students\": 1000}\n",
    "print (course)"
   ]
  },
  {
   "cell_type": "code",
   "execution_count": 10,
   "id": "e79f20f2-140f-4dc8-b4e0-7773150fcb0c",
   "metadata": {},
   "outputs": [
    {
     "name": "stdout",
     "output_type": "stream",
     "text": [
      "{'topic': 'machine learning', 'students': 1000}\n"
     ]
    }
   ],
   "source": [
    "course[\"topic\"] = \"machine learning\"\n",
    "print (course)"
   ]
  },
  {
   "cell_type": "code",
   "execution_count": 11,
   "id": "aa446325-ed5d-40d9-9809-e707c7c6d4d7",
   "metadata": {},
   "outputs": [
    {
     "name": "stdout",
     "output_type": "stream",
     "text": [
      "{'topic': 'machine learning', 'students': 2000}\n",
      "2000 students enrolled in machine learning course\n"
     ]
    }
   ],
   "source": [
    "course[\"students\"] = 2000\n",
    "print (course)\n",
    "print (f\"{course['students']} students enrolled in {course['topic']} course\")"
   ]
  },
  {
   "cell_type": "code",
   "execution_count": 12,
   "id": "05e90fb0-e6de-45a0-ba4d-e0684f1ee9d1",
   "metadata": {},
   "outputs": [
    {
     "name": "stdout",
     "output_type": "stream",
     "text": [
      "Original position: 0\n",
      "New position: 1\n"
     ]
    }
   ],
   "source": [
    "# example\n",
    "person_on_screen = {'x_position': 0, 'y_position': 10, 'speed': 'slow'}\n",
    "print(f\"Original position: {person_on_screen['x_position']}\")\n",
    "if person_on_screen['speed'] == 'slow':\n",
    "    x_increment = 1\n",
    "elif person_on_screen['speed'] == 'medium':\n",
    "    x_increment = 2\n",
    "else: # elif person_on_screen['speed'] == 'fast':\n",
    "    x_increment = 3\n",
    "\n",
    "# the new position is the old position plus the increment.\n",
    "person_on_screen['x_position'] = person_on_screen['x_position'] + x_increment\n",
    "\n",
    "print (f\"New position: {person_on_screen['x_position']}\")"
   ]
  },
  {
   "cell_type": "markdown",
   "id": "c5ba1304-78b5-4bc3-87fe-0b7fbab46510",
   "metadata": {},
   "source": [
    "#### Removing Key-Value Pairs\n",
    "\n",
    "you can use `del` to remove a specific key-value pair in your dictionary"
   ]
  },
  {
   "cell_type": "code",
   "execution_count": 13,
   "id": "7d85f615-ebc9-40a3-a132-cfd376102b1f",
   "metadata": {},
   "outputs": [
    {
     "name": "stdout",
     "output_type": "stream",
     "text": [
      "{'name': 'Ariana', 'id_number': 50545, 'gender': 'female'}\n"
     ]
    }
   ],
   "source": [
    "student = {'name': 'Ariana', 'id_number': 50545, 'gender': 'female'}\n",
    "\n",
    "print (student)"
   ]
  },
  {
   "cell_type": "code",
   "execution_count": 14,
   "id": "15e7b60b-4ec1-4274-8fa4-37f927d5b409",
   "metadata": {},
   "outputs": [
    {
     "name": "stdout",
     "output_type": "stream",
     "text": [
      "{'name': 'Ariana', 'gender': 'female'}\n"
     ]
    }
   ],
   "source": [
    "del student['id_number']\n",
    "\n",
    "print (student)"
   ]
  },
  {
   "cell_type": "markdown",
   "id": "a5e4e396-0b3f-4cf5-adef-3961529de82a",
   "metadata": {},
   "source": [
    "***Note:*** *Be aware that the deleted key-value pair is removed permanently.*"
   ]
  },
  {
   "cell_type": "markdown",
   "id": "188e65e2-f141-49ff-b46e-594a93bf8e6f",
   "metadata": {},
   "source": [
    "#### A Dictionary of Similar Objects"
   ]
  },
  {
   "cell_type": "code",
   "execution_count": 15,
   "id": "639a0e76-5132-407e-ab8a-6930d63f61fc",
   "metadata": {},
   "outputs": [
    {
     "name": "stdout",
     "output_type": "stream",
     "text": [
      "{'Alireza': 'Python', 'Ali': 'C', 'Reza': 'Java', 'Ariana': 'Python'}\n",
      "Alireza's favorite language is Python.\n"
     ]
    }
   ],
   "source": [
    "favorite_languages = {\n",
    "    'Alireza': 'Python',\n",
    "    'Ali': 'C',\n",
    "    'Reza': 'Java',\n",
    "    'Ariana': 'Python', \n",
    "}\n",
    "# It’s good practice to include a comma after the\n",
    "# last key-value pair as well, so you’re ready to add a new key-value pair on the\n",
    "# next line.\n",
    "\n",
    "print (favorite_languages)\n",
    "\n",
    "language = favorite_languages['Alireza']\n",
    "print(f\"Alireza's favorite language is {language}.\")"
   ]
  },
  {
   "cell_type": "markdown",
   "id": "a3bc8eaf-6971-477b-be36-fbe94b0a8ebc",
   "metadata": {},
   "source": [
    "***Note:*** *Most editors have some functionality that helps you format extended lists and dictionaries in a similar manner to this example. Other acceptable ways to format long dictionaries are available as well, so you may see slightly different formatting in your editor, or in other sources.*"
   ]
  },
  {
   "cell_type": "markdown",
   "id": "258ddbb8-ba1f-45fd-b581-95f092cd8734",
   "metadata": {},
   "source": [
    "#### Using get() to Access Values"
   ]
  },
  {
   "cell_type": "code",
   "execution_count": 16,
   "id": "387797df-bef4-4fc2-94c9-dd80dd94a561",
   "metadata": {},
   "outputs": [
    {
     "ename": "KeyError",
     "evalue": "'gender'",
     "output_type": "error",
     "traceback": [
      "\u001b[1;31m---------------------------------------------------------------------------\u001b[0m",
      "\u001b[1;31mKeyError\u001b[0m                                  Traceback (most recent call last)",
      "Cell \u001b[1;32mIn[16], line 3\u001b[0m\n\u001b[0;32m      1\u001b[0m student \u001b[38;5;241m=\u001b[39m {\u001b[38;5;124m'\u001b[39m\u001b[38;5;124mname\u001b[39m\u001b[38;5;124m'\u001b[39m: \u001b[38;5;124m'\u001b[39m\u001b[38;5;124mariana\u001b[39m\u001b[38;5;124m'\u001b[39m, \u001b[38;5;124m'\u001b[39m\u001b[38;5;124mid_number\u001b[39m\u001b[38;5;124m'\u001b[39m: \u001b[38;5;241m50545\u001b[39m}\n\u001b[1;32m----> 3\u001b[0m \u001b[38;5;28mprint\u001b[39m (\u001b[43mstudent\u001b[49m\u001b[43m[\u001b[49m\u001b[38;5;124;43m'\u001b[39;49m\u001b[38;5;124;43mgender\u001b[39;49m\u001b[38;5;124;43m'\u001b[39;49m\u001b[43m]\u001b[49m)\n",
      "\u001b[1;31mKeyError\u001b[0m: 'gender'"
     ]
    }
   ],
   "source": [
    "student = {'name': 'ariana', 'id_number': 50545}\n",
    "\n",
    "print (student['gender'])"
   ]
  },
  {
   "cell_type": "markdown",
   "id": "94554944-04e6-42a2-98b9-c56698e1ab80",
   "metadata": {},
   "source": [
    "*We’ll learn more about how to handle errors like this in general in\n",
    "Chapter 10*"
   ]
  },
  {
   "cell_type": "code",
   "execution_count": 17,
   "id": "6d64bb3d-1376-4513-8d2a-1c181acac254",
   "metadata": {},
   "outputs": [
    {
     "name": "stdout",
     "output_type": "stream",
     "text": [
      "No gender value assigned.\n",
      "None\n"
     ]
    }
   ],
   "source": [
    "gender_info = student.get('gender', 'No gender value assigned.')\n",
    "print(gender_info)\n",
    "\n",
    "gender_info = student.get('gender')\n",
    "print(gender_info)"
   ]
  },
  {
   "cell_type": "markdown",
   "id": "5f4f01b5-b20b-4f7f-a28d-36f16045dcea",
   "metadata": {},
   "source": [
    "***Note:*** *If you leave out the second argument in the call to get() and the key doesn’t exist, Python will return the value None. The special value None means “no value exists.” This is not an error: it’s a special value meant to indicate the absence of a value. We’ll see more uses for None in Chapter 8.*"
   ]
  },
  {
   "cell_type": "markdown",
   "id": "e3cf0bf4-7e88-4470-9900-c14dc0a50a13",
   "metadata": {},
   "source": [
    "### Looping Through a Dictionary"
   ]
  },
  {
   "cell_type": "code",
   "execution_count": 18,
   "id": "6badd591-210d-4eb3-ab7e-75cbe11c6cd2",
   "metadata": {},
   "outputs": [
    {
     "name": "stdout",
     "output_type": "stream",
     "text": [
      "{'username': 'akh', 'first_name': 'alireza', 'last_name': 'khajehvandi'}\n"
     ]
    }
   ],
   "source": [
    "user_0 = {\n",
    "    'username': 'akh',\n",
    "    'first_name': 'alireza',\n",
    "    'last_name': 'khajehvandi',\n",
    "}\n",
    "\n",
    "print (user_0)"
   ]
  },
  {
   "cell_type": "markdown",
   "id": "1ac28119-2435-45c0-93b6-995ad85e0204",
   "metadata": {},
   "source": [
    "#### Looping Through All Key-Value Pairs"
   ]
  },
  {
   "cell_type": "code",
   "execution_count": 19,
   "id": "1924a06d-e74b-415d-bbff-95c3a4cef741",
   "metadata": {},
   "outputs": [
    {
     "name": "stdout",
     "output_type": "stream",
     "text": [
      "Key: username, Value: akh\n",
      "\n",
      "Key: first_name, Value: alireza\n",
      "\n",
      "Key: last_name, Value: khajehvandi\n",
      "\n"
     ]
    }
   ],
   "source": [
    "for key, value in user_0.items():\n",
    "    print(f\"Key: {key}, Value: {value}\\n\")\n"
   ]
  },
  {
   "cell_type": "code",
   "execution_count": 20,
   "id": "320b92b3-a4ae-47d4-b8a8-6f4fdc708f5a",
   "metadata": {},
   "outputs": [
    {
     "name": "stdout",
     "output_type": "stream",
     "text": [
      "Key: username, Value: akh\n",
      "\n",
      "Key: first_name, Value: alireza\n",
      "\n",
      "Key: last_name, Value: khajehvandi\n",
      "\n"
     ]
    }
   ],
   "source": [
    "for k, v in user_0.items():\n",
    "    print(f\"Key: {k}, Value: {v}\\n\")"
   ]
  },
  {
   "cell_type": "code",
   "execution_count": 21,
   "id": "fbea8150-7a15-422c-9d8e-ce8f81e432ff",
   "metadata": {},
   "outputs": [
    {
     "name": "stdout",
     "output_type": "stream",
     "text": [
      "Alireza's favorite language is Python.\n",
      "Ali's favorite language is C.\n",
      "Reza's favorite language is Java.\n",
      "Ariana's favorite language is Python.\n"
     ]
    }
   ],
   "source": [
    "favorite_languages = {\n",
    "    'Alireza': 'Python',\n",
    "    'Ali': 'C',\n",
    "    'Reza': 'Java',\n",
    "    'Ariana': 'Python', \n",
    "}\n",
    "\n",
    "for name, language in favorite_languages.items():\n",
    "    print(f\"{name}'s favorite language is {language}.\")"
   ]
  },
  {
   "cell_type": "markdown",
   "id": "0c4c209f-72a6-4244-97d2-f6d3bf28d428",
   "metadata": {},
   "source": [
    "#### Looping Through All The Keys in a Dictionary"
   ]
  },
  {
   "cell_type": "code",
   "execution_count": 22,
   "id": "99fc99ee-9d21-4d9d-9dc4-7d302732c12c",
   "metadata": {},
   "outputs": [
    {
     "name": "stdout",
     "output_type": "stream",
     "text": [
      "Alireza\n",
      "Ali\n",
      "Reza\n",
      "Ariana\n"
     ]
    }
   ],
   "source": [
    "favorite_languages = {\n",
    "    'Alireza': 'Python',\n",
    "    'Ali': 'C',\n",
    "    'Reza': 'Java',\n",
    "    'Ariana': 'Python', \n",
    "}\n",
    "\n",
    "# people who were attended in our poll\n",
    "for name in favorite_languages.keys():\n",
    "    print(f\"{name}\")"
   ]
  },
  {
   "cell_type": "code",
   "execution_count": 23,
   "id": "bef9408a-0189-488e-9119-0aac3f5b9384",
   "metadata": {},
   "outputs": [
    {
     "name": "stdout",
     "output_type": "stream",
     "text": [
      "Alireza\n",
      "Ali\n",
      "Reza\n",
      "Ariana\n"
     ]
    }
   ],
   "source": [
    "# Looping through the keys is actually the default behavior when looping through a dictionary\n",
    "for name in favorite_languages:\n",
    "    print(f\"{name}\")"
   ]
  },
  {
   "cell_type": "code",
   "execution_count": 24,
   "id": "4baf2e16-a367-41de-a471-7dc691c1b881",
   "metadata": {},
   "outputs": [
    {
     "name": "stdout",
     "output_type": "stream",
     "text": [
      "Hi Alireza.\n",
      "\tAlireza, I see you love Python!\n",
      "Hi Ali.\n",
      "Hi Reza.\n",
      "Hi Ariana.\n",
      "\tAriana, I see you love Python!\n"
     ]
    }
   ],
   "source": [
    "friends = ['Alireza', 'Ariana']\n",
    "for name in favorite_languages.keys():\n",
    "    print(f\"Hi {name.title()}.\")\n",
    "    if name in friends:\n",
    "        language = favorite_languages[name].title()\n",
    "        print(f\"\\t{name.title()}, I see you love {language}!\")"
   ]
  },
  {
   "cell_type": "markdown",
   "id": "7192255d-ff9c-458f-9e2c-254daf56488d",
   "metadata": {},
   "source": [
    "#### Looping Through a Dictionary's Keys in a Particular Order"
   ]
  },
  {
   "cell_type": "code",
   "execution_count": 25,
   "id": "c8948787-e1b2-42b0-8bf5-da6c4714e527",
   "metadata": {},
   "outputs": [
    {
     "name": "stdout",
     "output_type": "stream",
     "text": [
      "Ali, thank you for taking the poll.\n",
      "Alireza, thank you for taking the poll.\n",
      "Ariana, thank you for taking the poll.\n",
      "Reza, thank you for taking the poll.\n"
     ]
    }
   ],
   "source": [
    "favorite_languages = {\n",
    "    'Alireza': 'Python',\n",
    "    'Ali': 'C',\n",
    "    'Reza': 'Java',\n",
    "    'Ariana': 'Python', \n",
    "}\n",
    "\n",
    "for name in sorted(favorite_languages.keys()):\n",
    "    print(f\"{name}, thank you for taking the poll.\")"
   ]
  },
  {
   "cell_type": "markdown",
   "id": "d5848b81-4821-44bd-aa2d-982c80242b8d",
   "metadata": {},
   "source": [
    "#### Looping Through All Values"
   ]
  },
  {
   "cell_type": "code",
   "execution_count": 26,
   "id": "efb83ea5-8c06-40e4-b623-e1cc93dde157",
   "metadata": {},
   "outputs": [
    {
     "name": "stdout",
     "output_type": "stream",
     "text": [
      "Python\n",
      "C\n",
      "Java\n",
      "Python\n"
     ]
    }
   ],
   "source": [
    "favorite_languages = {\n",
    "    'Alireza': 'Python',\n",
    "    'Ali': 'C',\n",
    "    'Reza': 'Java',\n",
    "    'Ariana': 'Python', \n",
    "}\n",
    "\n",
    "for language in favorite_languages.values():\n",
    "    print(f\"{language}\")\n",
    "\n"
   ]
  },
  {
   "cell_type": "code",
   "execution_count": 27,
   "id": "625b3246-2179-444c-a278-3c60292c69a7",
   "metadata": {},
   "outputs": [
    {
     "name": "stdout",
     "output_type": "stream",
     "text": [
      "dict_values(['Python', 'C', 'Java', 'Python'])\n",
      "['Python', 'C', 'Java', 'Python']\n",
      "{'C', 'Java', 'Python'}\n"
     ]
    }
   ],
   "source": [
    "print (favorite_languages.values())\n",
    "\n",
    "list_values = list(favorite_languages.values())\n",
    "print (list_values)\n",
    "\n",
    "set_values = set(favorite_languages.values())\n",
    "print (set_values)"
   ]
  },
  {
   "cell_type": "code",
   "execution_count": 28,
   "id": "31f7ac07-d181-4081-a56c-8d15fb7a0b96",
   "metadata": {},
   "outputs": [
    {
     "name": "stdout",
     "output_type": "stream",
     "text": [
      "The following languages have been mentioned:\n",
      "C\n",
      "Java\n",
      "Python\n"
     ]
    }
   ],
   "source": [
    "print(\"The following languages have been mentioned:\")\n",
    "for language in set(favorite_languages.values()):\n",
    "    print(language)"
   ]
  },
  {
   "cell_type": "markdown",
   "id": "784297a7-3bc3-4567-915d-2889d5bf5220",
   "metadata": {},
   "source": [
    "### Nesting"
   ]
  },
  {
   "cell_type": "markdown",
   "id": "2b9395f7-843e-4656-8142-c90244805c66",
   "metadata": {},
   "source": [
    "#### A list of Dictionaries"
   ]
  },
  {
   "cell_type": "code",
   "execution_count": 29,
   "id": "9ea23b8b-9c05-4650-a944-48b12191cda9",
   "metadata": {},
   "outputs": [
    {
     "name": "stdout",
     "output_type": "stream",
     "text": [
      "[{'name': 'alireza', 'id_number': 1545, 'gender': 'male'}, {'name': 'reza', 'id_number': 1465, 'gender': 'male'}, {'name': 'ariana', 'id_number': 1648, 'gender': 'female'}]\n",
      "****************************************************************************************************\n",
      "0: {'name': 'alireza', 'id_number': 1545, 'gender': 'male'}\n",
      "1: {'name': 'reza', 'id_number': 1465, 'gender': 'male'}\n",
      "2: {'name': 'ariana', 'id_number': 1648, 'gender': 'female'}\n"
     ]
    }
   ],
   "source": [
    "person_0 = {'name': 'alireza', 'id_number': 1545, 'gender': 'male'}\n",
    "person_1 = {'name': 'reza', 'id_number': 1465, 'gender': 'male'}\n",
    "person_2 = {'name': 'ariana', 'id_number': 1648, 'gender': 'female'}\n",
    "\n",
    "list_of_people = [person_0, person_1, person_2]\n",
    "print (list_of_people)\n",
    "\n",
    "\n",
    "print (100*\"*\")\n",
    "for i, person in enumerate(list_of_people):\n",
    "    print (f\"{i}: {person}\")"
   ]
  },
  {
   "cell_type": "code",
   "execution_count": null,
   "id": "9fc33429-3c55-4378-b195-5fe8fb29fcb4",
   "metadata": {},
   "outputs": [],
   "source": []
  },
  {
   "cell_type": "markdown",
   "id": "6bf6e875-1153-416b-84c2-5876dd9ec038",
   "metadata": {},
   "source": [
    "#### A List in a Dictionary"
   ]
  },
  {
   "cell_type": "code",
   "execution_count": 30,
   "id": "e1164df3-bab2-4b18-9a62-1d63d997d919",
   "metadata": {},
   "outputs": [
    {
     "name": "stdout",
     "output_type": "stream",
     "text": [
      "\n",
      "Alireza's favorite languages are:\n",
      "\tC\n",
      "\tC++\n",
      "\tPython\n",
      "\n",
      "Ali's favorite languages are:\n",
      "\tC\n",
      "\tLabview\n",
      "\tPython\n",
      "\tC#\n",
      "\n",
      "Reza's favorite languages are:\n",
      "\tC\n",
      "\tC++\n",
      "\tPython\n",
      "\tGo\n",
      "\n",
      "Ariana's favorite languages are:\n",
      "\tC\n",
      "\tC++\n",
      "\tJava\n",
      "\tJavascript\n",
      "\tPython\n"
     ]
    }
   ],
   "source": [
    "person_0 = {'name': 'alireza', 'languages': ['C', 'C++', 'Python']}\n",
    "person_1 = {'name': 'reza', 'languages': ['C', 'LabVIEW', 'Python', 'C#']}\n",
    "person_2 = {'name': 'ariana', 'languages': ['C', 'C++', 'Java', 'JavaScript', 'Python']}\n",
    "\n",
    "\n",
    "favorite_languages = {\n",
    "    'Alireza': ['C', 'C++', 'Python'],\n",
    "    'Ali': ['C', 'LabVIEW', 'Python', 'C#'],\n",
    "    'Reza': ['C', 'C++', 'Python', 'Go'],\n",
    "    'Ariana': ['C', 'C++', 'Java', 'JavaScript', 'Python'], \n",
    "}\n",
    "\n",
    "for name, languages in favorite_languages.items():\n",
    "    print(f\"\\n{name.title()}'s favorite languages are:\")\n",
    "    for language in languages:\n",
    "        print(f\"\\t{language.title()}\")"
   ]
  },
  {
   "cell_type": "markdown",
   "id": "4c844c3c-359b-462c-8bfd-3161a6ee8ffc",
   "metadata": {},
   "source": [
    "***Note:*** *You should not nest lists and dictionaries too deeply. If you’re nesting items much deeper than what you see in the preceding examples, or if you’re working with someone else’s code with significant levels of nesting, there’s most likely a simpler way to solve the problem.*"
   ]
  },
  {
   "cell_type": "markdown",
   "id": "08053936-5a3d-48c4-aada-6129b79c4091",
   "metadata": {},
   "source": [
    "#### A Dictionary in a Dictionary"
   ]
  },
  {
   "cell_type": "code",
   "execution_count": 31,
   "id": "06650b46-9a48-45af-abb3-7f06d49773ce",
   "metadata": {},
   "outputs": [],
   "source": [
    "users = {\n",
    "    'akh': {\n",
    "        'name': 'alireza',\n",
    "        'email': 'alireza@python.com',\n",
    "    },\n",
    "    'akh2024': {\n",
    "        'name': 'ariana',\n",
    "        'email': 'ariana@python.com'\n",
    "    },\n",
    "}"
   ]
  },
  {
   "cell_type": "code",
   "execution_count": 32,
   "id": "dd7e4690-57c1-4170-a361-ecbbc66261b7",
   "metadata": {},
   "outputs": [
    {
     "name": "stdout",
     "output_type": "stream",
     "text": [
      "\n",
      "Username: akh\n",
      "\tname: alireza\n",
      "\temail: alireza@python.com\n",
      "\n",
      "Username: akh2024\n",
      "\tname: ariana\n",
      "\temail: ariana@python.com\n"
     ]
    }
   ],
   "source": [
    "for username, user_info in users.items():\n",
    "    print(f\"\\nUsername: {username}\")\n",
    "    name = f\"{user_info['name']}\"\n",
    "    email = f\"{user_info['email']}\"\n",
    "    print(f\"\\tname: {name}\")\n",
    "    print(f\"\\temail: {email}\")\n"
   ]
  },
  {
   "cell_type": "markdown",
   "id": "e315dbee-8f53-4534-90ec-df3d9be9785a",
   "metadata": {},
   "source": [
    "## Summary"
   ]
  },
  {
   "cell_type": "markdown",
   "id": "1dd8a365-fe2e-43a6-82f3-508073661128",
   "metadata": {},
   "source": [
    "* Defining a dictionary: Learned how to create and initialize dictionaries.\n",
    "\n",
    "* Accessing and modifying elements: Understood how to retrieve and update individual elements in a dictionary.\n",
    "\n",
    "* Looping through dictionaries:\n",
    "\n",
    "    * Looped through key-value pairs, keys, and values in a dictionary.\n",
    "\n",
    "* Nesting data structures:\n",
    "\n",
    "    * Nested multiple dictionaries in a list.\n",
    "\n",
    "    * Nested lists in a dictionary.\n",
    "\n",
    "    * Nested a dictionary inside another dictionary.\n",
    "\n",
    "* Next chapter preview:\n",
    "\n",
    "    * Will learn about while loops.\n",
    "\n",
    "    * Will learn to accept user input to make programs interactive.\n",
    "\n",
    "    * Programs will respond to user input, making them more dynamic and engaging."
   ]
  }
 ],
 "metadata": {
  "kernelspec": {
   "display_name": "Python 3 (ipykernel)",
   "language": "python",
   "name": "python3"
  },
  "language_info": {
   "codemirror_mode": {
    "name": "ipython",
    "version": 3
   },
   "file_extension": ".py",
   "mimetype": "text/x-python",
   "name": "python",
   "nbconvert_exporter": "python",
   "pygments_lexer": "ipython3",
   "version": "3.9.19"
  }
 },
 "nbformat": 4,
 "nbformat_minor": 5
}
