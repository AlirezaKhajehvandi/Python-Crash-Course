{
 "cells": [
  {
   "cell_type": "markdown",
   "id": "409ae255-3500-4ccd-b937-b6d8d23378ae",
   "metadata": {},
   "source": [
    "# Data type\n",
    "* str `x = \"My name is Alireza\"`\n",
    "* int `x = 19`\n",
    "* float `x = 19.5`\n",
    "* complex `x = 3j + 5`\n",
    "* list `x = [\"apple\", \"banana\", \"cherry\"]`\n",
    "* tuple `x = (\"apple\", \"banana\", \"cherry\")`\n",
    "* range `x = range(3)`\n",
    "* set `x = {\"ali\", \"alierza\", \"akh\"}`\n",
    "* frozenset `x = frozenset({\"ali\", \"alierza\", \"akh\"})`\n",
    "* bool `x = True`\n",
    "* bytes `x = b\"Alireza\"`\n",
    "* bytearray `x = bytearray(6)`\n",
    "* NoneType `None`\n",
    "* memoryview `x = memoryview(bytes(3))`\n",
    "* dict `x = {\"name\" : \"Alireza\", \"age\" : 50}"
   ]
  },
  {
   "cell_type": "code",
   "execution_count": 23,
   "id": "b5cf7768-f732-40b6-996f-54113b330ab0",
   "metadata": {},
   "outputs": [
    {
     "name": "stdout",
     "output_type": "stream",
     "text": [
      "[1, 2, 2, 3, 2, 3, 3, 4]\n",
      "3\n",
      "{1, 2, 3, 4}\n",
      "{1, 3, 4}\n",
      "{1, 2, 3, 4}\n"
     ]
    }
   ],
   "source": [
    "mylist = [1, 2, 2, 3, 2, 3, 3, 4]\n",
    "print (mylist)\n",
    "print (mylist[3])\n",
    "\n",
    "myset = {1, 2, 2, 3, 2, 3, 3, 4}\n",
    "print (myset)\n",
    "myset.remove(2)\n",
    "print (myset)\n",
    "myset.add(2)\n",
    "print (myset)"
   ]
  },
  {
   "cell_type": "code",
   "execution_count": 37,
   "id": "0acc1a0a-a96e-4772-8fdd-8fcac08390ab",
   "metadata": {},
   "outputs": [
    {
     "name": "stdout",
     "output_type": "stream",
     "text": [
      "{2: 'Alireza', 'age': 50, 'name': 'Alireza'}\n",
      "Alireza\n",
      "Alireza\n"
     ]
    }
   ],
   "source": [
    "x = {2 : \"Alireza\", \n",
    "     \"age\" : 50,\n",
    "     \"name\" : \"Alireza\"}\n",
    "print (x)\n",
    "print (x[2])\n",
    "print (x[\"name\"])"
   ]
  },
  {
   "cell_type": "code",
   "execution_count": 45,
   "id": "0a015305-19bb-49f2-8c80-c7540da3b9a0",
   "metadata": {},
   "outputs": [
    {
     "data": {
      "text/plain": [
       "5"
      ]
     },
     "execution_count": 45,
     "metadata": {},
     "output_type": "execute_result"
    }
   ],
   "source": [
    "int(5.3)"
   ]
  },
  {
   "cell_type": "code",
   "execution_count": 1,
   "id": "64feefaf-3e2d-4c29-95b0-1990ec263f07",
   "metadata": {},
   "outputs": [
    {
     "name": "stdout",
     "output_type": "stream",
     "text": [
      "5\n"
     ]
    }
   ],
   "source": [
    "y = 5\n",
    "print (y)"
   ]
  },
  {
   "cell_type": "code",
   "execution_count": null,
   "id": "6e80180f-e4de-40cc-be59-5b3588e18c8b",
   "metadata": {},
   "outputs": [],
   "source": []
  },
  {
   "cell_type": "code",
   "execution_count": null,
   "id": "171c5a51-7d8c-4a35-ad7c-4049d256868d",
   "metadata": {},
   "outputs": [],
   "source": []
  },
  {
   "cell_type": "code",
   "execution_count": null,
   "id": "10d601d6-053f-4997-b2c7-6c6b90b5548b",
   "metadata": {},
   "outputs": [],
   "source": []
  },
  {
   "cell_type": "code",
   "execution_count": null,
   "id": "72bd0195-316a-46ff-90fc-cc0ea9144b25",
   "metadata": {},
   "outputs": [],
   "source": []
  },
  {
   "cell_type": "code",
   "execution_count": null,
   "id": "4ce9bff3-35bc-4ef1-a532-1e76f412fc6c",
   "metadata": {},
   "outputs": [],
   "source": []
  },
  {
   "cell_type": "code",
   "execution_count": null,
   "id": "13e0c3f8-7a97-420d-9d92-f647283fe881",
   "metadata": {},
   "outputs": [],
   "source": []
  },
  {
   "cell_type": "code",
   "execution_count": null,
   "id": "32e4d0a5-baae-4984-976d-47aa9a9e9631",
   "metadata": {},
   "outputs": [],
   "source": []
  },
  {
   "cell_type": "code",
   "execution_count": null,
   "id": "f0187078-3b42-4017-a58b-dec91a8bdc34",
   "metadata": {},
   "outputs": [],
   "source": []
  },
  {
   "cell_type": "code",
   "execution_count": null,
   "id": "d430810d-a6bb-4a72-88ed-33fba70b5786",
   "metadata": {},
   "outputs": [],
   "source": []
  },
  {
   "cell_type": "code",
   "execution_count": null,
   "id": "c076ddcd-e7a7-4472-b7bb-ee65beb9ce87",
   "metadata": {},
   "outputs": [],
   "source": []
  },
  {
   "cell_type": "code",
   "execution_count": 38,
   "id": "a8eccca9-b6e1-4bb0-9de4-2d59db70c7db",
   "metadata": {},
   "outputs": [
    {
     "name": "stdout",
     "output_type": "stream",
     "text": [
      "72\n",
      "bytearray(b'Hillo')\n"
     ]
    }
   ],
   "source": [
    "# Creating a memory view of a bytearray\n",
    "data = bytearray(\"Hello\", \"utf-8\")\n",
    "# data = bytearray(b\"Hello\")\n",
    "mv = memoryview(data)                \n",
    "# print (mv)\n",
    "print(mv[0]) \n",
    "mv[1] = 105           \n",
    "print(data)       \n"
   ]
  },
  {
   "cell_type": "code",
   "execution_count": null,
   "id": "01923859-fb6f-4333-b81f-28024d8f4c54",
   "metadata": {},
   "outputs": [],
   "source": []
  },
  {
   "cell_type": "code",
   "execution_count": 26,
   "id": "fe66626d-c18f-4ea2-818c-c8b04955f7fc",
   "metadata": {},
   "outputs": [
    {
     "name": "stdout",
     "output_type": "stream",
     "text": [
      "bytearray(b'\\x00\\x00\\x00')\n",
      "0\n",
      "bytearray(b'ALI')\n"
     ]
    }
   ],
   "source": [
    "data = bytearray(3)\n",
    "mv = memoryview(data)   \n",
    "print (data)\n",
    "# print (mv)\n",
    "print(mv[0]) \n",
    "mv[0] = 65\n",
    "mv[1] = 76           \n",
    "mv[2] = 73           \n",
    "       \n",
    "print(data)       \n"
   ]
  },
  {
   "cell_type": "code",
   "execution_count": null,
   "id": "e8d43e0c-929c-42d7-9fb3-474498ea5ccb",
   "metadata": {},
   "outputs": [],
   "source": [
    "print (data[0])"
   ]
  },
  {
   "cell_type": "code",
   "execution_count": null,
   "id": "20270a13-5879-4aa0-8742-5c60f2ed5a40",
   "metadata": {},
   "outputs": [],
   "source": []
  },
  {
   "cell_type": "markdown",
   "id": "f47cb506-4628-4213-8a96-495cb319a41d",
   "metadata": {},
   "source": [
    "# Setting the Specific Data Type\n",
    "* `int()`\n",
    "* `float()`\n",
    "* `list()`\n",
    "* `touple()`\n",
    "* `str()`\n",
    "* `...`"
   ]
  },
  {
   "cell_type": "code",
   "execution_count": 44,
   "id": "039d003a-0017-4979-9a97-b0d6706573d5",
   "metadata": {},
   "outputs": [
    {
     "name": "stdout",
     "output_type": "stream",
     "text": [
      "{'name': 'amir', 'age': '25'}\n"
     ]
    }
   ],
   "source": [
    "a = list([1, 2, 3, 4]) \n",
    "person = {\n",
    "    \"name\" : \"amir\",\n",
    "    \"age\" : \"25\",\n",
    "}\n",
    "\n",
    "print (dic)"
   ]
  },
  {
   "cell_type": "code",
   "execution_count": null,
   "id": "6fef64e5-11e2-45c5-86f3-a07b1bdb6319",
   "metadata": {},
   "outputs": [],
   "source": [
    "a = tuple([1, 2, 3, 5])"
   ]
  },
  {
   "cell_type": "code",
   "execution_count": null,
   "id": "1ec2d808-2dc6-4ae2-b17a-015edff5444c",
   "metadata": {},
   "outputs": [],
   "source": [
    "print (a)"
   ]
  },
  {
   "cell_type": "markdown",
   "id": "453c355c-0e64-4e6f-8de4-d124d863ac6f",
   "metadata": {},
   "source": [
    "# Python Casting\n",
    "* `int()`\n",
    "* `float()`\n",
    "* `str()`"
   ]
  },
  {
   "cell_type": "code",
   "execution_count": 49,
   "id": "25459952-77b0-4da4-8b5e-af52e1860e37",
   "metadata": {},
   "outputs": [
    {
     "name": "stdout",
     "output_type": "stream",
     "text": [
      "<class 'int'>\n",
      "<class 'float'>\n",
      "<class 'str'>\n",
      "********************\n",
      "<class 'int'>\n",
      "<class 'float'>\n",
      "<class 'str'>\n",
      "<class 'float'>\n",
      "6\n",
      "5.0\n",
      "5.0\n",
      "1.5\n"
     ]
    }
   ],
   "source": [
    "num_int = 5\n",
    "num_float = 6.3\n",
    "mystr = \"1.5\"\n",
    "\n",
    "print (type(num_int))\n",
    "print (type(num_float))\n",
    "print (type(mystr))\n",
    "\n",
    "new_int = int(num_float)\n",
    "new_float = float(num_int)\n",
    "new_str = str(new_float)\n",
    "new_new_int = float(mystr)\n",
    "print (20*\"*\")\n",
    "print (type(new_int))\n",
    "print (type(new_float))\n",
    "print (type(new_str))\n",
    "print (type(new_new_int))\n",
    "\n",
    "print (new_int)\n",
    "print (new_float)\n",
    "print (new_str)\n",
    "print (new_new_int)"
   ]
  },
  {
   "cell_type": "markdown",
   "id": "b19b722e-c422-49ff-98d0-fd56e0d5e347",
   "metadata": {},
   "source": [
    "# Python Operators\n",
    "* Arithmetic Operators\n",
    "* Comparison Operators\n",
    "* Logical Operators\n",
    "* Bitwise Operators\n",
    "* Assignment Operators\n",
    "* Identity Operators & Membership Operators\n",
    "* Ternary Operator"
   ]
  },
  {
   "cell_type": "code",
   "execution_count": 50,
   "id": "69991b1c-b0d2-4d3e-a742-6d053cc0deed",
   "metadata": {},
   "outputs": [
    {
     "name": "stdout",
     "output_type": "stream",
     "text": [
      "Binary: 1010\n",
      "Hexadecimal: a\n"
     ]
    }
   ],
   "source": [
    "number = 10\n",
    "print(f\"Binary: {number:b}\")\n",
    "\n",
    "number = 10\n",
    "print(f\"Hexadecimal: {number:x}\")"
   ]
  },
  {
   "cell_type": "code",
   "execution_count": null,
   "id": "41ea24fc-d5e8-40db-9313-33b62bfe9871",
   "metadata": {},
   "outputs": [],
   "source": []
  },
  {
   "cell_type": "markdown",
   "id": "d71d6770-8b07-4d91-971c-6d79d0dc9adf",
   "metadata": {},
   "source": [
    "## Example of Arithmetic Operators in Python:"
   ]
  },
  {
   "cell_type": "code",
   "execution_count": 52,
   "id": "b030afeb-eb4d-4b0e-ace8-f9255fff280e",
   "metadata": {},
   "outputs": [
    {
     "name": "stdout",
     "output_type": "stream",
     "text": [
      "Addition: 14\n",
      "Subtraction: 6\n",
      "Multiplication: 40\n",
      "Division: 2.5\n",
      "Floor Division: 2\n",
      "Modulus: 2\n",
      "Exponentiation: 10000\n"
     ]
    }
   ],
   "source": [
    "# Variables\n",
    "a = 10\n",
    "b = 4\n",
    "\n",
    "# Addition\n",
    "print(\"Addition:\", a + b)\n",
    "\n",
    "# print (20*\"*\")\n",
    "# print(\"Addition:\", \"sdf\", \"asdf\")\n",
    "# print(a + b)\n",
    "\n",
    "# Subtraction\n",
    "print(\"Subtraction:\", a - b) \n",
    "\n",
    "# Multiplication\n",
    "print(\"Multiplication:\", a * b)  \n",
    "\n",
    "# Division\n",
    "print(\"Division:\", a / b) \n",
    "\n",
    "# Floor Division\n",
    "print(\"Floor Division:\", a // b)  \n",
    "\n",
    "# Modulus\n",
    "print(\"Modulus:\", a % b) \n",
    "\n",
    "# Exponentiation\n",
    "print(\"Exponentiation:\", a ** b)  "
   ]
  },
  {
   "cell_type": "code",
   "execution_count": null,
   "id": "476474d0-9637-48d4-bb12-a80274f8e375",
   "metadata": {},
   "outputs": [],
   "source": []
  },
  {
   "cell_type": "markdown",
   "id": "a361a586-1e9d-40e8-af3e-3b68c987fc96",
   "metadata": {},
   "source": [
    "## Example of Comparison Operators in Python"
   ]
  },
  {
   "cell_type": "code",
   "execution_count": 53,
   "id": "99f9a6c7-6c40-4f08-b700-394885a8ee3d",
   "metadata": {},
   "outputs": [
    {
     "name": "stdout",
     "output_type": "stream",
     "text": [
      "11 > 22 ? False\n",
      "True\n",
      "False\n",
      "True\n",
      "False\n",
      "True\n"
     ]
    }
   ],
   "source": [
    "a = 11\n",
    "b = 22\n",
    "\n",
    "print(\"11 > 22 ?\", a > b)\n",
    "print(a < b)\n",
    "print(a == b)\n",
    "print(a != b and a < 15)\n",
    "print(a >= b)\n",
    "print(a <= b)"
   ]
  },
  {
   "cell_type": "markdown",
   "id": "6a9345b2-76d0-4db0-a973-5b410b206637",
   "metadata": {},
   "source": [
    "## Example of Logical Operators in Python:"
   ]
  },
  {
   "cell_type": "code",
   "execution_count": 56,
   "id": "995147ea-8b32-44b8-a809-7028fb052dc9",
   "metadata": {},
   "outputs": [
    {
     "name": "stdout",
     "output_type": "stream",
     "text": [
      "True\n",
      "True\n",
      "True\n"
     ]
    }
   ],
   "source": [
    "a = True\n",
    "b = False\n",
    "print(1 > 0 and 2 > 1)\n",
    "print(a or b)\n",
    "print(not b)"
   ]
  },
  {
   "cell_type": "code",
   "execution_count": 57,
   "id": "da411532-6292-4aea-aa92-b9f902fcd6d0",
   "metadata": {},
   "outputs": [
    {
     "name": "stdout",
     "output_type": "stream",
     "text": [
      "Binary: 1010\n",
      "Binary: 10\n"
     ]
    }
   ],
   "source": [
    "number = 10\n",
    "print(f\"Binary: {number:b}\")\n",
    "number = 2\n",
    "print(f\"Binary: {number:b}\")"
   ]
  },
  {
   "cell_type": "markdown",
   "id": "0c1a596b-f0ba-4144-b8a1-494bb01e7e1b",
   "metadata": {},
   "source": [
    "## Example of Bitwise Operators in Python:\n",
    "* Bitwise NOT\n",
    "* Bitwise Shift\n",
    "* Bitwise AND\n",
    "* Bitwise XOR\n",
    "* Bitwise OR"
   ]
  },
  {
   "cell_type": "code",
   "execution_count": 60,
   "id": "0f418ea9-105b-41ef-92ee-05dc716eb108",
   "metadata": {},
   "outputs": [
    {
     "name": "stdout",
     "output_type": "stream",
     "text": [
      "Binary: 1010\n",
      "   \n",
      "Binary: 1001\n",
      "   \n"
     ]
    }
   ],
   "source": [
    "a = 10\n",
    "print(f\"Binary: {a:b}\")\n",
    "b = 9\n",
    "print(\"   \")\n",
    "print(f\"Binary: {b:b}\")\n",
    "print(\"   \")\n"
   ]
  },
  {
   "cell_type": "code",
   "execution_count": 61,
   "id": "30fc9018-879e-4ef9-a549-a789320a203e",
   "metadata": {},
   "outputs": [
    {
     "name": "stdout",
     "output_type": "stream",
     "text": [
      "8\n",
      "11\n",
      "-11\n",
      "3\n",
      "2\n",
      "40\n"
     ]
    }
   ],
   "source": [
    "print(a & b)\n",
    "print(a | b)\n",
    "print(~a)\n",
    "print(a ^ b)\n",
    "print(a >> 2)\n",
    "print(a << 2)"
   ]
  },
  {
   "cell_type": "code",
   "execution_count": null,
   "id": "263c9612-77b6-49f9-a466-38a38a9deccb",
   "metadata": {},
   "outputs": [],
   "source": []
  },
  {
   "cell_type": "code",
   "execution_count": null,
   "id": "0409a317-32de-403b-8bb1-b679c182d6b9",
   "metadata": {},
   "outputs": [],
   "source": []
  },
  {
   "cell_type": "markdown",
   "id": "f07660c8-2e5d-437a-97e7-a47f76d8fd68",
   "metadata": {},
   "source": [
    "## Example of Assignment Operators in Python:"
   ]
  },
  {
   "cell_type": "code",
   "execution_count": 62,
   "id": "dc4e5e4d-d4fb-4e93-b552-f009409cc5b9",
   "metadata": {},
   "outputs": [
    {
     "name": "stdout",
     "output_type": "stream",
     "text": [
      "10\n",
      "20\n",
      "10\n",
      "100\n",
      "102400\n"
     ]
    }
   ],
   "source": [
    "a = 10\n",
    "b = a\n",
    "print(b)\n",
    "b += a # b = b + a\n",
    "print(b)\n",
    "b -= a # b = b - a\n",
    "print(b)\n",
    "b *= a # b = b * a\n",
    "print(b) \n",
    "b <<= a # b = b << a\n",
    "print(b)"
   ]
  },
  {
   "cell_type": "code",
   "execution_count": 63,
   "id": "83e9bf3f-7ea8-417d-a372-8fad0112b34b",
   "metadata": {},
   "outputs": [
    {
     "name": "stdout",
     "output_type": "stream",
     "text": [
      "Binary: 100\n",
      "Binary: 10000\n",
      "Binary: 10\n"
     ]
    }
   ],
   "source": [
    "x = 4\n",
    "print(f\"Binary: {x:b}\")\n",
    "\n",
    "x = x << 2\n",
    "print(f\"Binary: {x:b}\")\n",
    "\n",
    "x >>= 3\n",
    "print(f\"Binary: {x:b}\")"
   ]
  },
  {
   "cell_type": "markdown",
   "id": "0c0ce743-b554-45fd-baa4-7e0e6a234eb9",
   "metadata": {},
   "source": [
    "## Example of Identity Operators in Python:"
   ]
  },
  {
   "cell_type": "code",
   "execution_count": 64,
   "id": "deec9f4b-c80b-47c5-a3a6-65944ff5efaa",
   "metadata": {},
   "outputs": [
    {
     "name": "stdout",
     "output_type": "stream",
     "text": [
      "True\n",
      "True\n"
     ]
    }
   ],
   "source": [
    "a = 10\n",
    "b = 20\n",
    "c = a\n",
    "\n",
    "print(a is not b)\n",
    "print(a is c)"
   ]
  },
  {
   "cell_type": "code",
   "execution_count": 76,
   "id": "c176f3cb-4cb5-4433-bf12-665dafd96f6a",
   "metadata": {},
   "outputs": [
    {
     "name": "stdout",
     "output_type": "stream",
     "text": [
      "True\n"
     ]
    }
   ],
   "source": [
    "x = [1, 2, 3]\n",
    "y = [1, 2, 3]\n",
    "z = x\n",
    "\n",
    "# Equality comparison (==)\n",
    "if x == y:\n",
    "    print(\"True\")\n",
    "else:\n",
    "    print(\"False\")\n"
   ]
  },
  {
   "cell_type": "code",
   "execution_count": 77,
   "id": "74f923cb-6739-4da7-b57b-b90a0148deae",
   "metadata": {},
   "outputs": [
    {
     "name": "stdout",
     "output_type": "stream",
     "text": [
      "False\n",
      "True\n"
     ]
    }
   ],
   "source": [
    "x = [1, 2, 3]\n",
    "y = [1, 2, 3]\n",
    "z = x\n",
    "\n",
    "\n",
    "# Case 1: Identity comparison (is)\n",
    "if x is y:\n",
    "    print(\"True\")\n",
    "else:\n",
    "    print(\"False\")\n",
    "\n",
    "# Case 2: Comparing references (is)\n",
    "if x is z:\n",
    "    print(\"True\")\n",
    "else:\n",
    "    print(\"False\")"
   ]
  },
  {
   "cell_type": "code",
   "execution_count": 69,
   "id": "517cbc13-f6a8-4fcd-b45b-28b5602cdd23",
   "metadata": {},
   "outputs": [],
   "source": [
    "a = [1, 2, 3]\n",
    "b = [1, 2, 3]\n",
    "z = a\n",
    "\n",
    "z[0] = 6"
   ]
  },
  {
   "cell_type": "code",
   "execution_count": 70,
   "id": "759c1129-7431-44da-80b8-659d0970f32b",
   "metadata": {},
   "outputs": [
    {
     "name": "stdout",
     "output_type": "stream",
     "text": [
      "[6, 2, 3]\n",
      "[1, 2, 3]\n",
      "[6, 2, 3]\n"
     ]
    }
   ],
   "source": [
    "print (a)\n",
    "print (b)\n",
    "print (z)"
   ]
  },
  {
   "cell_type": "code",
   "execution_count": 73,
   "id": "cd59bc1b-8d3b-4de8-906a-ef63cf0d77da",
   "metadata": {},
   "outputs": [
    {
     "data": {
      "text/plain": [
       "False"
      ]
     },
     "execution_count": 73,
     "metadata": {},
     "output_type": "execute_result"
    }
   ],
   "source": [
    "x is y"
   ]
  },
  {
   "cell_type": "markdown",
   "id": "4639b568-f6ee-4027-bd14-f0e29870b4a8",
   "metadata": {},
   "source": [
    "## Examples of Membership Operators in Python:"
   ]
  },
  {
   "cell_type": "code",
   "execution_count": 81,
   "id": "c45c297e-0335-49b9-93fc-f9b1a9e8937b",
   "metadata": {},
   "outputs": [
    {
     "name": "stdout",
     "output_type": "stream",
     "text": [
      "x is NOT present in given list\n",
      "y is present in given list\n"
     ]
    }
   ],
   "source": [
    "x = 24\n",
    "y = 20\n",
    "list = [10, 20, 30, 40, 50]\n",
    "\n",
    "if (x not in list):\n",
    "    print(\"x is NOT present in given list\")\n",
    "else:\n",
    "    print(\"x is present in given list\")\n",
    "\n",
    "if (y in list):\n",
    "    print(\"y is present in given list\")\n",
    "else:\n",
    "    print(\"y is NOT present in given list\")"
   ]
  },
  {
   "cell_type": "code",
   "execution_count": null,
   "id": "66f681e9-df34-4a21-bde7-fb958ced1169",
   "metadata": {},
   "outputs": [],
   "source": []
  },
  {
   "cell_type": "markdown",
   "id": "1b1c9ab3-045f-4859-bd82-caf23acadb0b",
   "metadata": {},
   "source": [
    "## Example of Ternary Operator in Python"
   ]
  },
  {
   "cell_type": "code",
   "execution_count": 83,
   "id": "264a869f-38b4-4e08-9d58-5da07debdb92",
   "metadata": {},
   "outputs": [
    {
     "name": "stdout",
     "output_type": "stream",
     "text": [
      "False\n"
     ]
    }
   ],
   "source": [
    "if 10 > 50: \n",
    "    print (True)\n",
    "else:\n",
    "    print(False)\n",
    "\n",
    "\n",
    "\n",
    "    "
   ]
  },
  {
   "cell_type": "code",
   "execution_count": 86,
   "id": "95fa3158-0c54-4a5b-afac-18eb916740fb",
   "metadata": {},
   "outputs": [
    {
     "name": "stdout",
     "output_type": "stream",
     "text": [
      "a = 10, b = 20\n",
      "20\n"
     ]
    }
   ],
   "source": [
    "a, b, c = 10, 20, 30\n",
    "print (f\"a = {a}, b = {b}\")\n",
    "min_ = a if a > b else b\n",
    "\n",
    "print(min_)"
   ]
  },
  {
   "cell_type": "code",
   "execution_count": null,
   "id": "4deeed56-3b2c-4016-acdc-26c2993fb846",
   "metadata": {},
   "outputs": [],
   "source": []
  },
  {
   "cell_type": "code",
   "execution_count": null,
   "id": "3b8319fa-8ebc-452e-859b-510eff0f74e3",
   "metadata": {},
   "outputs": [],
   "source": []
  },
  {
   "cell_type": "code",
   "execution_count": null,
   "id": "eb021fcb-fc3c-4629-9993-89e54e72838c",
   "metadata": {},
   "outputs": [],
   "source": []
  },
  {
   "cell_type": "code",
   "execution_count": null,
   "id": "36587491-745e-40fa-9426-cc7f8d3c1b31",
   "metadata": {},
   "outputs": [],
   "source": []
  },
  {
   "cell_type": "code",
   "execution_count": null,
   "id": "9e32fadd-b983-4e87-863c-ec0487059550",
   "metadata": {},
   "outputs": [],
   "source": []
  },
  {
   "cell_type": "code",
   "execution_count": null,
   "id": "62a8ed8e-f21d-4af9-9d7f-01e59956f645",
   "metadata": {},
   "outputs": [],
   "source": []
  },
  {
   "cell_type": "code",
   "execution_count": null,
   "id": "4634b7f1-4623-4be2-98b5-2e0d7e6c5622",
   "metadata": {},
   "outputs": [],
   "source": []
  }
 ],
 "metadata": {
  "kernelspec": {
   "display_name": "Python 3 (ipykernel)",
   "language": "python",
   "name": "python3"
  },
  "language_info": {
   "codemirror_mode": {
    "name": "ipython",
    "version": 3
   },
   "file_extension": ".py",
   "mimetype": "text/x-python",
   "name": "python",
   "nbconvert_exporter": "python",
   "pygments_lexer": "ipython3",
   "version": "3.12.5"
  }
 },
 "nbformat": 4,
 "nbformat_minor": 5
}
