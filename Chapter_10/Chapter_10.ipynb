{
 "cells": [
  {
   "cell_type": "markdown",
   "id": "1b23eb17-73c6-47c6-929b-3201590879e3",
   "metadata": {},
   "source": [
    "# **Files and Exceptions**\n",
    "***In this chapter, you'll learn how to work with files to store your data.***\n",
    "\n",
    "***Book: Python Crash Course!***"
   ]
  },
  {
   "cell_type": "markdown",
   "id": "54cf6594-e770-4ec1-a572-ed1c55df8141",
   "metadata": {},
   "source": [
    "## Reading from a file"
   ]
  },
  {
   "cell_type": "code",
   "execution_count": null,
   "id": "93633756-c04d-4b1f-8de0-3067b33f4ff1",
   "metadata": {},
   "outputs": [],
   "source": []
  },
  {
   "cell_type": "markdown",
   "id": "53c62a40-e968-4f97-9769-ff485646e18f",
   "metadata": {},
   "source": [
    "### Reading the contents of a file"
   ]
  },
  {
   "cell_type": "code",
   "execution_count": 1,
   "id": "6dcba69e-51fa-4c06-87ce-fe03550aa753",
   "metadata": {},
   "outputs": [
    {
     "name": "stdout",
     "output_type": "stream",
     "text": [
      "3.1415926535\n",
      "  8979323846\n",
      "  2643383279\n"
     ]
    }
   ],
   "source": [
    "from pathlib import Path\n",
    "\n",
    "path = Path('pi_digits.txt')\n",
    "contents = path.read_text()\n",
    "contents = contents.rstrip() ## it removes the extra blank line after the the text.\n",
    "print(contents)"
   ]
  },
  {
   "cell_type": "code",
   "execution_count": 2,
   "id": "338a7c7d-411d-4029-9d20-64a3e72dde5e",
   "metadata": {},
   "outputs": [
    {
     "name": "stdout",
     "output_type": "stream",
     "text": [
      "3.1415926535\n",
      "  8979323846\n",
      "  2643383279\n"
     ]
    }
   ],
   "source": [
    "from pathlib import Path\n",
    "\n",
    "path = Path('pi_digits.txt')\n",
    "contents = path.read_text().rstrip() ## This approach is called method chaining\n",
    "print(contents)"
   ]
  },
  {
   "cell_type": "markdown",
   "id": "960b757b-6749-4cb3-9bf3-8c1ebf7eb3ff",
   "metadata": {},
   "source": [
    "### Relative and absolute file paths"
   ]
  },
  {
   "cell_type": "code",
   "execution_count": 3,
   "id": "0f93b3f8-b6e2-41b9-b985-0ca18eb88d61",
   "metadata": {},
   "outputs": [
    {
     "name": "stdout",
     "output_type": "stream",
     "text": [
      "Hello Python\n"
     ]
    }
   ],
   "source": [
    "## relative file path\n",
    "path = Path(\"text_files/filename.txt\")\n",
    "\n",
    "## absolute file path\n",
    "path = Path(\"D:\\\\Activities\\\\Python\\\\Github\\\\Python-Crash-Course\\\\Chapter_10\\\\text_files\\\\filename.txt\")\n",
    "path = Path(\"D:/Activities/Python/Github/Python-Crash-Course/Chapter_10/text_files/filename.txt\")\n",
    "\n",
    "contents = path.read_text().rstrip() ## This approach is called method chaining\n",
    "print(contents)"
   ]
  },
  {
   "cell_type": "markdown",
   "id": "c1970442-9149-4515-8a3d-f56068ee9fcf",
   "metadata": {},
   "source": [
    "### Accessing a file's lines"
   ]
  },
  {
   "cell_type": "code",
   "execution_count": 4,
   "id": "c29c2025-0c9b-40e1-b454-144deddc0f8f",
   "metadata": {},
   "outputs": [
    {
     "name": "stdout",
     "output_type": "stream",
     "text": [
      "3.1415926535\n",
      "  8979323846\n",
      "  2643383279\n",
      "3\n"
     ]
    }
   ],
   "source": [
    "from pathlib import Path\n",
    "\n",
    "path = Path('pi_digits.txt')\n",
    "contents = path.read_text().rstrip()\n",
    "# contents = path.read_text()\n",
    "\n",
    "lines = contents.splitlines()\n",
    "for line in lines:\n",
    "    print(line)\n",
    "    # print(10*'-')\n",
    "print(len(lines))"
   ]
  },
  {
   "cell_type": "markdown",
   "id": "c14f3531-d418-43ce-a834-929e50733886",
   "metadata": {},
   "source": [
    "### Working with a file's contents"
   ]
  },
  {
   "cell_type": "code",
   "execution_count": 5,
   "id": "d384efad-b034-42b3-87a9-6ecd93f689e5",
   "metadata": {},
   "outputs": [
    {
     "name": "stdout",
     "output_type": "stream",
     "text": [
      "3.1415926535  8979323846  2643383279\n",
      "36\n"
     ]
    }
   ],
   "source": [
    "from pathlib import Path\n",
    "\n",
    "path = Path('pi_digits.txt')\n",
    "contents = path.read_text()\n",
    "\n",
    "lines = contents.splitlines()\n",
    "pi_string = ''\n",
    "for line in lines:\n",
    "    pi_string += line\n",
    "\n",
    "# pi_string += '!'\n",
    "print(pi_string)\n",
    "print(len(pi_string))\n"
   ]
  },
  {
   "cell_type": "code",
   "execution_count": 6,
   "id": "08303dc3-bcd9-40e8-8be1-e4f777989a4f",
   "metadata": {},
   "outputs": [
    {
     "name": "stdout",
     "output_type": "stream",
     "text": [
      "3.141592653589793238462643383279\n",
      "32\n"
     ]
    }
   ],
   "source": [
    "from pathlib import Path\n",
    "\n",
    "path = Path('pi_digits.txt')\n",
    "contents = path.read_text()\n",
    "\n",
    "lines = contents.splitlines()\n",
    "pi_string = ''\n",
    "for line in lines:\n",
    "    pi_string += line.lstrip()\n",
    "\n",
    "# pi_string += '!'\n",
    "print(pi_string)\n",
    "print(len(pi_string))"
   ]
  },
  {
   "cell_type": "markdown",
   "id": "9e63f605-a68b-4130-8422-8bbdd7be90e0",
   "metadata": {},
   "source": [
    "***Note:*** *When Python reads from a text file, it interprets all text in the file as a string. If you read in a number and want to work with that value in a numerical context, you’ll have to convert it to an integer using the `int()` function or a float using the `float()` function.*"
   ]
  },
  {
   "cell_type": "markdown",
   "id": "1b991f8c-a4c4-4073-b49e-9bfcaada2f28",
   "metadata": {},
   "source": [
    "### Large files: One million digits"
   ]
  },
  {
   "cell_type": "code",
   "execution_count": 7,
   "id": "cd070144-b70a-48a6-8a67-0525cfe686fe",
   "metadata": {},
   "outputs": [
    {
     "name": "stdout",
     "output_type": "stream",
     "text": [
      "3.141592653589793238462643383279502884197169399375...\n",
      "1000002\n",
      "10000\n"
     ]
    }
   ],
   "source": [
    "from pathlib import Path\n",
    "\n",
    "path = Path('pi_million_digits.txt')\n",
    "contents = path.read_text()\n",
    "\n",
    "lines = contents.splitlines()\n",
    "pi_string = ''\n",
    "for line in lines:\n",
    "    pi_string += line.lstrip()\n",
    "\n",
    "print(f\"{pi_string[:50]}...\")\n",
    "print(len(pi_string))\n",
    "print(len(lines))\n",
    "# print(len(lines[1].lstrip()))"
   ]
  },
  {
   "cell_type": "markdown",
   "id": "716f732d-86a3-4931-9ec9-f989231941f8",
   "metadata": {},
   "source": [
    "To run this program (and many of the examples that follow), you’ll need to download the resources available at https://ehmatthes.github.io/pcc_3e."
   ]
  },
  {
   "cell_type": "markdown",
   "id": "3f5be723-7cb4-4e30-bfca-9754f094a128",
   "metadata": {},
   "source": [
    "### Is your birthday contained in Pi?"
   ]
  },
  {
   "cell_type": "code",
   "execution_count": 20,
   "id": "d2c304f6-411b-4ce9-935a-1336cd91ad39",
   "metadata": {},
   "outputs": [
    {
     "name": "stdout",
     "output_type": "stream",
     "text": [
      "Your birthday appears in the first million digits of pi!\n"
     ]
    }
   ],
   "source": [
    "path = Path('pi_million_digits.txt')\n",
    "contents = path.read_text()\n",
    "\n",
    "lines = contents.splitlines()\n",
    "pi_string = ''\n",
    "for line in lines:\n",
    "    pi_string += line.lstrip()\n",
    "\n",
    "# birthday = input(\"Enter your birthday, in the form mmddyy: \")\n",
    "birthday = \"332266\"\n",
    "if birthday in pi_string:\n",
    "    print(\"Your birthday appears in the first million digits of pi!\")\n",
    "else:\n",
    "    print(\"Your birthday does not appear in the first million digits of pi.\")"
   ]
  },
  {
   "cell_type": "code",
   "execution_count": 26,
   "id": "7bbbb7d8-02b9-48e4-958f-0cda7200096c",
   "metadata": {},
   "outputs": [
    {
     "name": "stdout",
     "output_type": "stream",
     "text": [
      "Hello Python\n",
      "Hello Alireza\n"
     ]
    }
   ],
   "source": [
    "path = Path('text_files/filename.txt')\n",
    "\n",
    "contents = path.read_text()\n",
    "print(contents)\n",
    "\n",
    "contents = contents.replace('Python', \"Alireza\")\n",
    "print(contents)"
   ]
  },
  {
   "cell_type": "markdown",
   "id": "e9e46b53-eb1c-450c-9415-109da948c6b2",
   "metadata": {},
   "source": [
    "## Writing to a file"
   ]
  },
  {
   "cell_type": "code",
   "execution_count": null,
   "id": "7ece6357-2e47-4420-8a2d-7e65989c184b",
   "metadata": {},
   "outputs": [],
   "source": []
  },
  {
   "cell_type": "markdown",
   "id": "50aefea3-5f4b-475e-a6c8-05dd2d287b7b",
   "metadata": {},
   "source": [
    "### Writing a single line"
   ]
  },
  {
   "cell_type": "code",
   "execution_count": 39,
   "id": "5c6bf353-9b6d-4d32-9cee-4d61ec9e5ae4",
   "metadata": {},
   "outputs": [
    {
     "data": {
      "text/plain": [
       "19"
      ]
     },
     "execution_count": 39,
     "metadata": {},
     "output_type": "execute_result"
    }
   ],
   "source": [
    "from pathlib import Path\n",
    "\n",
    "path = Path('programming.txt')\n",
    "path.write_text(\"I love programming!\")"
   ]
  },
  {
   "cell_type": "code",
   "execution_count": 40,
   "id": "30614700-6a49-4cdc-ab07-a32a153a975b",
   "metadata": {},
   "outputs": [
    {
     "data": {
      "text/plain": [
       "19"
      ]
     },
     "execution_count": 40,
     "metadata": {},
     "output_type": "execute_result"
    }
   ],
   "source": [
    "from pathlib import Path\n",
    "\n",
    "path = Path('new_file.txt') # does not exist\n",
    "path.write_text(\"I love programming!\")"
   ]
  },
  {
   "cell_type": "markdown",
   "id": "4d6432fe-378e-45f4-a1c9-09f237ad0a27",
   "metadata": {},
   "source": [
    "***Note:*** *Python can only write strings to a text file. If you want to store numerical data in a text file, you’ll have to convert the data to string format first using the `str()` function.*"
   ]
  },
  {
   "cell_type": "markdown",
   "id": "30b4de31-d91a-40f3-8f6e-d041b63e8808",
   "metadata": {},
   "source": [
    "### Writing multiple lines"
   ]
  },
  {
   "cell_type": "markdown",
   "id": "ef747b3b-f945-4c2b-bc78-17f3ab30d9cf",
   "metadata": {},
   "source": [
    "The `write_text()` method creates the file if it doesn’t exist, writes the string, and ensures proper closure to prevent data loss or corruption."
   ]
  },
  {
   "cell_type": "code",
   "execution_count": 42,
   "id": "e73067eb-d2d1-418c-9508-1423cd6e1145",
   "metadata": {},
   "outputs": [
    {
     "data": {
      "text/plain": [
       "78"
      ]
     },
     "execution_count": 42,
     "metadata": {},
     "output_type": "execute_result"
    }
   ],
   "source": [
    "from pathlib import Path\n",
    "\n",
    "contents = \"I love programming.\\n\"\n",
    "contents += \"I love creating new games.\\n\"\n",
    "contents += \"I also love working with data.\\n\"\n",
    "\n",
    "path = Path('programming.txt')\n",
    "path.write_text(contents)"
   ]
  },
  {
   "cell_type": "markdown",
   "id": "fe3c9e47-678d-4218-af41-4372704cd3fa",
   "metadata": {},
   "source": [
    "***Note:*** *Be careful when calling `write_text()` on a path object. If the file already exists, `write_text()` will erase the current contents of the file and write new contents to the file. Later in this chapter, you’ll learn to check whether a file exists using pathlib.*"
   ]
  },
  {
   "cell_type": "code",
   "execution_count": null,
   "id": "487bf6c5-1acd-440f-b3c6-2271046ef3a8",
   "metadata": {},
   "outputs": [],
   "source": []
  },
  {
   "cell_type": "markdown",
   "id": "6564734b-ba1b-4e7c-9426-bfbcf470cbd6",
   "metadata": {},
   "source": [
    "## Exceptions"
   ]
  },
  {
   "cell_type": "code",
   "execution_count": null,
   "id": "b28d66a7-4370-49df-88f7-3d7aafae6b96",
   "metadata": {},
   "outputs": [],
   "source": []
  },
  {
   "cell_type": "markdown",
   "id": "199be61f-08cf-4208-abbf-7061351929e0",
   "metadata": {},
   "source": [
    "### Handling the ZeroDevisionError exception"
   ]
  },
  {
   "cell_type": "code",
   "execution_count": 43,
   "id": "b0e44078-f712-493a-a24d-a0e0949e327f",
   "metadata": {},
   "outputs": [
    {
     "ename": "ZeroDivisionError",
     "evalue": "division by zero",
     "output_type": "error",
     "traceback": [
      "\u001b[1;31m---------------------------------------------------------------------------\u001b[0m",
      "\u001b[1;31mZeroDivisionError\u001b[0m                         Traceback (most recent call last)",
      "Cell \u001b[1;32mIn[43], line 1\u001b[0m\n\u001b[1;32m----> 1\u001b[0m \u001b[38;5;28mprint\u001b[39m(\u001b[38;5;241;43m5\u001b[39;49m\u001b[43m \u001b[49m\u001b[38;5;241;43m/\u001b[39;49m\u001b[43m \u001b[49m\u001b[38;5;241;43m0\u001b[39;49m)\n",
      "\u001b[1;31mZeroDivisionError\u001b[0m: division by zero"
     ]
    }
   ],
   "source": [
    "print(5 / 0)"
   ]
  },
  {
   "cell_type": "markdown",
   "id": "3683ba65-8d19-44da-bbdf-25a71bb17ddc",
   "metadata": {},
   "source": [
    "### Using try-except blocks"
   ]
  },
  {
   "cell_type": "code",
   "execution_count": 49,
   "id": "52b3561a-46a1-4c12-843c-f180784247e2",
   "metadata": {},
   "outputs": [
    {
     "name": "stdout",
     "output_type": "stream",
     "text": [
      "You can't divide by zero!\n"
     ]
    }
   ],
   "source": [
    "try:\n",
    "    print(5 / 0)\n",
    "except ZeroDivisionError:\n",
    "    print(\"You can't divide by zero!\")"
   ]
  },
  {
   "cell_type": "markdown",
   "id": "fe941b51-33c7-45ac-8731-661b7634d9cf",
   "metadata": {},
   "source": [
    "### Using exceptions to prevent crashes"
   ]
  },
  {
   "cell_type": "code",
   "execution_count": 57,
   "id": "cb2f822c-6293-47b3-b0c2-0e7a9cc15111",
   "metadata": {},
   "outputs": [
    {
     "name": "stdout",
     "output_type": "stream",
     "text": [
      "Give me two numbers, and I'll divide them.\n",
      "Enter 'q' to quit.\n"
     ]
    }
   ],
   "source": [
    "print(\"Give me two numbers, and I'll divide them.\")\n",
    "print(\"Enter 'q' to quit.\")\n",
    "\n",
    "# while True:\n",
    "#     first_number = input(\"\\nFirst number: \")\n",
    "#     if first_number == 'q':\n",
    "#         break\n",
    "#     second_number = input(\"\\nSecond number: \")\n",
    "#     if second_number == 'q':\n",
    "#         break\n",
    "#     answer = int(first_number) / int(second_number)\n",
    "#     print(f\"\\nResult = {answer}\")"
   ]
  },
  {
   "cell_type": "markdown",
   "id": "f54613c0-85fb-4978-b0bc-fda0719d51ad",
   "metadata": {},
   "source": [
    "### The else block"
   ]
  },
  {
   "cell_type": "code",
   "execution_count": 64,
   "id": "16235448-22fd-44f3-9d72-6c0c1a949514",
   "metadata": {},
   "outputs": [
    {
     "name": "stdout",
     "output_type": "stream",
     "text": [
      "Give me two numbers, and I'll divide them.\n",
      "Enter 'q' to quit.\n"
     ]
    }
   ],
   "source": [
    "print(\"Give me two numbers, and I'll divide them.\")\n",
    "print(\"Enter 'q' to quit.\")\n",
    "\n",
    "# while True:\n",
    "#     first_number = input(\"\\nFirst number: \")\n",
    "#     if first_number == 'q':\n",
    "#         break\n",
    "#     second_number = input(\"\\nSecond number: \")\n",
    "#     if second_number == 'q':\n",
    "#         break\n",
    "#     try:\n",
    "#         answer = int(first_number) / int(second_number)\n",
    "#     except ZeroDivisionError:\n",
    "#         print(\"You can't divide by 0!\")\n",
    "#     except ValueError:\n",
    "#         print(\"Please enter valid numbet!\")\n",
    "#     else:\n",
    "#         print(\"answer will be printed here!\")\n",
    "#         print(answer)\n",
    "#         # print(f\"\\nResult = {answer}\")\n",
    "    "
   ]
  },
  {
   "cell_type": "code",
   "execution_count": 74,
   "id": "c2534eb5-bb4e-48aa-ac6c-b034f2b7591a",
   "metadata": {},
   "outputs": [
    {
     "name": "stdout",
     "output_type": "stream",
     "text": [
      "Something went wrong\n"
     ]
    }
   ],
   "source": [
    "# if you don't know about the type of error raised, use 'except:'\n",
    "try:\n",
    "    print(5 / \"sdf\")\n",
    "except ZeroDivisionError:\n",
    "    print(\"You can't divide a number by zero!\")\n",
    "except: \n",
    "    print(\"Something went wrong\")"
   ]
  },
  {
   "cell_type": "markdown",
   "id": "f20f37d3-ace6-4857-bbc2-506220c50a78",
   "metadata": {},
   "source": [
    "### The finally block\n",
    "this topic is not in the book"
   ]
  },
  {
   "cell_type": "code",
   "execution_count": 70,
   "id": "ee9ef55f-167b-4c59-8b8b-620a7d5bd365",
   "metadata": {},
   "outputs": [
    {
     "name": "stdout",
     "output_type": "stream",
     "text": [
      "Something went wrong\n",
      "The 'try except' is finished\n"
     ]
    }
   ],
   "source": [
    "try:\n",
    "    print(5 / 0)\n",
    "except:\n",
    "    print(\"Something went wrong\")\n",
    "else:\n",
    "    print(\"The processing in the try block is succeeded\")\n",
    "finally:\n",
    "    print(\"The 'try except' is finished\")"
   ]
  },
  {
   "cell_type": "code",
   "execution_count": null,
   "id": "120caf15-f399-4da8-99fa-4b902c042c95",
   "metadata": {},
   "outputs": [],
   "source": []
  },
  {
   "cell_type": "markdown",
   "id": "eec45275-4ab1-40b0-8e1b-9d4a2102be53",
   "metadata": {},
   "source": [
    "### Handling the FileNotFoundError exception"
   ]
  },
  {
   "cell_type": "code",
   "execution_count": null,
   "id": "377f25dc-6a7a-4139-9ac2-6cdd81437f1c",
   "metadata": {},
   "outputs": [],
   "source": [
    "# makes error (longer traceback)\n",
    "from pathlib import Path\n",
    "path = Path('afile.txt')\n",
    "contents = path.read_text(encoding='utf-8')\n",
    "print(contents)"
   ]
  },
  {
   "cell_type": "code",
   "execution_count": 80,
   "id": "b2902d77-9844-4e9f-a225-8549e9d4af21",
   "metadata": {},
   "outputs": [
    {
     "name": "stdout",
     "output_type": "stream",
     "text": [
      "Sorry, the file 'afile.txt' does not exist.\n",
      "finished\n"
     ]
    }
   ],
   "source": [
    "from pathlib import Path\n",
    "path = Path('afile.txt')\n",
    "try:\n",
    "    contents = path.read_text(encoding='utf-8')\n",
    "except FileNotFoundError:\n",
    "    print(f\"Sorry, the file '{path}' does not exist.\")\n",
    "else:\n",
    "    print(contents)\n"
   ]
  },
  {
   "cell_type": "markdown",
   "id": "acd121fc-1e58-4257-9387-4619da382d61",
   "metadata": {},
   "source": [
    "### Analyzing text"
   ]
  },
  {
   "cell_type": "markdown",
   "id": "f3d2b2c5-5b86-4f5f-954a-c01431ce61d8",
   "metadata": {},
   "source": [
    "***We can use some text from Project Gutenberg (https://gutenberg.org)***"
   ]
  },
  {
   "cell_type": "code",
   "execution_count": 93,
   "id": "15d9a5b4-a76c-42b3-a60d-a7d2f99543e5",
   "metadata": {},
   "outputs": [
    {
     "name": "stdout",
     "output_type": "stream",
     "text": [
      "The file 'some_words.txt' has about 9 words.\n"
     ]
    }
   ],
   "source": [
    "from pathlib import Path\n",
    "\n",
    "path = Path('some_words.txt')\n",
    "try:\n",
    "    contents = path.read_text(encoding='utf-8')\n",
    "except FileNotFoundError:\n",
    "    print(f\"Sorry, the file '{path}' does not exist!\")\n",
    "else:\n",
    "    # Count the approximate number of words in the file\n",
    "    words = contents.split()\n",
    "    num_words = len(words)\n",
    "    print(f\"The file '{path}' has about {num_words} words.\")"
   ]
  },
  {
   "cell_type": "code",
   "execution_count": 90,
   "id": "f50aeee5-801e-4bfe-beb9-0e4b9f367b10",
   "metadata": {},
   "outputs": [
    {
     "name": "stdout",
     "output_type": "stream",
     "text": [
      "The file 'some_words.txt' has about 5 words.\n",
      "['python', 'is', 'one', 'of', 'the most interesting programming languages.']\n"
     ]
    }
   ],
   "source": [
    "from pathlib import Path\n",
    "\n",
    "path = Path('some_words.txt')\n",
    "try:\n",
    "    contents = path.read_text(encoding='utf-8')\n",
    "except FileNotFoundError:\n",
    "    print(f\"Sorry, the file '{path}' does not exist!\")\n",
    "else:\n",
    "    # Count the approximate number of words in the file\n",
    "    words = contents.split(' ', 4) # two optional arguments\n",
    "    num_words = len(words)\n",
    "    print(f\"The file '{path}' has about {num_words} words.\")\n",
    "    print(words) ## all splited items"
   ]
  },
  {
   "cell_type": "markdown",
   "id": "adfe9b37-263b-476e-82ae-011728a00888",
   "metadata": {},
   "source": [
    "### Working with multiple files"
   ]
  },
  {
   "cell_type": "code",
   "execution_count": 99,
   "id": "2b38b3eb-01d0-4f47-ae15-dba9ac53b90c",
   "metadata": {},
   "outputs": [
    {
     "name": "stdout",
     "output_type": "stream",
     "text": [
      "The file some_words.txt has about 9 words.\n"
     ]
    }
   ],
   "source": [
    "def count_words(path):\n",
    "    \"\"\"Count the approximate number of words in a file.\"\"\"\n",
    "    try:\n",
    "        contents = path.read_text(encoding='utf-8')\n",
    "    except FileNotFoundErro:\n",
    "        print(f\"Sorry, the file {path} does not exist.\")\n",
    "    else:\n",
    "        # Count the approximate number of words in the file:\n",
    "        words = contents.split()\n",
    "        num_words = len(words)\n",
    "        print(f\"The file {path} has about {num_words} words.\")\n",
    "\n",
    "path = Path('some_words.txt')\n",
    "count_words(path)"
   ]
  },
  {
   "cell_type": "code",
   "execution_count": 156,
   "id": "44cf6f49-f36c-4284-9f8e-e32cd3607c16",
   "metadata": {},
   "outputs": [
    {
     "name": "stdout",
     "output_type": "stream",
     "text": [
      "[WindowsPath('text_files/anna_karenina.txt'), WindowsPath('text_files/filename.txt'), WindowsPath('text_files/letters_to_guy.txt'), WindowsPath('text_files/the_banker_and_the_bear.txt')]\n",
      "The file text_files\\anna_karenina.txt has about 952 words.\n",
      "The file text_files\\filename.txt has about 2 words.\n",
      "The file text_files\\letters_to_guy.txt has about 116 words.\n",
      "The file text_files\\the_banker_and_the_bear.txt has about 95 words.\n",
      "text_files\n",
      "<class 'pathlib.WindowsPath'>\n"
     ]
    },
    {
     "data": {
      "text/plain": [
       "WindowsPath('text_files')"
      ]
     },
     "execution_count": 156,
     "metadata": {},
     "output_type": "execute_result"
    }
   ],
   "source": [
    "from pathlib import Path\n",
    "path = Path(\"./text_files\")\n",
    "files = [f for f in path.iterdir() if f.is_file()]\n",
    "print(files)\n",
    "\n",
    "for file in files:\n",
    "    count_words(file)\n",
    "\n",
    "# print(path.__str__())\n",
    "# print(type(path))\n",
    "# path"
   ]
  },
  {
   "cell_type": "code",
   "execution_count": 144,
   "id": "2149fe61-d07f-4410-ae81-885dbe81e16c",
   "metadata": {},
   "outputs": [
    {
     "name": "stdout",
     "output_type": "stream",
     "text": [
      "text_files\\anna_karenina.txt\n",
      "The file text_files\\anna_karenina.txt has about 952 words.\n",
      "text_files\\filename.txt\n",
      "The file text_files\\filename.txt has about 2 words.\n",
      "text_files\\letters_to_guy.txt\n",
      "The file text_files\\letters_to_guy.txt has about 116 words.\n",
      "text_files\\the_banker_and_the_bear.txt\n",
      "The file text_files\\the_banker_and_the_bear.txt has about 95 words.\n"
     ]
    }
   ],
   "source": [
    "import os\n",
    "paths = os.listdir(\"./text_files\")\n",
    "\n",
    "# from pathlib import Path\n",
    "# for path in paths:\n",
    "#     # if '.txt' in path:\n",
    "#     if True:\n",
    "#         text_path = Path(\"./text_files\", path)\n",
    "#         print(text_path)\n",
    "#         print(f\"is file: {text_path.is_file()}\")\n",
    "#         print(f\"is dir: {text_path.is_dir()}\")\n",
    "#         print(\"\\n\")\n",
    "\n",
    "for path in paths:\n",
    "    if '.txt' in path:\n",
    "        text_path = Path(\"./text_files\", path)\n",
    "        # text_path = Path(path)\n",
    "        print(text_path)\n",
    "        count_words(text_path)"
   ]
  },
  {
   "cell_type": "code",
   "execution_count": null,
   "id": "913b0117-5303-4b1d-9d94-10b296679162",
   "metadata": {},
   "outputs": [],
   "source": []
  },
  {
   "cell_type": "code",
   "execution_count": 124,
   "id": "659261ab-faf4-4659-92e1-25103362d252",
   "metadata": {},
   "outputs": [
    {
     "name": "stdout",
     "output_type": "stream",
     "text": [
      "[WindowsPath('text_files/anna_karenina.txt'), WindowsPath('text_files/filename.txt'), WindowsPath('text_files/letters_to_guy.txt'), WindowsPath('text_files/the_banker_and_the_bear.txt')]\n"
     ]
    }
   ],
   "source": [
    "from pathlib import Path\n",
    "path = Path(\"./text_files\")\n",
    "files = [f for f in path.iterdir() if f.is_file()]\n",
    "print(files)\n"
   ]
  },
  {
   "cell_type": "markdown",
   "id": "a52a4800-e629-4181-8bef-e146462ecd33",
   "metadata": {},
   "source": [
    "### Failing Silently"
   ]
  },
  {
   "cell_type": "code",
   "execution_count": 159,
   "id": "fa2715a2-0c68-4c04-bd34-03c4a0f99679",
   "metadata": {},
   "outputs": [
    {
     "name": "stdout",
     "output_type": "stream",
     "text": [
      "Error!\n"
     ]
    }
   ],
   "source": [
    "try:\n",
    "    print(10 / 0)\n",
    "except ZeroDivisionError:\n",
    "    print(\"Error!\")"
   ]
  },
  {
   "cell_type": "code",
   "execution_count": 160,
   "id": "0a2f3ad7-68a3-4602-ae22-ea24af2b6f10",
   "metadata": {},
   "outputs": [],
   "source": [
    "try:\n",
    "    print(10 / 0)\n",
    "except ZeroDivisionError:\n",
    "    pass"
   ]
  },
  {
   "cell_type": "markdown",
   "id": "1e08da3d-5853-4244-9a19-bf0410df705a",
   "metadata": {},
   "source": [
    "### Deciding which errors to report"
   ]
  },
  {
   "cell_type": "markdown",
   "id": "1cde4ba1-cc36-46ab-9922-3d34838e1a57",
   "metadata": {},
   "source": [
    "When should you report errors to users, and when is it better to let a program fail silently? Here are some guidelines:\n",
    "\n",
    "- **User Awareness**: If users know which texts or data are supposed to be analyzed, they might appreciate a message explaining why some items were skipped.\n",
    "- **User Expectations**: If users expect results but aren't aware of the specific inputs, they may not need to know about unavailable files or skipped analyses. Overloading them with unnecessary details can reduce usability.\n",
    "\n",
    "Python’s error-handling tools (like `try`/`except`) provide fine-grained control over what to share with users during failures. It’s your responsibility to decide how much information is appropriate.\n",
    "\n",
    "***Key Considerations:***\n",
    "1. **Well-Written Code**: Properly tested code is less prone to internal errors like syntax or logic mistakes.\n",
    "2. **External Dependencies**: Errors often arise from external factors such as user input, file existence, or network availability. Use exception-handling blocks (`try`/`except`) where these dependencies exist.\n",
    "3. **Experience Helps**: With practice, you'll learn where to include error handling and how much detail to provide users about issues.\n",
    "\n",
    "By balancing transparency and simplicity, you can enhance both the usability and reliability of your program."
   ]
  },
  {
   "cell_type": "markdown",
   "id": "7e0c1874-4227-4d7d-a773-26decee7f31e",
   "metadata": {},
   "source": [
    "## Storing Data"
   ]
  },
  {
   "cell_type": "markdown",
   "id": "fef3fbad-4333-4c37-9fc8-66175a2c034d",
   "metadata": {},
   "source": [
    "Many programs require users to input information, such as game preferences or data for visualizations. This data is often stored in lists or dictionaries. When the program closes, you’ll likely want to save this information for future use.\n",
    "\n",
    "The `json` module provides a simple way to store and load data:\n",
    "- Convert Python data structures into JSON-formatted strings for storage.\n",
    "- Load the data back when the program runs again.\n",
    "- Share data between different Python programs or even with other programming languages.\n",
    "\n",
    "JSON (JavaScript Object Notation) is a widely-used, portable format that’s easy to learn and not limited to Python.\n",
    "\n",
    "> **NOTE**: JSON was originally developed for JavaScript but has since become a universal format supported by many programming languages."
   ]
  },
  {
   "cell_type": "markdown",
   "id": "aa479871-094a-4209-a47b-879dff5c4b8c",
   "metadata": {},
   "source": [
    "### Using `json.dumps()` and `json.loads()`"
   ]
  },
  {
   "cell_type": "code",
   "execution_count": 163,
   "id": "6416c292-82a4-4856-88dd-2aac34c8244e",
   "metadata": {},
   "outputs": [
    {
     "data": {
      "text/plain": [
       "20"
      ]
     },
     "execution_count": 163,
     "metadata": {},
     "output_type": "execute_result"
    }
   ],
   "source": [
    "from pathlib import Path\n",
    "import json\n",
    "\n",
    "numbers = [2, 3, 5, 7, 11, 13]\n",
    "\n",
    "path = Path('numbers.json')\n",
    "contents = json.dumps(numbers)\n",
    "path.write_text(contents)"
   ]
  },
  {
   "cell_type": "code",
   "execution_count": 166,
   "id": "aa3ac30b-fe62-44af-a46d-b6b81e22350b",
   "metadata": {},
   "outputs": [
    {
     "name": "stdout",
     "output_type": "stream",
     "text": [
      "[2, 3, 5, 7, 11, 13]\n"
     ]
    }
   ],
   "source": [
    "from pathlib import Path\n",
    "import json\n",
    "\n",
    "path = Path(\"numbers.json\")\n",
    "contents = path.read_text()\n",
    "numbers = json.loads(contents)\n",
    "\n",
    "print(numbers)"
   ]
  },
  {
   "cell_type": "markdown",
   "id": "39c42edb-30ae-45bc-99dc-f0d64e8fc39b",
   "metadata": {},
   "source": [
    "### Saving and reading user-generated data"
   ]
  },
  {
   "cell_type": "code",
   "execution_count": 168,
   "id": "04f14f18-5a4e-48a8-aa9f-cc5914f704e1",
   "metadata": {},
   "outputs": [
    {
     "name": "stdin",
     "output_type": "stream",
     "text": [
      "What is your name?  ali\n"
     ]
    },
    {
     "name": "stdout",
     "output_type": "stream",
     "text": [
      "We'll remember you when you come back, ali!\n"
     ]
    }
   ],
   "source": [
    "from pathlib import Path\n",
    "import json\n",
    "\n",
    "username = input(\"What is your name? \")\n",
    "\n",
    "path = Path(\"username.json\")\n",
    "contents = json.dumps(username)\n",
    "path.write_text(contents)\n",
    "\n",
    "print(f\"We'll remember you when you come back, {username}!\")\n"
   ]
  },
  {
   "cell_type": "code",
   "execution_count": 169,
   "id": "a2a5262d-2b8f-4bab-b94e-cd8614cf73b9",
   "metadata": {},
   "outputs": [
    {
     "name": "stdout",
     "output_type": "stream",
     "text": [
      "Welcome back, ali!\n"
     ]
    }
   ],
   "source": [
    "from pathlib import Path\n",
    "import json\n",
    "\n",
    "path = Path(\"username.json\")\n",
    "contents = path.read_text()\n",
    "username = json.loads(contents)\n",
    "\n",
    "print(f\"Welcome back, {username}!\")"
   ]
  },
  {
   "cell_type": "code",
   "execution_count": 173,
   "id": "12b7ff88-16a5-4e87-b20a-baf870f5b4b4",
   "metadata": {},
   "outputs": [
    {
     "name": "stdout",
     "output_type": "stream",
     "text": [
      "Welcome back, Alireza!\n"
     ]
    }
   ],
   "source": [
    "from pathlib import Path\n",
    "import json\n",
    "\n",
    "path = Path(\"username.json\")\n",
    "if path.exists():\n",
    "    contents = path.read_text()\n",
    "    username = json.loads(contents)\n",
    "    print(f\"Welcome back, {username}!\")\n",
    "else:\n",
    "    username = input(\"What is you name?\")\n",
    "    contents = json.dumps(username)\n",
    "    path.write_text(contents)\n",
    "    print(f\"We'll remember you when you come back, {username}!\")"
   ]
  },
  {
   "cell_type": "markdown",
   "id": "53627f04-f7e0-4293-b1fe-831c807a1b86",
   "metadata": {},
   "source": [
    "### Refactoring"
   ]
  },
  {
   "cell_type": "code",
   "execution_count": 174,
   "id": "2d98b01c-c10c-4684-ae29-55f2e8f0e3a0",
   "metadata": {},
   "outputs": [
    {
     "name": "stdout",
     "output_type": "stream",
     "text": [
      "Welcome back, Alireza!\n"
     ]
    }
   ],
   "source": [
    "from pathlib import Path\n",
    "import json\n",
    "\n",
    "def greet_user():\n",
    "    \"\"\"Greet the user by name.\"\"\"\n",
    "    path = Path(\"username.json\")\n",
    "    if path.exists():\n",
    "        contents = path.read_text()\n",
    "        username = json.loads(contents)\n",
    "        print(f\"Welcome back, {username}!\")\n",
    "    else:\n",
    "        username = input(\"What is your name? \")\n",
    "        contents = json.dumps(username)\n",
    "        path.write_text(contents)\n",
    "        print(f\"We'll remember you when you come back, {username}!\")\n",
    "\n",
    "greet_user()"
   ]
  },
  {
   "cell_type": "code",
   "execution_count": 178,
   "id": "3fb88b2b-dabc-444b-a1ec-63f7cf4ff480",
   "metadata": {},
   "outputs": [
    {
     "name": "stdout",
     "output_type": "stream",
     "text": [
      "Welcome back, Ali!\n"
     ]
    }
   ],
   "source": [
    "from pathlib import Path\n",
    "import json\n",
    "\n",
    "def get_stored_username(path):\n",
    "    \"\"\"Get stored username if available.\"\"\"\n",
    "    if path.exists():\n",
    "        contents = path.read_text()\n",
    "        username = json.loads(contents)\n",
    "        return username\n",
    "    else:\n",
    "        return None\n",
    "\n",
    "def greet_user():\n",
    "    \"\"\"Greet the user by name.\"\"\"\n",
    "    path = Path(\"username.json\")\n",
    "    username = get_stored_username(path)\n",
    "    if username:\n",
    "        print(f\"Welcome back, {username}!\")\n",
    "    else:\n",
    "        username = input(\"What is your name? \")\n",
    "        contents = json.dumps(username)\n",
    "        path.write_text(contents)\n",
    "        print(f\"We'll remember you when you come back, {username}!\")\n",
    "\n",
    "greet_user()"
   ]
  },
  {
   "cell_type": "code",
   "execution_count": 181,
   "id": "a869a46c-f6f4-47cc-bc71-924517bc410c",
   "metadata": {},
   "outputs": [
    {
     "name": "stdout",
     "output_type": "stream",
     "text": [
      "Welcome back, Python!\n"
     ]
    }
   ],
   "source": [
    "from pathlib import Path\n",
    "import json\n",
    "\n",
    "def get_stored_username(path):\n",
    "    \"\"\"Get stored username if available.\"\"\"\n",
    "    if path.exists():\n",
    "        contents = path.read_text()\n",
    "        username = json.loads(contents)\n",
    "        return username\n",
    "    else:\n",
    "        return None\n",
    "\n",
    "def get_new_username(path):\n",
    "    \"\"\"Prompt for a new username.\"\"\"\n",
    "    username = input(\"What is your name? \")\n",
    "    contents = json.dumps(username)\n",
    "    path.write_text(contents)\n",
    "    return username\n",
    "\n",
    "def greet_user():\n",
    "    \"\"\"Greet the user by name.\"\"\"\n",
    "    path = Path(\"username.json\")\n",
    "    username = get_stored_username(path)\n",
    "    if username:\n",
    "        print(f\"Welcome back, {username}!\")\n",
    "    else:\n",
    "        username = get_new_username(path)\n",
    "        print(f\"We'll remember you when you come back, {username}!\")\n",
    "\n",
    "greet_user()"
   ]
  },
  {
   "cell_type": "markdown",
   "id": "dc091086-508a-4466-819a-b08a442792b8",
   "metadata": {},
   "source": [
    "## **Summary**"
   ]
  },
  {
   "cell_type": "markdown",
   "id": "57b12cac-35f7-4ccf-b68a-da23251b0d87",
   "metadata": {},
   "source": [
    "In this chapter, you learned:\n",
    "- How to read and write files, including processing contents line by line.\n",
    "- To handle exceptions that may arise in your programs.\n",
    "- How to store Python data structures using tools like the `json` module, allowing you to save user information and avoid starting over each time a program runs.\n",
    "\n",
    "In Chapter 11, you'll explore efficient ways to test your code, ensuring its correctness and helping you identify bugs as your programs grow."
   ]
  }
 ],
 "metadata": {
  "kernelspec": {
   "display_name": "Python 3 (ipykernel)",
   "language": "python",
   "name": "python3"
  },
  "language_info": {
   "codemirror_mode": {
    "name": "ipython",
    "version": 3
   },
   "file_extension": ".py",
   "mimetype": "text/x-python",
   "name": "python",
   "nbconvert_exporter": "python",
   "pygments_lexer": "ipython3",
   "version": "3.9.19"
  }
 },
 "nbformat": 4,
 "nbformat_minor": 5
}
