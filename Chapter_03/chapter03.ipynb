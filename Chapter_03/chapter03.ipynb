{
 "cells": [
  {
   "cell_type": "markdown",
   "id": "aa8acd2c-a72a-4f35-a0b6-9760ec843bc3",
   "metadata": {},
   "source": [
    "# Introduction Lists"
   ]
  },
  {
   "cell_type": "markdown",
   "id": "9cb80e72-846d-4ff0-a674-062c8aabe552",
   "metadata": {},
   "source": [
    "## what is a list?\n",
    "A list is a collection of items in a particular order\n",
    "<br>define list by using `[.., .., ..]` or `list((.., .., ..))`"
   ]
  },
  {
   "cell_type": "code",
   "execution_count": null,
   "id": "e2e76bcf-2a5f-4835-ae31-cf7057377b74",
   "metadata": {},
   "outputs": [],
   "source": [
    "numbers_list1 = list([1, 3, 5, 8])\n",
    "numbers_list = [1, 3, 5, 8, 6, 7]\n",
    "alphabets_list = ['a', 'b', 'g']\n",
    "numbs_alphs_list = [1, 4, 'b', 't']\n",
    "anything_list = [[1, 3, 4], 'g', '4', 55, 3.4, \"my name is Batman\"]"
   ]
  },
  {
   "cell_type": "markdown",
   "id": "1590a405-ec01-4df7-8115-94d66e791208",
   "metadata": {},
   "source": [
    "*it’s a good idea to make the name of your list plural, such as letters, digits, or names.*"
   ]
  },
  {
   "cell_type": "markdown",
   "id": "efd5a895-7a78-4d4c-8290-ba6347693410",
   "metadata": {},
   "source": [
    "### Accessing Elements in a List"
   ]
  },
  {
   "cell_type": "code",
   "execution_count": null,
   "id": "d3d178a2-1694-48c2-b467-8c17114ff403",
   "metadata": {},
   "outputs": [],
   "source": [
    "print (numbers_list)"
   ]
  },
  {
   "cell_type": "code",
   "execution_count": null,
   "id": "2ffcb4e5-2514-4987-9fe6-c233333b26c1",
   "metadata": {},
   "outputs": [],
   "source": [
    "print (numbers_list[2])"
   ]
  },
  {
   "cell_type": "markdown",
   "id": "96df2c1b-0f28-4e25-a310-7e655ccfa544",
   "metadata": {},
   "source": [
    "*Index Positions Start at 0, Not 1*"
   ]
  },
  {
   "cell_type": "code",
   "execution_count": null,
   "id": "5e51f257-ea14-40ed-a854-7be988d0d19c",
   "metadata": {},
   "outputs": [],
   "source": [
    "print (numbers_list[4])\n",
    "print (numbers_list[2])"
   ]
  },
  {
   "cell_type": "code",
   "execution_count": null,
   "id": "066a5c2e-5de9-4b67-86a6-e55c53c87a57",
   "metadata": {},
   "outputs": [],
   "source": [
    "print (numbers_list[-2])"
   ]
  },
  {
   "cell_type": "code",
   "execution_count": null,
   "id": "84c215bd-0e66-44d7-81ee-cbe8bd32e7bd",
   "metadata": {},
   "outputs": [],
   "source": [
    "names = ['alireza', 'mohammad', 'hamid', 'ahmad', 'amir']"
   ]
  },
  {
   "cell_type": "code",
   "execution_count": null,
   "id": "c97dd8c3-40d3-472c-9d50-ba45cacafb5a",
   "metadata": {},
   "outputs": [],
   "source": [
    "message = f\"My name is {names[0].title()}\"\n",
    "print (message)"
   ]
  },
  {
   "cell_type": "markdown",
   "id": "a4da505d-7de3-4f69-8bec-db557c6b4def",
   "metadata": {},
   "source": [
    "## Modifying, Adding, and Removing Elements"
   ]
  },
  {
   "cell_type": "markdown",
   "id": "77326115-2d77-4042-86be-16086a562ca6",
   "metadata": {},
   "source": [
    "### Modifying Elements in a List"
   ]
  },
  {
   "cell_type": "code",
   "execution_count": null,
   "id": "df24ab7e-d573-453f-bdaf-78e46c4ef020",
   "metadata": {},
   "outputs": [],
   "source": [
    "names[0] = 'ali'"
   ]
  },
  {
   "cell_type": "code",
   "execution_count": null,
   "id": "b9f76986-987b-41fc-8f3c-4ca6ff74931a",
   "metadata": {},
   "outputs": [],
   "source": [
    "print (names)"
   ]
  },
  {
   "cell_type": "markdown",
   "id": "d78983aa-2c9e-4e4f-954b-3276634b8fb3",
   "metadata": {},
   "source": [
    "### Adding Elements to a List"
   ]
  },
  {
   "cell_type": "markdown",
   "id": "e594ad82-bddd-47ba-bdf3-843602e2b98d",
   "metadata": {},
   "source": [
    "####  Appending Elements to the End of a List\n"
   ]
  },
  {
   "cell_type": "code",
   "execution_count": null,
   "id": "19761622-f8b3-4d80-a2b9-fb2a5cb71955",
   "metadata": {},
   "outputs": [],
   "source": [
    "new_names = []\n",
    "new_names.append(\"alireza\")\n",
    "print (new_names)"
   ]
  },
  {
   "cell_type": "code",
   "execution_count": null,
   "id": "c856b3a6-ac35-48a3-a418-b89701bed34b",
   "metadata": {},
   "outputs": [],
   "source": [
    "new_names.append(\"java\")\n",
    "new_names.append(\"python\") \n",
    "new_names.append(\"java\")\n",
    "new_names.append(\"labview\")\n",
    "print (new_names)"
   ]
  },
  {
   "cell_type": "code",
   "execution_count": null,
   "id": "77866362-7ce4-4cb2-99ec-cb145970143b",
   "metadata": {},
   "outputs": [],
   "source": []
  },
  {
   "cell_type": "markdown",
   "id": "2fdbcd30-e982-44e9-86fc-629eb1b8dcf3",
   "metadata": {},
   "source": [
    "####   Inserting Elements into a List"
   ]
  },
  {
   "cell_type": "code",
   "execution_count": null,
   "id": "4abe1025-ad74-491d-b27e-166b8a3c0c6d",
   "metadata": {},
   "outputs": [],
   "source": [
    "names = ['alireza', 'mohammad', 'hamid', 'ahmad', 'amir']\n",
    "print (names)"
   ]
  },
  {
   "cell_type": "code",
   "execution_count": null,
   "id": "b037e911-c089-4be7-95c0-5ef925abb387",
   "metadata": {},
   "outputs": [],
   "source": [
    "names.insert(2, 'python')"
   ]
  },
  {
   "cell_type": "code",
   "execution_count": null,
   "id": "03c35eab-3d06-4bd5-a32a-1e98dd69dc6f",
   "metadata": {},
   "outputs": [],
   "source": [
    "print (names)"
   ]
  },
  {
   "cell_type": "code",
   "execution_count": null,
   "id": "e6fe46d5-f7cf-49d3-9ce6-9e752a6c5a0e",
   "metadata": {},
   "outputs": [],
   "source": []
  },
  {
   "cell_type": "markdown",
   "id": "72959241-3090-41c6-9c4c-98e86d3f8181",
   "metadata": {},
   "source": [
    "### Modifying Elements in a List"
   ]
  },
  {
   "cell_type": "code",
   "execution_count": null,
   "id": "06c7bc0f-48e7-43ba-a8be-9ede1872f927",
   "metadata": {},
   "outputs": [],
   "source": [
    "print (names)"
   ]
  },
  {
   "cell_type": "code",
   "execution_count": null,
   "id": "88da874e-e70a-4618-a4e1-9e3435fcc311",
   "metadata": {},
   "outputs": [],
   "source": [
    "del names[0]"
   ]
  },
  {
   "cell_type": "code",
   "execution_count": null,
   "id": "a818658c-0c15-4d15-be85-cd6da11b8cd1",
   "metadata": {},
   "outputs": [],
   "source": [
    "print (names)"
   ]
  },
  {
   "cell_type": "code",
   "execution_count": null,
   "id": "887d3757-015a-430c-9227-1eda3cd1cfc4",
   "metadata": {},
   "outputs": [],
   "source": [
    "#del names[7]"
   ]
  },
  {
   "cell_type": "markdown",
   "id": "4bee4f69-3083-422c-86eb-c7e630b514bf",
   "metadata": {},
   "source": [
    "####  Removing an Item Using the pop() Method\n",
    "*Sometimes you’ll want to use the value of an item after you remove it from a \n",
    "list.*"
   ]
  },
  {
   "cell_type": "code",
   "execution_count": null,
   "id": "8073805b-f8d5-44d8-88ca-b43a964ddae5",
   "metadata": {},
   "outputs": [],
   "source": [
    "programming_languages = ['python', 'java', 'labview', 'javascript', 'c & c++', 'c#']\n",
    "print (programming_languages)"
   ]
  },
  {
   "cell_type": "code",
   "execution_count": null,
   "id": "32f6fcd8-2dd9-4a7f-acd0-5f821355d968",
   "metadata": {},
   "outputs": [],
   "source": [
    "# popped_language = programming_languages.pop()\n",
    "# print (popped_language)\n",
    "# print (programming_languages)"
   ]
  },
  {
   "cell_type": "markdown",
   "id": "65aa4def-1e30-4101-be3f-7bfed67bcabb",
   "metadata": {},
   "source": [
    "***example of usecase:** Imagine that the itmes in the list are stored in chronological order*"
   ]
  },
  {
   "cell_type": "markdown",
   "id": "83d49317-d310-449f-aa2b-7ea8e8422308",
   "metadata": {},
   "source": [
    "####   Popping Items from Any Position in a List"
   ]
  },
  {
   "cell_type": "code",
   "execution_count": null,
   "id": "c05a5ce4-3383-4b51-a426-908a77aedc57",
   "metadata": {},
   "outputs": [],
   "source": [
    "pens = ['red_pen', 'yellow_pen', 'green_pen', 'black_pen', 'blue_pen']\n",
    "print (pens)"
   ]
  },
  {
   "cell_type": "code",
   "execution_count": null,
   "id": "ba7406e6-8b56-4685-8508-5ee84aaaa382",
   "metadata": {},
   "outputs": [],
   "source": [
    "first_pen = pens.pop(0)\n",
    "print (f\"my first pen was '{first_pen}'\")\n",
    "print (pens)"
   ]
  },
  {
   "cell_type": "markdown",
   "id": "51391c66-13f9-410c-8f20-a4d381038b04",
   "metadata": {},
   "source": [
    "####    Removing an Item by Value\n",
    "*Sometimes we won’t know the position of the value we want to remove \n",
    "from a list.*"
   ]
  },
  {
   "cell_type": "code",
   "execution_count": null,
   "id": "95ccc609-450a-410e-9579-6190586f6c4c",
   "metadata": {},
   "outputs": [],
   "source": [
    "pens = ['yellow_pen', 'red_pen', 'green_pen', 'black_pen', 'blue_pen']\n",
    "print (pens)"
   ]
  },
  {
   "cell_type": "code",
   "execution_count": null,
   "id": "c359c3ae-b465-4c14-8fb4-5ca96a0a5ecf",
   "metadata": {},
   "outputs": [],
   "source": [
    "pens.remove('black_pen')"
   ]
  },
  {
   "cell_type": "code",
   "execution_count": null,
   "id": "97f75ffe-d52e-49d2-babb-1f589dee8f45",
   "metadata": {},
   "outputs": [],
   "source": [
    "print (pens)"
   ]
  },
  {
   "cell_type": "code",
   "execution_count": null,
   "id": "a7d825a7-5302-4c9e-9d25-6d2d4abe7ba5",
   "metadata": {},
   "outputs": [],
   "source": [
    "not_necessary = 'red_pen'\n",
    "pens.remove(too_expensive)\n",
    "print (pens)\n",
    "print (f\"{too_expensive} was not necessary\")"
   ]
  },
  {
   "cell_type": "code",
   "execution_count": null,
   "id": "96c126d3-0126-45bf-8a95-f7532af652e8",
   "metadata": {},
   "outputs": [],
   "source": [
    "colors = ['yellow', 'red', 'green', 'red', 'yellow', 'black', 'blue', 'yellow']\n",
    "print (colors)"
   ]
  },
  {
   "cell_type": "code",
   "execution_count": null,
   "id": "e5b05a9f-43cb-4378-bb03-7b4270677d4f",
   "metadata": {},
   "outputs": [],
   "source": [
    "colors.remove('red')\n",
    "print (colors)"
   ]
  },
  {
   "cell_type": "markdown",
   "id": "a85bef91-6d18-48e8-858e-5cef038374a5",
   "metadata": {},
   "source": [
    "## Organizing a List"
   ]
  },
  {
   "cell_type": "markdown",
   "id": "03bce611-f60a-4820-8549-111af19ea7e8",
   "metadata": {},
   "source": [
    "### Sorting a List Permanently with the sort() Method"
   ]
  },
  {
   "cell_type": "code",
   "execution_count": null,
   "id": "dada6a2f-0c83-4ac9-a9e3-87fe79e874bf",
   "metadata": {},
   "outputs": [],
   "source": [
    "colors = ['yellow', 'red', 'green', 'light_red', 'orange', 'black', 'blue', 'brown']\n",
    "print (colors)"
   ]
  },
  {
   "cell_type": "code",
   "execution_count": null,
   "id": "eccdbcd4-55ee-46b6-b2c6-bc1b3d318337",
   "metadata": {},
   "outputs": [],
   "source": [
    "colors.sort()\n",
    "print (colors)"
   ]
  },
  {
   "cell_type": "code",
   "execution_count": null,
   "id": "23e87ea5-9e09-4327-bbd0-ff58165237c6",
   "metadata": {},
   "outputs": [],
   "source": [
    "colors.sort(reverse=True)\n",
    "print(colors)"
   ]
  },
  {
   "cell_type": "code",
   "execution_count": null,
   "id": "bc56c897-c736-4d6d-8ff7-5caeb7eb6b9c",
   "metadata": {},
   "outputs": [],
   "source": []
  },
  {
   "cell_type": "markdown",
   "id": "49f3258f-8b72-4036-a652-80472e9fa044",
   "metadata": {},
   "source": [
    "### Sorting a List Temporarily with the sorted() Function"
   ]
  },
  {
   "cell_type": "code",
   "execution_count": null,
   "id": "f9de26e2-7cd3-46bc-a36c-274ef0de5a23",
   "metadata": {},
   "outputs": [],
   "source": [
    "colors = ['yellow', 'red', 'green', 'light_red', 'orange', 'black', 'blue', 'brown']\n",
    "print (colors)"
   ]
  },
  {
   "cell_type": "code",
   "execution_count": null,
   "id": "cfd56095-b9bb-42dd-b446-6638622ecc41",
   "metadata": {},
   "outputs": [],
   "source": [
    "colors_sorted = sorted(colors)\n",
    "print (colors_sorted)\n",
    "print (colors)"
   ]
  },
  {
   "cell_type": "code",
   "execution_count": null,
   "id": "d5d346ae-8467-430b-90f1-42b7d2391006",
   "metadata": {},
   "outputs": [],
   "source": [
    "numbers = [1, 5, 3, 9, 10, 2, 3, 6]\n",
    "print (numbers)\n",
    "print (sorted(numbers))"
   ]
  },
  {
   "cell_type": "markdown",
   "id": "d5d50760-87df-4821-bbd6-d568fa59e5c3",
   "metadata": {},
   "source": [
    "***ERROR:** all items should be of the same type* "
   ]
  },
  {
   "cell_type": "code",
   "execution_count": null,
   "id": "b160e639-6782-4a59-96f2-c0e85593606d",
   "metadata": {},
   "outputs": [],
   "source": [
    "\n",
    "# numbers = [1, 5, 3, 9, [1, 3 ,2], 10, 2, 3, 6]\n",
    "# print (numbers)\n",
    "# print (sorted(numbers))"
   ]
  },
  {
   "cell_type": "markdown",
   "id": "ee242fb3-e092-43ec-b122-d59a94cd5ecf",
   "metadata": {},
   "source": [
    "###  Printing a List in Reverse Order"
   ]
  },
  {
   "cell_type": "code",
   "execution_count": null,
   "id": "d8952db1-02c1-4226-9020-05362a6fc8bc",
   "metadata": {},
   "outputs": [],
   "source": [
    "numbers = [1, 5, 3, 9, 10, 2, 3, 6]\n",
    "numbers.reverse()\n",
    "print (numbers)"
   ]
  },
  {
   "cell_type": "markdown",
   "id": "2dd519bd-aa3c-4d9d-82d2-593e141f37ca",
   "metadata": {},
   "source": [
    "###  Finding the Length of a List\n"
   ]
  },
  {
   "cell_type": "code",
   "execution_count": null,
   "id": "7ef40d7d-9f72-421e-b63c-fb29f9bf45a2",
   "metadata": {},
   "outputs": [],
   "source": [
    "colors = ['yellow', 'red', 'green', 'light_red', 'orange', 'black', 'blue', 'brown']\n",
    "print (colors)"
   ]
  },
  {
   "cell_type": "code",
   "execution_count": null,
   "id": "6d49d346-7de2-490b-80a2-ebd9684b61a9",
   "metadata": {},
   "outputs": [],
   "source": [
    "print (len(colors))\n",
    "print (f\"the number of colors is equal to {len(colors)}\")"
   ]
  },
  {
   "cell_type": "markdown",
   "id": "c81020ad-4cd0-4f8e-8011-6a4ffe95cf31",
   "metadata": {},
   "source": [
    "## Avoiding Index Errors When Working with Lists"
   ]
  },
  {
   "cell_type": "code",
   "execution_count": null,
   "id": "43b4e77c-cc74-4bd2-93d3-bf193e3ff763",
   "metadata": {},
   "outputs": [],
   "source": [
    "colors = ['yellow', 'red', 'green', 'light_red', 'orange', 'black', 'blue', 'brown']\n",
    "print (colors)\n",
    "print (len(colors))"
   ]
  },
  {
   "cell_type": "code",
   "execution_count": null,
   "id": "a777bfad-7e3b-40d6-a90a-33520d28b60f",
   "metadata": {},
   "outputs": [],
   "source": [
    "print (colors[10])"
   ]
  },
  {
   "cell_type": "code",
   "execution_count": null,
   "id": "e7422a93-727c-4bf9-a970-f5be41862b2c",
   "metadata": {},
   "outputs": [],
   "source": []
  }
 ],
 "metadata": {
  "kernelspec": {
   "display_name": "Python 3 (ipykernel)",
   "language": "python",
   "name": "python3"
  },
  "language_info": {
   "codemirror_mode": {
    "name": "ipython",
    "version": 3
   },
   "file_extension": ".py",
   "mimetype": "text/x-python",
   "name": "python",
   "nbconvert_exporter": "python",
   "pygments_lexer": "ipython3",
   "version": "3.9.19"
  }
 },
 "nbformat": 4,
 "nbformat_minor": 5
}
