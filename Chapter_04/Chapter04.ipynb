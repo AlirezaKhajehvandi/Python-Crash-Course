{
 "cells": [
  {
   "cell_type": "markdown",
   "id": "fa408a76-7cd8-48d4-abb6-9d77d69e7feb",
   "metadata": {},
   "source": [
    "# Working With Lists"
   ]
  },
  {
   "cell_type": "code",
   "execution_count": 181,
   "id": "0287a87e-c52f-45be-9410-59fae0943d39",
   "metadata": {},
   "outputs": [
    {
     "name": "stdout",
     "output_type": "stream",
     "text": [
      "['yellow', 'red', 'green', 'blue', 'black', 'pink', 'brown']\n"
     ]
    }
   ],
   "source": [
    "colors = [\"yellow\", \"red\", \"green\", \"blue\", \"black\", \"pink\", \"brown\"]\n",
    "print (colors)"
   ]
  },
  {
   "cell_type": "code",
   "execution_count": 182,
   "id": "e8c50f83-8803-44bc-8ce1-12da46fae1cd",
   "metadata": {},
   "outputs": [
    {
     "name": "stdout",
     "output_type": "stream",
     "text": [
      "yellow\n",
      "red\n",
      "green\n",
      "blue\n",
      "black\n",
      "pink\n",
      "brown\n"
     ]
    }
   ],
   "source": [
    "print (colors[0])\n",
    "print (colors[1])\n",
    "print (colors[2])\n",
    "print (colors[3])\n",
    "print (colors[4])\n",
    "print (colors[5])\n",
    "print (colors[6])\n"
   ]
  },
  {
   "cell_type": "markdown",
   "id": "c048b3f2-a85a-4607-b935-3571fa26e0e3",
   "metadata": {},
   "source": [
    "## Looping Through an Entire List"
   ]
  },
  {
   "cell_type": "markdown",
   "id": "c89d4214-054b-4f57-9d29-193e89a94088",
   "metadata": {},
   "source": [
    "#### for loop"
   ]
  },
  {
   "cell_type": "code",
   "execution_count": 183,
   "id": "62232b74-4dc9-454c-8a51-c4059b2a8383",
   "metadata": {},
   "outputs": [
    {
     "name": "stdout",
     "output_type": "stream",
     "text": [
      "['yellow', 'red', 'green', 'blue', 'black', 'pink', 'brown']\n"
     ]
    }
   ],
   "source": [
    "colors = [\"yellow\", \"red\", \"green\", \"blue\", \"black\", \"pink\", \"brown\"]\n",
    "print (colors)"
   ]
  },
  {
   "cell_type": "code",
   "execution_count": 184,
   "id": "8291975f-debc-4b16-b66a-de026b060f3e",
   "metadata": {},
   "outputs": [
    {
     "name": "stdout",
     "output_type": "stream",
     "text": [
      "yellow\n",
      "red\n",
      "green\n",
      "blue\n",
      "black\n",
      "pink\n",
      "brown\n"
     ]
    }
   ],
   "source": [
    "for color in colors:\n",
    "    print (color)"
   ]
  },
  {
   "cell_type": "markdown",
   "id": "d5044138-0504-4fab-b94e-576a5aee6ef6",
   "metadata": {},
   "source": [
    "***For every color in the list of colors, print the color’s name.***"
   ]
  },
  {
   "cell_type": "markdown",
   "id": "4475886b-c299-49e0-b6f8-e8813f74378f",
   "metadata": {},
   "source": [
    "### A Closer Look at Looping"
   ]
  },
  {
   "cell_type": "code",
   "execution_count": 185,
   "id": "24f83dea-66ba-49da-ab56-8a9e048b613a",
   "metadata": {},
   "outputs": [
    {
     "name": "stdout",
     "output_type": "stream",
     "text": [
      "b\n",
      "a\n",
      "n\n",
      "a\n",
      "n\n",
      "a\n"
     ]
    }
   ],
   "source": [
    "for x in \"banana\":\n",
    "  print(x)"
   ]
  },
  {
   "cell_type": "markdown",
   "id": "0bbdc4cc-0c1a-4ab9-9573-d4d9a0a29b5e",
   "metadata": {},
   "source": [
    "#### Break"
   ]
  },
  {
   "cell_type": "code",
   "execution_count": 186,
   "id": "90765540-9748-4636-8248-78d93243f9ac",
   "metadata": {},
   "outputs": [
    {
     "name": "stdout",
     "output_type": "stream",
     "text": [
      "apple\n"
     ]
    }
   ],
   "source": [
    "fruits = [\"apple\", \"banana\", \"cherry\"]\n",
    "for x in fruits:\n",
    "  if x == \"banana\":\n",
    "    break\n",
    "  print(x)"
   ]
  },
  {
   "cell_type": "markdown",
   "id": "7657347d-e17d-4774-bee3-b4c65914850d",
   "metadata": {},
   "source": [
    "#### Continue"
   ]
  },
  {
   "cell_type": "code",
   "execution_count": 187,
   "id": "14b5114f-9ab6-4ab6-96ce-703a99bc726e",
   "metadata": {},
   "outputs": [
    {
     "name": "stdout",
     "output_type": "stream",
     "text": [
      "apple\n",
      "cherry\n"
     ]
    }
   ],
   "source": [
    "fruits = [\"apple\", \"banana\", \"cherry\"]\n",
    "for x in fruits:\n",
    "  if x == \"banana\":\n",
    "    continue\n",
    "  print(x)"
   ]
  },
  {
   "cell_type": "code",
   "execution_count": 188,
   "id": "8e125156-3bae-469e-94d4-9a07dd32dd60",
   "metadata": {},
   "outputs": [
    {
     "name": "stdout",
     "output_type": "stream",
     "text": [
      "a\n",
      "l\n",
      "i\n",
      "r\n",
      "e\n",
      "z\n",
      "a\n"
     ]
    }
   ],
   "source": [
    "for char in \"alireza\":\n",
    "    print (char)"
   ]
  },
  {
   "cell_type": "code",
   "execution_count": 189,
   "id": "3a54b63a-7cf8-4df0-b330-f5540ae3c9cf",
   "metadata": {},
   "outputs": [
    {
     "name": "stdout",
     "output_type": "stream",
     "text": [
      "0 a\n",
      "1 l\n",
      "2 i\n",
      "3 r\n",
      "4 e\n",
      "5 z\n",
      "6 a\n"
     ]
    }
   ],
   "source": [
    "for i, char in enumerate(\"alireza\"):\n",
    "    print (i, char)"
   ]
  },
  {
   "cell_type": "code",
   "execution_count": null,
   "id": "de1a4ed2-772b-4351-b86d-efc0f5331cba",
   "metadata": {},
   "outputs": [],
   "source": []
  },
  {
   "cell_type": "code",
   "execution_count": 190,
   "id": "74e8a777-366c-43a3-8c46-84e9a9d1d505",
   "metadata": {},
   "outputs": [
    {
     "name": "stdout",
     "output_type": "stream",
     "text": [
      "yellow\n",
      "y\n",
      "e\n",
      "l\n",
      "l\n",
      "o\n",
      "w\n",
      "red\n",
      "r\n",
      "e\n",
      "d\n",
      "green\n",
      "g\n",
      "r\n",
      "e\n",
      "e\n",
      "n\n",
      "blue\n",
      "b\n",
      "l\n",
      "u\n",
      "e\n",
      "black\n",
      "b\n",
      "l\n",
      "a\n",
      "c\n",
      "k\n",
      "pink\n",
      "p\n",
      "i\n",
      "n\n",
      "k\n",
      "brown\n",
      "b\n",
      "r\n",
      "o\n",
      "w\n",
      "n\n"
     ]
    }
   ],
   "source": [
    "colors = [\"yellow\", \"red\", \"green\", \"blue\", \"black\", \"pink\", \"brown\"]\n",
    "for color in colors:\n",
    "    print (color)\n",
    "    for char in color:\n",
    "        print (char)"
   ]
  },
  {
   "cell_type": "code",
   "execution_count": 191,
   "id": "415f037f-a922-4f6c-84c2-8d29ad6b8b56",
   "metadata": {},
   "outputs": [
    {
     "name": "stdout",
     "output_type": "stream",
     "text": [
      "yellow\n",
      "0 y\n",
      "1 e\n",
      "2 l\n",
      "3 l\n",
      "4 o\n",
      "5 w\n",
      "red\n",
      "0 r\n",
      "1 e\n",
      "2 d\n",
      "green\n",
      "0 g\n",
      "1 r\n",
      "2 e\n",
      "3 e\n",
      "4 n\n",
      "blue\n",
      "0 b\n",
      "1 l\n",
      "2 u\n",
      "3 e\n",
      "black\n",
      "0 b\n",
      "1 l\n",
      "2 a\n",
      "3 c\n",
      "4 k\n",
      "pink\n",
      "0 p\n",
      "1 i\n",
      "2 n\n",
      "3 k\n",
      "brown\n",
      "0 b\n",
      "1 r\n",
      "2 o\n",
      "3 w\n",
      "4 n\n"
     ]
    }
   ],
   "source": [
    "colors = [\"yellow\", \"red\", \"green\", \"blue\", \"black\", \"pink\", \"brown\"]\n",
    "for color in colors:\n",
    "    print (color)\n",
    "    for i, char in enumerate(color):\n",
    "        print (i, char)"
   ]
  },
  {
   "cell_type": "markdown",
   "id": "731e58e7-b0dc-49af-8828-4629c786ed02",
   "metadata": {},
   "source": [
    "#### Variables in for loop\n",
    "`for cat in cats:`<br>\n",
    "`for dog in dogs:`<br>\n",
    "`for item in list_of_items:`<br>\n",
    "    "
   ]
  },
  {
   "cell_type": "markdown",
   "id": "41513271-c8c5-4515-9b4d-332601b10719",
   "metadata": {},
   "source": [
    "### Doing more work within a for loop"
   ]
  },
  {
   "cell_type": "code",
   "execution_count": 192,
   "id": "16f66d37-e895-4f72-aa96-07bd5fd1fa93",
   "metadata": {},
   "outputs": [
    {
     "name": "stdout",
     "output_type": "stream",
     "text": [
      "0 yellow\n",
      "1 red\n",
      "2 green\n",
      "3 blue\n",
      "4 black\n",
      "5 pink\n",
      "6 brown\n"
     ]
    }
   ],
   "source": [
    "colors = [\"yellow\", \"red\", \"green\", \"blue\", \"black\", \"pink\", \"brown\"]\n",
    "for idx, color in enumerate(colors):\n",
    "    message = f\"the {idx}_th color is {color}\"\n",
    "    print (idx, color)"
   ]
  },
  {
   "cell_type": "markdown",
   "id": "d6292888-456a-49b8-bf02-5088bbdd5e98",
   "metadata": {},
   "source": [
    "### Doing something after a for loop\n",
    "Else in For Loop"
   ]
  },
  {
   "cell_type": "code",
   "execution_count": 193,
   "id": "3ade35e4-ebef-4847-9064-ed6ad11ac2fc",
   "metadata": {},
   "outputs": [
    {
     "name": "stdout",
     "output_type": "stream",
     "text": [
      "P\n",
      "y\n",
      "t\n",
      "h\n"
     ]
    }
   ],
   "source": [
    "for x in \"Python\":\n",
    "    print(x)\n",
    "    if (x == \"h\"):\n",
    "        break\n",
    "else:\n",
    "    print(\"Finally finished!\")"
   ]
  },
  {
   "cell_type": "code",
   "execution_count": 194,
   "id": "5766ad4a-c669-47a3-aaba-0a0f3e0ae18e",
   "metadata": {},
   "outputs": [
    {
     "name": "stdout",
     "output_type": "stream",
     "text": [
      "P\n",
      "y\n",
      "t\n",
      "h\n",
      "after for\n"
     ]
    }
   ],
   "source": [
    "for x in \"Python\":\n",
    "    print(x)\n",
    "    if (x == \"h\"):\n",
    "        break\n",
    "    else :\n",
    "        (\"Finally finished!\")\n",
    "\n",
    "\n",
    "print (\"after for\")"
   ]
  },
  {
   "cell_type": "code",
   "execution_count": 195,
   "id": "e613ce0e-01fa-474d-8f69-b28e1edbb1a7",
   "metadata": {},
   "outputs": [
    {
     "name": "stdout",
     "output_type": "stream",
     "text": [
      "a 5\n",
      "a 6\n",
      "out of internal for\n",
      "k 5\n",
      "k 6\n",
      "out of internal for\n",
      "h 5\n",
      "h 6\n",
      "out of internal for\n",
      "out of external for\n"
     ]
    }
   ],
   "source": [
    "for char in \"akh\":\n",
    "    for n in [5, 6]:\n",
    "        print (char, n)\n",
    "    print (\"out of internal for\")\n",
    "print (\"out of external for\")"
   ]
  },
  {
   "cell_type": "code",
   "execution_count": 196,
   "id": "c7b8432c-c48d-43d8-8f9c-2dc0b4e13fe3",
   "metadata": {},
   "outputs": [],
   "source": [
    "for c in colors:\n",
    "    pass\n",
    "    "
   ]
  },
  {
   "cell_type": "markdown",
   "id": "f0028518-4a5e-4790-98a9-9fb10fd3684c",
   "metadata": {},
   "source": [
    "## Avoiding indentation erros"
   ]
  },
  {
   "cell_type": "markdown",
   "id": "8f748631-8486-4739-bf38-64ba11cf11a2",
   "metadata": {},
   "source": [
    "### Forgetting to indent"
   ]
  },
  {
   "cell_type": "code",
   "execution_count": 197,
   "id": "64f9f102-be2d-4ae6-aac7-443cd284c695",
   "metadata": {},
   "outputs": [
    {
     "name": "stdout",
     "output_type": "stream",
     "text": [
      "7\n",
      "6\n",
      "5\n",
      "4\n",
      "3\n",
      "2\n",
      "1\n"
     ]
    }
   ],
   "source": [
    "numbers = [7, 6, 5, 4, 3, 2, 1]\n",
    "for number in numbers:\n",
    "    print (number)\n"
   ]
  },
  {
   "cell_type": "markdown",
   "id": "c09134b9-8160-4fd5-81a2-1960dc728355",
   "metadata": {},
   "source": [
    "### Forgetting to indent additional lines"
   ]
  },
  {
   "cell_type": "code",
   "execution_count": 198,
   "id": "5976d1fb-2e20-4b1e-84e5-c8d407674c8a",
   "metadata": {},
   "outputs": [
    {
     "name": "stdout",
     "output_type": "stream",
     "text": [
      "the index of 7 is:\n",
      "the index of 6 is:\n",
      "the index of 5 is:\n",
      "the index of 4 is:\n",
      "the index of 3 is:\n",
      "the index of 2 is:\n",
      "the index of 1 is:\n",
      "6\n"
     ]
    }
   ],
   "source": [
    "numbers = [7, 6, 5, 4, 3, 2, 1]\n",
    "for idx, number in enumerate(numbers):\n",
    "    print (f\"the index of {number} is:\")\n",
    "print (idx)"
   ]
  },
  {
   "cell_type": "markdown",
   "id": "2b787a0d-4af2-44fe-a1ee-ca619e19c910",
   "metadata": {},
   "source": [
    "### Indenting Unnecessarily"
   ]
  },
  {
   "cell_type": "code",
   "execution_count": 199,
   "id": "a437e4d6-5dd8-4972-a747-931213c96354",
   "metadata": {},
   "outputs": [
    {
     "ename": "IndentationError",
     "evalue": "unexpected indent (3936242335.py, line 2)",
     "output_type": "error",
     "traceback": [
      "\u001b[1;36m  Cell \u001b[1;32mIn[199], line 2\u001b[1;36m\u001b[0m\n\u001b[1;33m    print (message)\u001b[0m\n\u001b[1;37m    ^\u001b[0m\n\u001b[1;31mIndentationError\u001b[0m\u001b[1;31m:\u001b[0m unexpected indent\n"
     ]
    }
   ],
   "source": [
    "message = \"hello python world!\"\n",
    "    print (message)"
   ]
  },
  {
   "cell_type": "markdown",
   "id": "1a8823e7-5876-430a-9346-7035652f12c5",
   "metadata": {},
   "source": [
    "### Indenting Unnecessarily after the loop"
   ]
  },
  {
   "cell_type": "code",
   "execution_count": 200,
   "id": "b935775a-64d5-4206-8cfb-fb9aee8cef59",
   "metadata": {},
   "outputs": [
    {
     "name": "stdout",
     "output_type": "stream",
     "text": [
      "the index of 7 is: 0\n",
      "end of the for!\n",
      "the index of 6 is: 1\n",
      "end of the for!\n",
      "the index of 5 is: 2\n",
      "end of the for!\n",
      "the index of 4 is: 3\n",
      "end of the for!\n",
      "the index of 3 is: 4\n",
      "end of the for!\n",
      "the index of 2 is: 5\n",
      "end of the for!\n",
      "the index of 1 is: 6\n",
      "end of the for!\n"
     ]
    }
   ],
   "source": [
    "numbers = [7, 6, 5, 4, 3, 2, 1]\n",
    "for idx, number in enumerate(numbers):\n",
    "    print (f\"the index of {number} is: {idx}\")\n",
    "\n",
    "    print (\"end of the for!\")"
   ]
  },
  {
   "cell_type": "markdown",
   "id": "aa96c752-0918-48c7-8550-04638453b715",
   "metadata": {},
   "source": [
    "### Forgetting the colon"
   ]
  },
  {
   "cell_type": "code",
   "execution_count": 201,
   "id": "e4123222-a6d5-4e05-8821-d9f5ee886651",
   "metadata": {},
   "outputs": [
    {
     "name": "stdout",
     "output_type": "stream",
     "text": [
      "the index of 7 is: 0\n",
      "the index of 6 is: 1\n",
      "the index of 5 is: 2\n",
      "the index of 4 is: 3\n",
      "the index of 3 is: 4\n",
      "the index of 2 is: 5\n",
      "the index of 1 is: 6\n",
      "end of the for!\n"
     ]
    }
   ],
   "source": [
    "numbers = [7, 6, 5, 4, 3, 2, 1]\n",
    "for idx, number in enumerate(numbers):\n",
    "    print (f\"the index of {number} is: {idx}\")\n",
    "\n",
    "print (\"end of the for!\")"
   ]
  },
  {
   "cell_type": "markdown",
   "id": "ea29a815-d9f5-4e1a-91a9-a428d7a44ad1",
   "metadata": {},
   "source": [
    "## Making Numerical Lists"
   ]
  },
  {
   "cell_type": "markdown",
   "id": "de690288-a3e4-4c51-8e6b-69a98ab1c3d3",
   "metadata": {},
   "source": [
    "### Using the range() function"
   ]
  },
  {
   "cell_type": "code",
   "execution_count": 202,
   "id": "ea861f60-3f75-4fba-b588-8d84930ee3c8",
   "metadata": {},
   "outputs": [
    {
     "name": "stdout",
     "output_type": "stream",
     "text": [
      "1\n",
      "2\n",
      "3\n",
      "4\n",
      "5\n"
     ]
    }
   ],
   "source": [
    "for value in range(1, 6):\n",
    "    print (value)"
   ]
  },
  {
   "cell_type": "code",
   "execution_count": 203,
   "id": "d2fc7294-39ec-468b-a640-5cad35145aa5",
   "metadata": {},
   "outputs": [
    {
     "name": "stdout",
     "output_type": "stream",
     "text": [
      "p\n",
      "y\n"
     ]
    }
   ],
   "source": [
    "for char in \"python\":\n",
    "    if char == 't':\n",
    "        break\n",
    "    print (char)"
   ]
  },
  {
   "cell_type": "code",
   "execution_count": 204,
   "id": "78637a93-0723-4a52-988b-82492e369425",
   "metadata": {},
   "outputs": [
    {
     "name": "stdout",
     "output_type": "stream",
     "text": [
      "0\n",
      "1\n",
      "2\n",
      "3\n",
      "4\n",
      "5\n",
      "6\n",
      "7\n",
      "8\n",
      "9\n"
     ]
    }
   ],
   "source": [
    "for value in range(10):\n",
    "    print (value)"
   ]
  },
  {
   "cell_type": "markdown",
   "id": "8074a6d2-297f-4083-a18a-6f3cbae55385",
   "metadata": {},
   "source": [
    "### Using range() to make a list of numbers"
   ]
  },
  {
   "cell_type": "code",
   "execution_count": 205,
   "id": "b0669745-dc42-4519-855a-6366d17f1469",
   "metadata": {},
   "outputs": [],
   "source": [
    "numbers = list(range(1, 6))"
   ]
  },
  {
   "cell_type": "code",
   "execution_count": 206,
   "id": "80ae873b-7cac-4da6-ad24-6e85b5fd5677",
   "metadata": {},
   "outputs": [
    {
     "name": "stdout",
     "output_type": "stream",
     "text": [
      "[1, 2, 3, 4, 5]\n"
     ]
    }
   ],
   "source": [
    "print (numbers)"
   ]
  },
  {
   "cell_type": "code",
   "execution_count": 207,
   "id": "9764852d-6709-4a99-a018-e8b8414d6e6f",
   "metadata": {},
   "outputs": [
    {
     "name": "stdout",
     "output_type": "stream",
     "text": [
      "[2, 4, 6, 8, 10]\n"
     ]
    }
   ],
   "source": [
    "even_numbers = list(range(2, 11, 2))\n",
    "print(even_numbers)"
   ]
  },
  {
   "cell_type": "code",
   "execution_count": 208,
   "id": "e79addf3-34b7-4105-8f47-022fa487e8d3",
   "metadata": {},
   "outputs": [
    {
     "name": "stdout",
     "output_type": "stream",
     "text": [
      "[1, 4, 9, 16, 25, 36, 49, 64, 81, 100]\n"
     ]
    }
   ],
   "source": [
    "squares = []\n",
    "for value in range(1, 11):\n",
    "    square = value ** 2\n",
    "    squares.append(square)\n",
    "\n",
    "print (squares)"
   ]
  },
  {
   "cell_type": "code",
   "execution_count": 209,
   "id": "46d207b1-b06b-4eef-882e-7b9f9bef347f",
   "metadata": {},
   "outputs": [
    {
     "name": "stdout",
     "output_type": "stream",
     "text": [
      "[1, 4, 9, 16, 25, 36, 49, 64, 81, 100]\n"
     ]
    }
   ],
   "source": [
    "squares = []\n",
    "for value in range(1, 11):\n",
    "    squares.append(value ** 2)\n",
    "\n",
    "print (squares)"
   ]
  },
  {
   "cell_type": "markdown",
   "id": "a1aed0e0-da00-497f-ba73-84180e35cbf9",
   "metadata": {},
   "source": [
    "### Simple statistics with a list of numbers\n",
    "`min()`\n",
    "<br>\n",
    "`max()`\n",
    "<br>\n",
    "`sum()`\n",
    "<br>"
   ]
  },
  {
   "cell_type": "code",
   "execution_count": 210,
   "id": "8fe5197b-d3d4-4618-8917-592e2cadd14b",
   "metadata": {},
   "outputs": [
    {
     "name": "stdout",
     "output_type": "stream",
     "text": [
      "[1, 2, 3, 4, 5, 6, 7, 8, 9, 0]\n"
     ]
    }
   ],
   "source": [
    "digits = [1, 2, 3, 4, 5, 6, 7, 8, 9, 0]\n",
    "print (digits)"
   ]
  },
  {
   "cell_type": "code",
   "execution_count": 211,
   "id": "2749ffb3-4b3f-40d8-83e5-77ab4414791a",
   "metadata": {},
   "outputs": [
    {
     "name": "stdout",
     "output_type": "stream",
     "text": [
      "minimum of digits is: 0\n",
      "maximum of digits is: 9\n",
      "sumation of digits is: 45\n"
     ]
    }
   ],
   "source": [
    "print (f\"minimum of digits is: {min(digits)}\")\n",
    "print (f\"maximum of digits is: {max(digits)}\")\n",
    "print (f\"sumation of digits is: {sum(digits)}\")\n",
    "\n"
   ]
  },
  {
   "cell_type": "markdown",
   "id": "c0a4df45-f2bf-42f2-8c93-8a10c7a542e7",
   "metadata": {},
   "source": [
    "### List comprehensions"
   ]
  },
  {
   "cell_type": "code",
   "execution_count": 212,
   "id": "b138874d-5dc4-46fb-87b7-19c80ceb1483",
   "metadata": {},
   "outputs": [
    {
     "name": "stdout",
     "output_type": "stream",
     "text": [
      "[1, 4, 9, 16, 25, 36, 49, 64, 81, 100]\n"
     ]
    }
   ],
   "source": [
    "squares = []\n",
    "for value in range(1, 11):\n",
    "    square = value ** 2\n",
    "    squares.append(square)\n",
    "\n",
    "print (squares)"
   ]
  },
  {
   "cell_type": "code",
   "execution_count": 213,
   "id": "216a9734-9782-47e6-b22a-90dce27489f0",
   "metadata": {},
   "outputs": [
    {
     "name": "stdout",
     "output_type": "stream",
     "text": [
      "[1, 4, 9, 16, 25, 36, 49, 64, 81, 100]\n"
     ]
    }
   ],
   "source": [
    "squares = [value**2 for value in range(1, 11)]\n",
    "print(squares)"
   ]
  },
  {
   "cell_type": "markdown",
   "id": "01880b1c-c580-49ab-a7b0-a64e23a66ce7",
   "metadata": {},
   "source": [
    "## Working with part of a list"
   ]
  },
  {
   "cell_type": "code",
   "execution_count": 214,
   "id": "2353d939-274e-4bab-84ab-4f6961cec66e",
   "metadata": {},
   "outputs": [],
   "source": [
    "digits = [5, 0, 6, 8, 0, 9, 5, 3, 4, 1, 2, 7]"
   ]
  },
  {
   "cell_type": "code",
   "execution_count": 215,
   "id": "bb04433b-4f31-44d0-b486-e443e3eb16fb",
   "metadata": {},
   "outputs": [
    {
     "name": "stdout",
     "output_type": "stream",
     "text": [
      "5\n"
     ]
    }
   ],
   "source": [
    "print (digits[0])"
   ]
  },
  {
   "cell_type": "markdown",
   "id": "9f56b899-bdfd-408c-ac55-fe0e31634493",
   "metadata": {},
   "source": [
    "### Slicing a list"
   ]
  },
  {
   "cell_type": "code",
   "execution_count": 216,
   "id": "f7bf01eb-6b5b-4727-afa0-040356189939",
   "metadata": {},
   "outputs": [
    {
     "name": "stdout",
     "output_type": "stream",
     "text": [
      "[5, 0, 6]\n"
     ]
    }
   ],
   "source": [
    "print (digits[0:3])"
   ]
  },
  {
   "cell_type": "code",
   "execution_count": 217,
   "id": "830cc42b-17bc-469e-b7d8-19ab3dbe81a4",
   "metadata": {},
   "outputs": [
    {
     "name": "stdout",
     "output_type": "stream",
     "text": [
      "[0, 6, 8]\n"
     ]
    }
   ],
   "source": [
    "print (digits[1:4])"
   ]
  },
  {
   "cell_type": "code",
   "execution_count": 218,
   "id": "435834a9-7f15-4f4e-851d-7db81d163856",
   "metadata": {},
   "outputs": [
    {
     "name": "stdout",
     "output_type": "stream",
     "text": [
      "[5, 0, 6, 8, 0]\n"
     ]
    }
   ],
   "source": [
    "print (digits[:5])"
   ]
  },
  {
   "cell_type": "code",
   "execution_count": 219,
   "id": "77200ca6-6601-4a31-a20a-f725bb48eb81",
   "metadata": {},
   "outputs": [
    {
     "name": "stdout",
     "output_type": "stream",
     "text": [
      "[9, 5, 3, 4, 1, 2, 7]\n"
     ]
    }
   ],
   "source": [
    "print (digits[5:])"
   ]
  },
  {
   "cell_type": "code",
   "execution_count": 220,
   "id": "62d0f7eb-3af0-4ad0-b5f5-8f2c72b49306",
   "metadata": {},
   "outputs": [
    {
     "name": "stdout",
     "output_type": "stream",
     "text": [
      "[1, 2, 7]\n"
     ]
    }
   ],
   "source": [
    "print (digits[-3:])"
   ]
  },
  {
   "cell_type": "code",
   "execution_count": 221,
   "id": "20df7de2-b8b9-411e-8436-68710dc72692",
   "metadata": {},
   "outputs": [
    {
     "name": "stdout",
     "output_type": "stream",
     "text": [
      "12\n"
     ]
    }
   ],
   "source": [
    "print (len(digits))"
   ]
  },
  {
   "cell_type": "code",
   "execution_count": 222,
   "id": "df775c99-ab9e-432e-8aae-c1569f546736",
   "metadata": {},
   "outputs": [
    {
     "name": "stdout",
     "output_type": "stream",
     "text": [
      "sum of [5, 0, 6] = 11\n",
      "sum of [8, 0, 9] = 17\n",
      "sum of [5, 3, 4] = 12\n",
      "sum of [1, 2, 7] = 10\n"
     ]
    }
   ],
   "source": [
    "new_list = []\n",
    "for i in range(4):\n",
    "    # print(digits[i*3: (i*3 + 3)])\n",
    "    print (f\"sum of {digits[i*3: (i*3 + 3)]} = {sum(digits[i*3: (i*3 + 3)])}\")\n",
    "    new_list.append(sum(digits[i*3: (i*3 + 3)]))\n",
    "    # sum_of_slices = digits[i*3: (i*3 + 3)]"
   ]
  },
  {
   "cell_type": "markdown",
   "id": "a2de8cf8-7441-4916-9fc9-83d6e44b0cd6",
   "metadata": {},
   "source": [
    "### Looping through a slice"
   ]
  },
  {
   "cell_type": "code",
   "execution_count": 223,
   "id": "02d70f1a-fcf6-4f96-8d1b-a3b9d3bc9c55",
   "metadata": {},
   "outputs": [
    {
     "name": "stdout",
     "output_type": "stream",
     "text": [
      "['yellow', 'red', 'green', 'blue', 'black', 'pink', 'brown']\n"
     ]
    }
   ],
   "source": [
    "colors = [\"yellow\", \"red\", \"green\", \"blue\", \"black\", \"pink\", \"brown\"]\n",
    "print (colors)"
   ]
  },
  {
   "cell_type": "code",
   "execution_count": 224,
   "id": "077bcc22-6aad-4f40-9493-ec5f152467fa",
   "metadata": {},
   "outputs": [
    {
     "name": "stdout",
     "output_type": "stream",
     "text": [
      "here are the first three colors\n",
      "**************************************************\n",
      "YELLOW\n",
      "RED\n",
      "GREEN\n"
     ]
    }
   ],
   "source": [
    "\n",
    "print (\"here are the first three colors\")\n",
    "print (50*\"*\")\n",
    "for new_slice_of_colors in colors[:3]:\n",
    "    print (new_slice_of_colors.upper())\n",
    "    "
   ]
  },
  {
   "cell_type": "markdown",
   "id": "40fd7998-e756-49a5-89c8-dcbf1e060ad4",
   "metadata": {},
   "source": [
    "### Copying a list"
   ]
  },
  {
   "cell_type": "code",
   "execution_count": 225,
   "id": "815d6caa-30c5-42c5-9f94-b88f34b6b7d9",
   "metadata": {},
   "outputs": [
    {
     "name": "stdout",
     "output_type": "stream",
     "text": [
      "['yellow', 'red', 'green', 'blue', 'black', 'pink', 'brown']\n"
     ]
    }
   ],
   "source": [
    "colors = [\"yellow\", \"red\", \"green\", \"blue\", \"black\", \"pink\", \"brown\"]\n",
    "print (colors)"
   ]
  },
  {
   "cell_type": "code",
   "execution_count": 226,
   "id": "c7796498-fe5c-4636-82dc-c7e31dac7e2f",
   "metadata": {},
   "outputs": [
    {
     "name": "stdout",
     "output_type": "stream",
     "text": [
      "['yellow', 'red', 'green', 'blue', 'black', 'pink', 'brown']\n"
     ]
    }
   ],
   "source": [
    "print (colors[:])"
   ]
  },
  {
   "cell_type": "code",
   "execution_count": 227,
   "id": "276f65a2-718c-486b-8353-aa7914a8719b",
   "metadata": {},
   "outputs": [],
   "source": [
    "new_colors = colors[:]"
   ]
  },
  {
   "cell_type": "code",
   "execution_count": 228,
   "id": "ee1b5a5a-033e-4b6f-a0f7-40cce47b7b19",
   "metadata": {},
   "outputs": [
    {
     "name": "stdout",
     "output_type": "stream",
     "text": [
      "['yellow', 'red', 'green', 'blue', 'black', 'pink', 'brown']\n",
      "['yellow', 'red', 'green', 'blue', 'black', 'pink', 'brown']\n",
      "['yellow', 'red', 'green', 'blue', 'black', 'pink', 'brown']\n",
      "['magenta', 'red', 'green', 'blue', 'black', 'pink', 'brown']\n"
     ]
    }
   ],
   "source": [
    "print (colors)\n",
    "print (new_colors)\n",
    "new_colors[0] = \"magenta\"\n",
    "print (colors)\n",
    "print (new_colors)"
   ]
  },
  {
   "cell_type": "code",
   "execution_count": 229,
   "id": "b155d89d-77ae-4d90-94c9-74e9a65974bd",
   "metadata": {},
   "outputs": [],
   "source": [
    "new_colors.append(\"white\")\n",
    "colors.append(\"dark_green\")\n"
   ]
  },
  {
   "cell_type": "code",
   "execution_count": 230,
   "id": "08064aea-8a54-4c3b-becc-10b7a68bb77e",
   "metadata": {},
   "outputs": [
    {
     "name": "stdout",
     "output_type": "stream",
     "text": [
      "['yellow', 'red', 'green', 'blue', 'black', 'pink', 'brown', 'dark_green']\n",
      "['magenta', 'red', 'green', 'blue', 'black', 'pink', 'brown', 'white']\n"
     ]
    }
   ],
   "source": [
    "print (colors)\n",
    "print (new_colors)"
   ]
  },
  {
   "cell_type": "code",
   "execution_count": 231,
   "id": "6f3b1f09-01cf-439f-bcf8-bda36a4cee62",
   "metadata": {},
   "outputs": [],
   "source": [
    "new_colors = colors"
   ]
  },
  {
   "cell_type": "code",
   "execution_count": 232,
   "id": "09cc57b1-0ff2-4c30-85a1-17474d33ba30",
   "metadata": {},
   "outputs": [
    {
     "name": "stdout",
     "output_type": "stream",
     "text": [
      "['yellow', 'red', 'green', 'blue', 'black', 'pink', 'brown', 'dark_green']\n",
      "['yellow', 'red', 'green', 'blue', 'black', 'pink', 'brown', 'dark_green']\n",
      "['magenta', 'red', 'green', 'blue', 'black', 'pink', 'brown', 'dark_green']\n",
      "['magenta', 'red', 'green', 'blue', 'black', 'pink', 'brown', 'dark_green']\n"
     ]
    }
   ],
   "source": [
    "print (colors)\n",
    "print (new_colors)\n",
    "new_colors[0] = \"magenta\"\n",
    "print (colors)\n",
    "print (new_colors)"
   ]
  },
  {
   "cell_type": "markdown",
   "id": "da975a94-3e07-45bb-abe2-ae3cc4dbca4b",
   "metadata": {},
   "source": [
    "## Tuples"
   ]
  },
  {
   "cell_type": "markdown",
   "id": "89f24092-af8d-44fc-b8da-8e7d2bd8ae6c",
   "metadata": {},
   "source": [
    "### Definign a tuple"
   ]
  },
  {
   "cell_type": "code",
   "execution_count": 233,
   "id": "9fa56dda-d6ea-4b9f-8726-d932bbfa29b5",
   "metadata": {},
   "outputs": [],
   "source": [
    "# my_tuple = (5, 6, 2, 3)\n",
    "my_tuple = tuple((5, 6, 2, 3))"
   ]
  },
  {
   "cell_type": "code",
   "execution_count": 234,
   "id": "c1c193df-86ab-4b26-8307-a893b7c27bd2",
   "metadata": {},
   "outputs": [
    {
     "name": "stdout",
     "output_type": "stream",
     "text": [
      "(5, 6, 2, 3)\n"
     ]
    }
   ],
   "source": [
    "print (my_tuple)"
   ]
  },
  {
   "cell_type": "code",
   "execution_count": 235,
   "id": "44afd540-eadf-4a42-9965-0a54048031a9",
   "metadata": {},
   "outputs": [
    {
     "name": "stdout",
     "output_type": "stream",
     "text": [
      "200\n",
      "50\n"
     ]
    }
   ],
   "source": [
    "dimensions = (200, 50)\n",
    "print (dimensions[0])\n",
    "print (dimensions[1])"
   ]
  },
  {
   "cell_type": "code",
   "execution_count": 236,
   "id": "1764196d-293b-4ec2-8902-669263c3dc5a",
   "metadata": {},
   "outputs": [],
   "source": [
    "new_tuple = 5, 3, 6"
   ]
  },
  {
   "cell_type": "code",
   "execution_count": 237,
   "id": "37c6f71b-e162-4134-b83e-d1dd2a7b58b4",
   "metadata": {},
   "outputs": [
    {
     "data": {
      "text/plain": [
       "tuple"
      ]
     },
     "execution_count": 237,
     "metadata": {},
     "output_type": "execute_result"
    }
   ],
   "source": [
    "type(new_tuple)"
   ]
  },
  {
   "cell_type": "markdown",
   "id": "c7f88c5a-e822-4137-bf6e-fd562bf826a4",
   "metadata": {},
   "source": [
    "#### list and tuple with one item"
   ]
  },
  {
   "cell_type": "code",
   "execution_count": 238,
   "id": "7a3e8e65-142f-4dfc-b7ef-d2cfc95af94e",
   "metadata": {},
   "outputs": [
    {
     "name": "stdout",
     "output_type": "stream",
     "text": [
      "[3]\n",
      "<class 'list'>\n"
     ]
    }
   ],
   "source": [
    "single_element_list = [3]\n",
    "print (single_element_list)\n",
    "print (type(single_element_list))"
   ]
  },
  {
   "cell_type": "code",
   "execution_count": 239,
   "id": "abf67f64-a490-4150-96fb-3e58e2bd362f",
   "metadata": {},
   "outputs": [
    {
     "name": "stdout",
     "output_type": "stream",
     "text": [
      "3\n",
      "<class 'int'>\n"
     ]
    }
   ],
   "source": [
    "single_element_tuple = (3)\n",
    "print (single_element_tuple)\n",
    "print (type(single_element_tuple))"
   ]
  },
  {
   "cell_type": "code",
   "execution_count": 240,
   "id": "eca0536d-b55f-4672-86fe-813e2e2fce61",
   "metadata": {},
   "outputs": [
    {
     "ename": "TypeError",
     "evalue": "'tuple' object does not support item assignment",
     "output_type": "error",
     "traceback": [
      "\u001b[1;31m---------------------------------------------------------------------------\u001b[0m",
      "\u001b[1;31mTypeError\u001b[0m                                 Traceback (most recent call last)",
      "Cell \u001b[1;32mIn[240], line 1\u001b[0m\n\u001b[1;32m----> 1\u001b[0m \u001b[43mdimensions\u001b[49m\u001b[43m[\u001b[49m\u001b[38;5;241;43m0\u001b[39;49m\u001b[43m]\u001b[49m \u001b[38;5;241m=\u001b[39m \u001b[38;5;241m250\u001b[39m \u001b[38;5;66;03m## error\u001b[39;00m\n",
      "\u001b[1;31mTypeError\u001b[0m: 'tuple' object does not support item assignment"
     ]
    }
   ],
   "source": [
    "dimensions[0] = 250 ## error"
   ]
  },
  {
   "cell_type": "markdown",
   "id": "ab546e2b-6a6d-40a0-8d4b-d13f433366d0",
   "metadata": {},
   "source": [
    "### Looping through all values in a tuple"
   ]
  },
  {
   "cell_type": "code",
   "execution_count": 241,
   "id": "36f2b445-0840-4544-93da-8a028820039d",
   "metadata": {},
   "outputs": [
    {
     "name": "stdout",
     "output_type": "stream",
     "text": [
      "200\n",
      "50\n"
     ]
    }
   ],
   "source": [
    "for dimension in dimensions:\n",
    "    print(dimension)"
   ]
  },
  {
   "cell_type": "code",
   "execution_count": 242,
   "id": "d14c20cd-4c75-4353-90e4-c9aed0115487",
   "metadata": {},
   "outputs": [
    {
     "name": "stdout",
     "output_type": "stream",
     "text": [
      "Original dimensions:\n",
      "200\n",
      "50\n",
      "\n",
      "Modified dimensions:\n",
      "400\n",
      "100\n"
     ]
    }
   ],
   "source": [
    "dimensions = (200, 50)\n",
    "print(\"Original dimensions:\")\n",
    "for dimension in dimensions:\n",
    "    print(dimension)\n",
    "    \n",
    "dimensions = (400, 100)\n",
    "print(\"\\nModified dimensions:\")\n",
    "for dimension in dimensions:\n",
    "    print(dimension)"
   ]
  },
  {
   "cell_type": "markdown",
   "id": "4dc97229-866e-4e57-b1f7-ee488cdc68d9",
   "metadata": {},
   "source": [
    "### Writing over a tuple"
   ]
  },
  {
   "cell_type": "code",
   "execution_count": 243,
   "id": "c9db9faf-25e8-4135-8bad-750bb1ef7c98",
   "metadata": {},
   "outputs": [
    {
     "name": "stdout",
     "output_type": "stream",
     "text": [
      "Original dimensions:\n",
      "200\n",
      "50\n",
      "\n",
      "Modified dimensions:\n",
      "400\n",
      "100\n"
     ]
    }
   ],
   "source": [
    "dimensions = (200, 50)\n",
    "print(\"Original dimensions:\")\n",
    "for dimension in dimensions:\n",
    "    print(dimension)\n",
    "    \n",
    "dimensions = (400, 100)\n",
    "print(\"\\nModified dimensions:\")\n",
    "for dimension in dimensions:\n",
    "    print(dimension)"
   ]
  },
  {
   "cell_type": "markdown",
   "id": "c88c42bf-550e-45c4-b0df-58f46f167ce1",
   "metadata": {},
   "source": [
    "## Styling Your Code\n"
   ]
  },
  {
   "cell_type": "markdown",
   "id": "c504d6c6-062c-4b4f-a836-0f0118a79324",
   "metadata": {},
   "source": [
    "### The style guide\n",
    "Python Enhancement Proposal (PEP) <br>\n",
    "one of the oldest PEPs is PEP 8"
   ]
  },
  {
   "cell_type": "markdown",
   "id": "50d4f2a8-ee3b-437a-9e2b-67555cd86b26",
   "metadata": {},
   "source": [
    "### Indentation"
   ]
  },
  {
   "cell_type": "markdown",
   "id": "2c169a7f-fbad-4aac-a7e1-5511af3c1285",
   "metadata": {},
   "source": [
    "PEP 8 recommends that you use four spaces per indentation level"
   ]
  },
  {
   "cell_type": "markdown",
   "id": "2eeb8272-6ae2-4a3b-badc-ca413291c4fa",
   "metadata": {},
   "source": [
    "### Line length\n",
    "in old terminal: up to 79 characters <br>\n",
    "PEP 8 for comments: up to 72 characters <br>\n",
    "some teams prefer up to 99-character limit."
   ]
  },
  {
   "cell_type": "code",
   "execution_count": 244,
   "id": "93c9f680-c73b-460c-86e6-e22d825c3d26",
   "metadata": {},
   "outputs": [
    {
     "name": "stdout",
     "output_type": "stream",
     "text": [
      "ali\n"
     ]
    }
   ],
   "source": [
    "if True and True and True and \\\n",
    "    True and True:\n",
    "    print (\"ali\")\n",
    "else: \n",
    "    print (\"amir\")"
   ]
  },
  {
   "cell_type": "markdown",
   "id": "a6649cdd-6c9d-4c00-86c2-573db46406b7",
   "metadata": {},
   "source": [
    "### Blank lines"
   ]
  },
  {
   "cell_type": "code",
   "execution_count": 245,
   "id": "0cdb8ea1-e691-4b50-be49-429a5839a526",
   "metadata": {},
   "outputs": [
    {
     "name": "stdout",
     "output_type": "stream",
     "text": [
      "1\n",
      "2\n",
      "3\n",
      "4\n"
     ]
    }
   ],
   "source": [
    "my_list = [1, 2, 3, 4]\n",
    "\n",
    "for item in my_list:\n",
    "    print (item)"
   ]
  },
  {
   "cell_type": "markdown",
   "id": "00fbd5b5-d872-4b0d-9609-03f3163dc1db",
   "metadata": {},
   "source": [
    "### Other style guidelines"
   ]
  },
  {
   "cell_type": "markdown",
   "id": "b91b92e7-d567-409d-b6a0-39e3c23b349e",
   "metadata": {},
   "source": [
    "PEP 8 has many additional styling recommendations, but most of the guidelines refer to more complex programs than what you’re writing at this point. As you learn more complex Python structures, I’ll share the relevant parts of the PEP 8 guidelines."
   ]
  }
 ],
 "metadata": {
  "kernelspec": {
   "display_name": "Python 3 (ipykernel)",
   "language": "python",
   "name": "python3"
  },
  "language_info": {
   "codemirror_mode": {
    "name": "ipython",
    "version": 3
   },
   "file_extension": ".py",
   "mimetype": "text/x-python",
   "name": "python",
   "nbconvert_exporter": "python",
   "pygments_lexer": "ipython3",
   "version": "3.9.19"
  }
 },
 "nbformat": 4,
 "nbformat_minor": 5
}
