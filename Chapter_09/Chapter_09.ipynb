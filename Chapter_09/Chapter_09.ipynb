{
 "cells": [
  {
   "cell_type": "markdown",
   "id": "1b23eb17-73c6-47c6-929b-3201590879e3",
   "metadata": {},
   "source": [
    "# **Classes**\n",
    "***In this chapter, you'll learn Object-Oriented Programming which is called `OOP`.***\n",
    "\n",
    "***Book: Python Crash Course!***"
   ]
  },
  {
   "cell_type": "markdown",
   "id": "07f5fa15-6d13-41aa-a329-30d480e4be18",
   "metadata": {},
   "source": [
    "## **Creating and Using a Class**"
   ]
  },
  {
   "cell_type": "markdown",
   "id": "d7bec868-2596-42eb-9cbe-5fae09a223d9",
   "metadata": {},
   "source": [
    "***For example we create a class for representing dogs***  <br>\n",
    "Most pet dogs have a name and an age. Also they sit and roll."
   ]
  },
  {
   "cell_type": "markdown",
   "id": "54cf6594-e770-4ec1-a572-ed1c55df8141",
   "metadata": {},
   "source": [
    "### Creating the Dog Class"
   ]
  },
  {
   "cell_type": "code",
   "execution_count": 8,
   "id": "8a832291-96c7-40b9-adfe-8a2f70efee20",
   "metadata": {},
   "outputs": [],
   "source": [
    "class Dog: # use a capital name for definition of classes\n",
    "    \"\"\"A simple attempt to model a dog.\"\"\"\n",
    "\n",
    "    def __init__(self, name, age):\n",
    "        \"\"\"Initialize name and age attributes.\"\"\"\n",
    "        self.name = name\n",
    "        self.age = age\n",
    "\n",
    "    def sit(self):\n",
    "        \"\"\"Simulate a dog sitting in response to a command.\"\"\"\n",
    "        print(f\"{self.name} is now sitting.\")\n",
    "\n",
    "    def roll_over(self):\n",
    "        \"\"\"Simulate rolling over in response to a command.\"\"\"\n",
    "        print(f\"{self.name} rolled over!\")\n",
    "\n",
    "    "
   ]
  },
  {
   "cell_type": "markdown",
   "id": "30852fe1-37c7-4bb1-a848-b8e0faa5ef5a",
   "metadata": {},
   "source": [
    "### The `__init__()` Method"
   ]
  },
  {
   "cell_type": "markdown",
   "id": "aef739b5-c1f8-487f-8568-bb7e42076ca8",
   "metadata": {},
   "source": [
    "is a special method that Python runs automatically whenever we create a new instance based on the Dog class"
   ]
  },
  {
   "cell_type": "markdown",
   "id": "2095c0ef-91f2-4413-b8f3-f5507dcb0251",
   "metadata": {},
   "source": [
    "### Making an Instance from a Class"
   ]
  },
  {
   "cell_type": "code",
   "execution_count": 7,
   "id": "4f1aefc7-a1b6-4617-ae4b-33da0fc7ceec",
   "metadata": {},
   "outputs": [
    {
     "name": "stdout",
     "output_type": "stream",
     "text": [
      "Hello\n",
      "My dog's name is Jessi.\n",
      "My dog is 5 years old.\n"
     ]
    }
   ],
   "source": [
    "my_dog = Dog(\"Jessi\", 5);\n",
    "\n",
    "print(f\"My dog's name is {my_dog.name}.\")\n",
    "print(f\"My dog is {my_dog.age} years old.\")"
   ]
  },
  {
   "cell_type": "markdown",
   "id": "63913675-42e7-447f-ab98-668b9091fc03",
   "metadata": {},
   "source": [
    "#### Accessing attributes\n",
    "use dot notation (`.`)"
   ]
  },
  {
   "cell_type": "code",
   "execution_count": 5,
   "id": "c0182923-4948-469d-92ed-c7e9b8a39b4e",
   "metadata": {},
   "outputs": [
    {
     "name": "stdout",
     "output_type": "stream",
     "text": [
      "Jessi\n",
      "5\n"
     ]
    }
   ],
   "source": [
    "print(my_dog.name)\n",
    "print(my_dog.age)\n"
   ]
  },
  {
   "cell_type": "markdown",
   "id": "db174ded-2fcd-4663-8e87-df04e1ba7ff3",
   "metadata": {},
   "source": [
    "#### Calling methods\n",
    "use dot notation (`.`)"
   ]
  },
  {
   "cell_type": "code",
   "execution_count": 9,
   "id": "221428c4-8466-47ef-9350-a14edf0957bf",
   "metadata": {},
   "outputs": [
    {
     "name": "stdout",
     "output_type": "stream",
     "text": [
      "Jessi is now sitting.\n",
      "Jessi rolled over!\n"
     ]
    }
   ],
   "source": [
    "my_dog = Dog(\"Jessi\", 5)\n",
    "\n",
    "my_dog.sit()\n",
    "my_dog.roll_over()"
   ]
  },
  {
   "cell_type": "markdown",
   "id": "81409946-fb86-4044-9c9b-a01a098786bf",
   "metadata": {},
   "source": [
    "#### Creating multiple instances"
   ]
  },
  {
   "cell_type": "code",
   "execution_count": 15,
   "id": "8e549cde-a793-4cd4-b5bd-f66932e925cb",
   "metadata": {},
   "outputs": [
    {
     "name": "stdout",
     "output_type": "stream",
     "text": [
      "My dog's name is Alex.\n",
      "My dog is 4 years old.\n",
      "Alex is now sitting.\n",
      "--------------------------------------------------\n",
      "My friend's dog's name is Teddy.\n",
      "My friend's dog is 10 years old.\n",
      "Teddy rolled over!\n"
     ]
    }
   ],
   "source": [
    "my_dog = Dog(\"Alex\", 4)\n",
    "my_friend_dog = Dog(\"Teddy\", 10)\n",
    "\n",
    "print(f\"My dog's name is {my_dog.name}.\")\n",
    "print(f\"My dog is {my_dog.age} years old.\")\n",
    "my_dog.sit()\n",
    "print(50*\"-\")\n",
    "print(f\"My friend's dog's name is {my_friend_dog.name}.\")\n",
    "print(f\"My friend's dog is {my_friend_dog.age} years old.\")\n",
    "my_friend_dog.roll_over()"
   ]
  },
  {
   "cell_type": "markdown",
   "id": "3da3d7b8-f544-476e-8bfe-082a6dfd6e8e",
   "metadata": {},
   "source": [
    "## **Working with Classes and Instances**"
   ]
  },
  {
   "cell_type": "markdown",
   "id": "90dd4dcc-3cbf-4391-8736-99a027b9c14d",
   "metadata": {},
   "source": [
    "### The Rectangle Class"
   ]
  },
  {
   "cell_type": "code",
   "execution_count": 19,
   "id": "555d0dd6-6b08-466f-adf7-61a6481259dc",
   "metadata": {},
   "outputs": [],
   "source": [
    "class Rectangle:\n",
    "    def __init__(self, x, y):\n",
    "        self.x = x\n",
    "        self.y = y\n",
    "        if (x == y):\n",
    "            print(\"You've created a square shape!\")\n",
    "        else:\n",
    "            print(\"You've created a rectangle shape!\")"
   ]
  },
  {
   "cell_type": "code",
   "execution_count": 22,
   "id": "115f06d1-4324-4986-85d3-c545b6b202ba",
   "metadata": {},
   "outputs": [
    {
     "name": "stdout",
     "output_type": "stream",
     "text": [
      "You've created a square shape!\n",
      "You've created a rectangle shape!\n"
     ]
    }
   ],
   "source": [
    "rect = Rectangle(10, 10)\n",
    "rect = Rectangle(9, 10)"
   ]
  },
  {
   "cell_type": "markdown",
   "id": "eb9ba808-aba5-483f-9048-cafa48f1ebec",
   "metadata": {},
   "source": [
    "### The Car Class"
   ]
  },
  {
   "cell_type": "code",
   "execution_count": 23,
   "id": "dd27e03e-b912-49cd-9894-b5f287e2b042",
   "metadata": {},
   "outputs": [],
   "source": [
    "class Car:\n",
    "    \"\"\"A simple attempt to represent a car.\"\"\"\n",
    "\n",
    "    def __init__(self, make, model, year):\n",
    "        self.make = make\n",
    "        self.model = model\n",
    "        self.year = year\n",
    "\n",
    "    def get_descriptive_name(self):\n",
    "        \"\"\"Return a neatly formatted descriptive name.\"\"\"\n",
    "        long_name = f\"{self.year} {self.make} {self.model}\"\n",
    "        return long_name.title()"
   ]
  },
  {
   "cell_type": "code",
   "execution_count": 24,
   "id": "186d2d3b-aaf3-48a8-a56d-056b843a6a97",
   "metadata": {},
   "outputs": [
    {
     "name": "stdout",
     "output_type": "stream",
     "text": [
      "2024 Audi A4\n"
     ]
    }
   ],
   "source": [
    "my_new_car = Car(\"audi\", \"a4\", 2024)\n",
    "print (my_new_car.get_descriptive_name())"
   ]
  },
  {
   "cell_type": "markdown",
   "id": "86cac2b7-f801-4f30-9636-fa0ec3ce2c8f",
   "metadata": {},
   "source": [
    "### Setting a Default Value for an Attribute"
   ]
  },
  {
   "cell_type": "code",
   "execution_count": 28,
   "id": "3f1c11c2-558b-4b12-ae7e-cce0c7d0cf84",
   "metadata": {},
   "outputs": [],
   "source": [
    "class Car:\n",
    "    \"\"\"A simple attempt to represent a car.\"\"\"\n",
    "\n",
    "    def __init__(self, make, model, year):\n",
    "        self.make = make\n",
    "        self.model = model\n",
    "        self.year = year\n",
    "        self.odometer_reading = 0\n",
    "\n",
    "    def get_descriptive_name(self):\n",
    "        \"\"\"Return a neatly formatted descriptive name.\"\"\"\n",
    "        long_name = f\"{self.year} {self.make} {self.model}\"\n",
    "        return long_name.title()\n",
    "\n",
    "    def read_odometer(self):\n",
    "        \"\"\"Print a statement showing the car's mileage.\"\"\"\n",
    "        print(f\"This car has {self.odometer_reading} kilometers on it.\")"
   ]
  },
  {
   "cell_type": "code",
   "execution_count": 31,
   "id": "1ae95124-afb3-4e94-91fc-47cafc0fc2e0",
   "metadata": {},
   "outputs": [
    {
     "name": "stdout",
     "output_type": "stream",
     "text": [
      "2024 Audi A4\n",
      "This car has 0 kilometers on it.\n"
     ]
    }
   ],
   "source": [
    "my_new_car = Car('audi', 'a4', 2024)\n",
    "# long_name = my_new_car.get_descriptive_name()\n",
    "# print(long_name)\n",
    "print(my_new_car.get_descriptive_name())\n",
    "my_new_car.read_odometer()"
   ]
  },
  {
   "cell_type": "code",
   "execution_count": null,
   "id": "af9e0223-b956-4509-a2dd-b35e71d6c686",
   "metadata": {},
   "outputs": [],
   "source": []
  },
  {
   "cell_type": "markdown",
   "id": "9bd92641-3413-4565-a2f9-e3ee80697078",
   "metadata": {},
   "source": [
    "### Modifying Attribute Values"
   ]
  },
  {
   "cell_type": "markdown",
   "id": "c931d156-bdee-4422-a2d0-323316e17d3a",
   "metadata": {},
   "source": [
    "- You can change an attribute’s value in three ways:  \n",
    "  - **Change the value directly** through an instance.  \n",
    "  - **Set the value through a method.**  \n",
    "  - **Increment the value** (add a certain amount to it) through a method.\n",
    "\n",
    "*Let’s look at each of these approaches.*"
   ]
  },
  {
   "cell_type": "markdown",
   "id": "b81dd2d2-3aff-4953-bf71-f5148b9d692e",
   "metadata": {},
   "source": [
    "#### Modifying an Attribute's Value Directly"
   ]
  },
  {
   "cell_type": "code",
   "execution_count": 33,
   "id": "b8293290-2b11-4572-a0e6-e4f911047064",
   "metadata": {},
   "outputs": [
    {
     "name": "stdout",
     "output_type": "stream",
     "text": [
      "2024 Audi A4\n",
      "This car has 100 kilometers on it.\n"
     ]
    }
   ],
   "source": [
    "my_new_car = Car('audi', 'a4', 2024)\n",
    "print(my_new_car.get_descriptive_name())\n",
    "my_new_car.odometer_reading = 100\n",
    "my_new_car.read_odometer()"
   ]
  },
  {
   "cell_type": "code",
   "execution_count": null,
   "id": "ebaa483b-0f3c-4c3d-af15-d84e61cf2eea",
   "metadata": {},
   "outputs": [],
   "source": []
  },
  {
   "cell_type": "markdown",
   "id": "e47116d6-eddf-4b74-af02-2d58982cbe15",
   "metadata": {},
   "source": [
    "#### Modifying an Attribute's Value Through a method"
   ]
  },
  {
   "cell_type": "code",
   "execution_count": 37,
   "id": "dd666e87-6307-4798-a707-6930030fbc7b",
   "metadata": {},
   "outputs": [],
   "source": [
    "class Car:\n",
    "    \"\"\"A simple attempt to represent a car.\"\"\"\n",
    "\n",
    "    def __init__(self, make, model, year):\n",
    "        self.make = make\n",
    "        self.model = model\n",
    "        self.year = year\n",
    "        self.odometer_reading = 0\n",
    "\n",
    "    def get_descriptive_name(self):\n",
    "        \"\"\"Return a neatly formatted descriptive name.\"\"\"\n",
    "        long_name = f\"{self.year} {self.make} {self.model}\"\n",
    "        return long_name.title()\n",
    "\n",
    "    def read_odometer(self):\n",
    "        \"\"\"Print a statement showing the car's mileage.\"\"\"\n",
    "        print(f\"This car has {self.odometer_reading} kilometers on it.\")\n",
    "\n",
    "    def update_odometer(self, mileage):\n",
    "        \"\"\"Set the odometer reading to the given value.\"\"\"\n",
    "        self.odometer_reading = mileage"
   ]
  },
  {
   "cell_type": "code",
   "execution_count": 39,
   "id": "6ed78224-d465-4eed-a669-e6b182339ca3",
   "metadata": {},
   "outputs": [
    {
     "name": "stdout",
     "output_type": "stream",
     "text": [
      "2024 Audi A4\n",
      "This car has 61 kilometers on it.\n"
     ]
    }
   ],
   "source": [
    "my_new_car = Car('audi', 'a4', 2024)\n",
    "print(my_new_car.get_descriptive_name())\n",
    "\n",
    "my_new_car.update_odometer(61)\n",
    "my_new_car.read_odometer()"
   ]
  },
  {
   "cell_type": "code",
   "execution_count": 41,
   "id": "e33b68cf-89ce-47f5-888e-f9b7ed8d4f84",
   "metadata": {},
   "outputs": [],
   "source": [
    "class Car:\n",
    "    \"\"\"A simple attempt to represent a car.\"\"\"\n",
    "\n",
    "    def __init__(self, make, model, year):\n",
    "        self.make = make\n",
    "        self.model = model\n",
    "        self.year = year\n",
    "        self.odometer_reading = 0\n",
    "\n",
    "    def get_descriptive_name(self):\n",
    "        \"\"\"Return a neatly formatted descriptive name.\"\"\"\n",
    "        long_name = f\"{self.year} {self.make} {self.model}\"\n",
    "        return long_name.title()\n",
    "\n",
    "    def read_odometer(self):\n",
    "        \"\"\"Print a statement showing the car's mileage.\"\"\"\n",
    "        print(f\"This car has {self.odometer_reading} kilometers on it.\")\n",
    "\n",
    "    def update_odometer(self, mileage):\n",
    "        \"\"\"\n",
    "        Set the odometer reading to the given value.\n",
    "        Reject the change if it attempts to roll the odometer back.\n",
    "        \"\"\"\n",
    "        if mileage >= self.odometer_reading:\n",
    "            self.odometer_reading = mileage\n",
    "        else:\n",
    "            print(\"You can't roll back an odometer!\")"
   ]
  },
  {
   "cell_type": "code",
   "execution_count": 45,
   "id": "27b95c4d-cfcb-4356-ad99-74e595e665e1",
   "metadata": {},
   "outputs": [
    {
     "name": "stdout",
     "output_type": "stream",
     "text": [
      "2024 Audi A4\n",
      "This car has 23 kilometers on it.\n"
     ]
    }
   ],
   "source": [
    "my_new_car = Car('audi', 'a4', 2024)\n",
    "print(my_new_car.get_descriptive_name())\n",
    "\n",
    "my_new_car.update_odometer(23)\n",
    "my_new_car.read_odometer()"
   ]
  },
  {
   "cell_type": "code",
   "execution_count": 50,
   "id": "c080ffbc-bef2-47c3-bb3c-fcdfd2dfcef9",
   "metadata": {},
   "outputs": [
    {
     "name": "stdout",
     "output_type": "stream",
     "text": [
      "You can't roll back an odometer!\n",
      "This car has 30 kilometers on it.\n"
     ]
    }
   ],
   "source": [
    "my_new_car.update_odometer(20)\n",
    "my_new_car.read_odometer()"
   ]
  },
  {
   "cell_type": "markdown",
   "id": "979bf5bd-7bcf-48ac-87ee-7fefcebe9549",
   "metadata": {},
   "source": [
    "#### Incrementing an attribute's value through a method"
   ]
  },
  {
   "cell_type": "code",
   "execution_count": 51,
   "id": "18801db3-76c7-4e00-b085-0fc175605338",
   "metadata": {},
   "outputs": [],
   "source": [
    "class Car:\n",
    "    \"\"\"A simple attempt to represent a car.\"\"\"\n",
    "\n",
    "    def __init__(self, make, model, year):\n",
    "        self.make = make\n",
    "        self.model = model\n",
    "        self.year = year\n",
    "        self.odometer_reading = 0\n",
    "\n",
    "    def get_descriptive_name(self):\n",
    "        \"\"\"Return a neatly formatted descriptive name.\"\"\"\n",
    "        long_name = f\"{self.year} {self.make} {self.model}\"\n",
    "        return long_name.title()\n",
    "\n",
    "    def read_odometer(self):\n",
    "        \"\"\"Print a statement showing the car's mileage.\"\"\"\n",
    "        print(f\"This car has {self.odometer_reading} kilometers on it.\")\n",
    "\n",
    "    def update_odometer(self, mileage):\n",
    "        \"\"\"\n",
    "        Set the odometer reading to the given value.\n",
    "        Reject the change if it attempts to roll the odometer back.\n",
    "        \"\"\"\n",
    "        if mileage >= self.odometer_reading:\n",
    "            self.odometer_reading = mileage\n",
    "        else:\n",
    "            print(\"You can't roll back an odometer!\")\n",
    "\n",
    "    def increment_odometer(self, kilometers):\n",
    "        \"\"\"Add the given amount to the odometer reading.\"\"\"\n",
    "        self.odometer_reading += kilometers"
   ]
  },
  {
   "cell_type": "code",
   "execution_count": 52,
   "id": "8cfb6a5b-ac36-4bf3-8cd9-6ea95d773b5e",
   "metadata": {},
   "outputs": [
    {
     "name": "stdout",
     "output_type": "stream",
     "text": [
      "2019 Subaru Outback\n"
     ]
    }
   ],
   "source": [
    "my_used_car = Car('subaru', 'outback', 2019)\n",
    "print(my_used_car.get_descriptive_name())"
   ]
  },
  {
   "cell_type": "code",
   "execution_count": 54,
   "id": "56565072-cdad-4183-91a3-1044b64a3ef6",
   "metadata": {},
   "outputs": [
    {
     "name": "stdout",
     "output_type": "stream",
     "text": [
      "This car has 23500 kilometers on it.\n"
     ]
    }
   ],
   "source": [
    "my_used_car.update_odometer(23_500)\n",
    "my_used_car.read_odometer()"
   ]
  },
  {
   "cell_type": "code",
   "execution_count": 55,
   "id": "df90f8fe-355c-413c-86d3-f274d2ddf51b",
   "metadata": {},
   "outputs": [
    {
     "name": "stdout",
     "output_type": "stream",
     "text": [
      "This car has 23600 kilometers on it.\n"
     ]
    }
   ],
   "source": [
    "my_used_car.increment_odometer(100)\n",
    "my_used_car.read_odometer()"
   ]
  },
  {
   "cell_type": "markdown",
   "id": "7850a75b-a2d0-4b15-bd8f-603d7761456b",
   "metadata": {},
   "source": [
    "**\"Make sure the user cannot enter a negative number as the input to reduce the kilometers**"
   ]
  },
  {
   "cell_type": "markdown",
   "id": "189a6b23-b3df-4a70-89cc-577e0cc0df31",
   "metadata": {},
   "source": [
    "## **Inheritance**"
   ]
  },
  {
   "cell_type": "markdown",
   "id": "78bafe26-f22c-4aa1-9721-beb1035006c8",
   "metadata": {},
   "source": [
    "### The `__init__()` Method for a Child Class"
   ]
  },
  {
   "cell_type": "code",
   "execution_count": 61,
   "id": "541aa6e9-2a2f-40b1-8202-dff0c2ea363f",
   "metadata": {},
   "outputs": [],
   "source": [
    "class Car:\n",
    "    \"\"\"A simple attempt to represent a car.\"\"\"\n",
    "\n",
    "    def __init__(self, make, model, year):\n",
    "        self.make = make\n",
    "        self.model = model\n",
    "        self.year = year\n",
    "        self.odometer_reading = 0\n",
    "\n",
    "    def get_descriptive_name(self):\n",
    "        \"\"\"Return a neatly formatted descriptive name.\"\"\"\n",
    "        long_name = f\"{self.year} {self.make} {self.model}\"\n",
    "        return long_name.title()\n",
    "\n",
    "    def read_odometer(self):\n",
    "        \"\"\"Print a statement showing the car's mileage.\"\"\"\n",
    "        print(f\"This car has {self.odometer_reading} kilometers on it.\")\n",
    "\n",
    "    def update_odometer(self, mileage):\n",
    "        \"\"\"\n",
    "        Set the odometer reading to the given value.\n",
    "        Reject the change if it attempts to roll the odometer back.\n",
    "        \"\"\"\n",
    "        if mileage >= self.odometer_reading:\n",
    "            self.odometer_reading = mileage\n",
    "        else:\n",
    "            print(\"You can't roll back an odometer!\")\n",
    "\n",
    "    def increment_odometer(self, kilometers):\n",
    "        \"\"\"Add the given amount to the odometer reading.\"\"\"\n",
    "        self.odometer_reading += kilometers\n",
    "\n",
    "    def fill_gas_tank(self):\n",
    "        \"\"\"This car is not an electric car.\"\"\"\n",
    "        print(\"This car is not an electric car!.\\nThis needs a gas tank to hold fuel\")\n",
    "\n"
   ]
  },
  {
   "cell_type": "code",
   "execution_count": 62,
   "id": "a8831a52-ab03-4d56-8775-e7fffdaaadad",
   "metadata": {},
   "outputs": [
    {
     "name": "stdout",
     "output_type": "stream",
     "text": [
      "2024 Nissan Leaf\n"
     ]
    }
   ],
   "source": [
    "class ElectricCar(Car):\n",
    "    \"\"\"Represent aspects of a car, specific to electric vehicles.\"\"\"\n",
    "    \n",
    "    def __init__(self, make, model, year):\n",
    "        \"\"\"Initialize attributes of the parent class.\"\"\"\n",
    "        super().__init__(make, model, year)\n",
    "\n",
    "my_leaf = ElectricCar('nissan', 'leaf', 2024)\n",
    "print(my_leaf.get_descriptive_name())\n"
   ]
  },
  {
   "cell_type": "markdown",
   "id": "004a7473-0994-4f12-9584-1035eaa54226",
   "metadata": {},
   "source": [
    "### Defining Attributes and Methods for the Child Class"
   ]
  },
  {
   "cell_type": "code",
   "execution_count": 63,
   "id": "cfdbe8fe-0dab-4fe7-b645-ef51dbe1303e",
   "metadata": {},
   "outputs": [],
   "source": [
    "class ElectricCar(Car):\n",
    "    \"\"\"Represent aspects of a car, specific to electric vehicles.\"\"\"\n",
    "    \n",
    "    def __init__(self, make, model, year):\n",
    "        \"\"\"\n",
    "        Initialize attributes of the parent class.\n",
    "        Then initialize attributes specific to an electric car.\n",
    "        \"\"\"\n",
    "        super().__init__(make, model, year)\n",
    "        self.battery_size = 40\n",
    "\n",
    "    def describe_battery(self):\n",
    "        \"\"\"Print a statement describing the battery size.\"\"\"\n",
    "        print(f\"This car has a {self.battery_size}-kWh battery.\")"
   ]
  },
  {
   "cell_type": "code",
   "execution_count": 64,
   "id": "2f801732-16a6-4918-941e-4b02385d83c7",
   "metadata": {},
   "outputs": [
    {
     "name": "stdout",
     "output_type": "stream",
     "text": [
      "2024 Nissan Leaf\n",
      "This car has a 40-kWh battery.\n"
     ]
    }
   ],
   "source": [
    "my_leaf = ElectricCar('nissan', 'leaf', 2024)\n",
    "print(my_leaf.get_descriptive_name())\n",
    "my_leaf.describe_battery()"
   ]
  },
  {
   "cell_type": "markdown",
   "id": "7277928d-f046-4f64-b3aa-8ab8ac9a3a1b",
   "metadata": {},
   "source": [
    "### Overriding Methods from the Parent Class"
   ]
  },
  {
   "cell_type": "code",
   "execution_count": null,
   "id": "d4f92084-b1a8-4686-99d8-aa92224080dd",
   "metadata": {},
   "outputs": [],
   "source": []
  },
  {
   "cell_type": "code",
   "execution_count": 72,
   "id": "6e5fb179-4b6f-4cd6-9e64-1d890a59e25d",
   "metadata": {},
   "outputs": [
    {
     "name": "stdout",
     "output_type": "stream",
     "text": [
      "This car doesn't have a gas tank!\n"
     ]
    }
   ],
   "source": [
    "class ElectricCar(Car):\n",
    "    \"\"\"Represent aspects of a car, specific to electric vehicles.\"\"\"\n",
    "    \n",
    "    def __init__(self, make, model, year):\n",
    "        \"\"\"\n",
    "        Initialize attributes of the parent class.\n",
    "        Then initialize attributes specific to an electric car.\n",
    "        \"\"\"\n",
    "        super().__init__(make, model, year)\n",
    "        self.battery_size = 40\n",
    "\n",
    "    def describe_battery(self):\n",
    "        \"\"\"Print a statement describing the battery size.\"\"\"\n",
    "        print(f\"This car has a {self.battery_size}-kWh battery.\")\n",
    "\n",
    "    def fill_gas_tank(self):\n",
    "        \"\"\"Electric cars don't have gas tanks.\"\"\"\n",
    "        print(\"This car doesn't have a gas tank!\")\n",
    "\n",
    "my_car = ElectricCar(\"audi\", \"best\", 2025)\n",
    "my_car.fill_gas_tank()"
   ]
  },
  {
   "cell_type": "markdown",
   "id": "2bf3c0c3-757b-4cb9-a94a-d038bc61e088",
   "metadata": {},
   "source": [
    "### Instances as Attributes\n",
    "**composition**"
   ]
  },
  {
   "cell_type": "code",
   "execution_count": 75,
   "id": "4784e8cd-f19c-4d5d-b8ba-ba05bdac2f70",
   "metadata": {},
   "outputs": [],
   "source": [
    "class Battery:\n",
    "    \"\"\"A simple attempt to model a battery for an electric car.\"\"\"\n",
    "    def __init__(self, battery_size=50):\n",
    "        \"\"\"Initialize the battery's attributes.\"\"\"\n",
    "        self.battery_size = battery_size\n",
    "\n",
    "    def describe_battery(self):\n",
    "        \"\"\"Print a statement describing the battery size.\"\"\"\n",
    "        print(f\"This car has a {self.battery_size}-kWh battery.\")\n",
    "\n",
    "class ElectricCar(Car):\n",
    "    \"\"\"Represent aspects of a car, specific to electric vehicles.\"\"\"\n",
    "    \n",
    "    def __init__(self, make, model, year):\n",
    "        \"\"\"\n",
    "        Initialize attributes of the parent class.\n",
    "        Then initialize attributes specific to an electric car.\n",
    "        \"\"\"\n",
    "        super().__init__(make, model, year)\n",
    "        self.battery = Battery()"
   ]
  },
  {
   "cell_type": "code",
   "execution_count": 76,
   "id": "3b76271f-29de-4556-b466-8658e676b8ea",
   "metadata": {},
   "outputs": [
    {
     "name": "stdout",
     "output_type": "stream",
     "text": [
      "2024 Nissan Leaf\n",
      "This car has a 50-kWh battery.\n"
     ]
    }
   ],
   "source": [
    "my_leaf = ElectricCar('nissan', 'leaf', 2024)\n",
    "print(my_leaf.get_descriptive_name())\n",
    "my_leaf.battery.describe_battery()"
   ]
  },
  {
   "cell_type": "code",
   "execution_count": 94,
   "id": "626902fb-14e1-40dd-ad1a-a460686487cb",
   "metadata": {},
   "outputs": [],
   "source": [
    "class Battery:\n",
    "    \"\"\"A simple attempt to model a battery for an electric car.\"\"\"\n",
    "    def __init__(self, battery_size=40):\n",
    "        \"\"\"Initialize the battery's attributes.\"\"\"\n",
    "        self.battery_size = battery_size\n",
    "\n",
    "    def describe_battery(self):\n",
    "        \"\"\"Print a statement describing the battery size.\"\"\"\n",
    "        print(f\"This car has a {self.battery_size}-kWh battery.\")\n",
    "\n",
    "    def get_range(self):\n",
    "        \"\"\"Print a statement about the range this battery provides.\"\"\"\n",
    "        if self.battery_size == 40:\n",
    "            range = 150\n",
    "        elif self.battery_size == 65:\n",
    "            range = 225\n",
    "            \n",
    "        print(f\"This car can go about {range} kilometers on a full charge.\")\n",
    "\n",
    "# class ElectricCar(Car):\n",
    "#     \"\"\"Represent aspects of a car, specific to electric vehicles.\"\"\"\n",
    "    \n",
    "#     def __init__(self, make, model, year, battery_size=40):\n",
    "#         \"\"\"\n",
    "#         Initialize attributes of the parent class.\n",
    "#         Then initialize attributes specific to an electric car.\n",
    "#         \"\"\"\n",
    "#         super().__init__(make, model, year)\n",
    "#         self.battery = Battery(battery_size)"
   ]
  },
  {
   "cell_type": "code",
   "execution_count": 96,
   "id": "14c8b560-e7ca-437b-9fa8-7b5ff7eef32e",
   "metadata": {},
   "outputs": [
    {
     "name": "stdout",
     "output_type": "stream",
     "text": [
      "2024 Nissan Leaf\n"
     ]
    }
   ],
   "source": [
    "my_leaf = ElectricCar('nissan', 'leaf', 2024)\n",
    "print(my_leaf.get_descriptive_name())"
   ]
  },
  {
   "cell_type": "code",
   "execution_count": 97,
   "id": "2cfcc523-db9c-4f11-a2c7-f8034731fefd",
   "metadata": {},
   "outputs": [
    {
     "name": "stdout",
     "output_type": "stream",
     "text": [
      "This car has a 40-kWh battery.\n",
      "This car can go about 150 kilometers on a full charge.\n"
     ]
    }
   ],
   "source": [
    "my_leaf.battery.describe_battery()\n",
    "my_leaf.battery.get_range()"
   ]
  },
  {
   "cell_type": "code",
   "execution_count": 98,
   "id": "4319da2d-4945-4039-9cf5-93282dc888a0",
   "metadata": {},
   "outputs": [
    {
     "name": "stdout",
     "output_type": "stream",
     "text": [
      "2024 Nissan Leaf\n",
      "This car has a 40-kWh battery.\n",
      "This car can go about 150 kilometers on a full charge.\n"
     ]
    }
   ],
   "source": [
    "my_leaf = ElectricCar('nissan', 'leaf', 2024)\n",
    "print(my_leaf.get_descriptive_name())\n",
    "my_leaf.battery.describe_battery()\n",
    "my_leaf.battery.get_range()"
   ]
  },
  {
   "cell_type": "markdown",
   "id": "8e89989b-4048-48b1-a0a3-efcf4c1d8794",
   "metadata": {},
   "source": [
    "### Modeling Real-World Objects"
   ]
  },
  {
   "cell_type": "markdown",
   "id": "88debff9-d569-4c5e-b7e0-380ce9362e46",
   "metadata": {},
   "source": [
    "- When designing **electric cars**, key questions arise, such as whether **range** belongs to the **Battery** or **ElectricCar** class.  \n",
    "- If modeling a **single car**, keeping `get_range()` in the **Battery** class is fine.  \n",
    "- If modeling a **manufacturer’s full lineup**, moving `get_range()` to **ElectricCar** makes sense.  \n",
    "- Another approach: keep `get_range()` in **Battery** but pass a **car_model** parameter.  \n",
    "- This stage in programming shifts focus from **syntax** to **real-world modeling**.  \n",
    "- There’s **no absolute right or wrong approach**, but some are **more efficient** than others.  \n",
    "- Iteration and refactoring are normal—rewriting classes is part of improving design.  \n"
   ]
  },
  {
   "cell_type": "markdown",
   "id": "288f905a-5470-4cdf-b1d1-d21b6f29d163",
   "metadata": {},
   "source": [
    "## **Importing Classes**"
   ]
  },
  {
   "cell_type": "markdown",
   "id": "97a65227-ced0-4e29-b70e-b81426419a7a",
   "metadata": {},
   "source": [
    "As you add more functionality, your files can become lengthy, even with proper *inheritance* and *composition*. To keep your files uncluttered, Python allows you to store classes in modules and import only the necessary ones into your main program.\n",
    "\n",
    "Note: To enhance my workflow and make the process more efficient, I will be using VS Code from now on. This will allow me to demonstrate how we can effectively manage modules and files, and how to use them in a more structured manner."
   ]
  },
  {
   "cell_type": "markdown",
   "id": "30ef43e0-17a7-4e42-86cc-0ac2699b5dd6",
   "metadata": {},
   "source": [
    "### Importing a Single Class"
   ]
  },
  {
   "cell_type": "code",
   "execution_count": null,
   "id": "6d73f7db-2db7-4fc9-a6e8-8882d6b1cf21",
   "metadata": {},
   "outputs": [],
   "source": [
    "#########################################\n",
    "# Importing a single class\n",
    "from class_modules import Car\n",
    "\n",
    "my_new_car = Car(\"audi\", \"a4\", 2024)\n",
    "print(my_new_car.get_descriptive_name())\n",
    "\n",
    "my_new_car.odometer_reading = 23\n",
    "my_new_car.read_odometer()\n"
   ]
  },
  {
   "cell_type": "markdown",
   "id": "20a3ec2a-931b-4f50-89ca-2433ea1f904d",
   "metadata": {},
   "source": [
    "### Storing Multiple Classes in a Module"
   ]
  },
  {
   "cell_type": "markdown",
   "id": "c556574a-578b-410b-a8de-52e2decd0b10",
   "metadata": {},
   "source": [
    "You can store multiple related classes in a single module. For example, since both Battery and ElectricCar represent cars, we can add them to the `class_modules.py` module."
   ]
  },
  {
   "cell_type": "code",
   "execution_count": null,
   "id": "653cd01f-da2d-4ffe-a90d-739354c6cdda",
   "metadata": {},
   "outputs": [],
   "source": [
    "from class_modules import ElectricCar\n",
    "\n",
    "my_leaf = ElectricCar('nissan', 'leaf', 2024)\n",
    "print(my_leaf.get_descriptive_name())\n",
    "my_leaf.battery.describe_battery()\n",
    "my_leaf.battery.get_range()\n"
   ]
  },
  {
   "cell_type": "markdown",
   "id": "44832401-2d0f-4972-a904-63e39bb3f22c",
   "metadata": {},
   "source": [
    "### Importing Multiple Classes from a Module"
   ]
  },
  {
   "cell_type": "code",
   "execution_count": null,
   "id": "e7824f12-2dab-4695-8929-0c2ca59cc514",
   "metadata": {},
   "outputs": [],
   "source": [
    "from class_modules import Car, ElectricCar\n",
    "\n",
    "my_mustang = Car('ford', 'mustang', 2024)\n",
    "print(my_mustang.get_descriptive_name())\n",
    "\n",
    "my_leaf = ElectricCar('nissan', 'leaf', 2024)\n",
    "print(my_leaf.get_descriptive_name())\n"
   ]
  },
  {
   "cell_type": "markdown",
   "id": "e47f6337-ee9e-4c87-89af-5e3f385083ba",
   "metadata": {},
   "source": [
    "### Importing an Entire Module"
   ]
  },
  {
   "cell_type": "code",
   "execution_count": null,
   "id": "7b7eeea1-7cec-4cca-a311-4f63855b93bd",
   "metadata": {},
   "outputs": [],
   "source": [
    "import class_modules\n",
    "\n",
    "my_mustang = class_modules.Car('ford', 'mustang', 2024)\n",
    "print(my_mustang.get_descriptive_name())\n",
    "\n",
    "my_leaf = class_modules.ElectricCar('nissan', 'leaf', 2024)\n",
    "print(my_leaf.get_descriptive_name())"
   ]
  },
  {
   "cell_type": "markdown",
   "id": "f2a4f998-e565-4c36-921f-4698a978e3bd",
   "metadata": {},
   "source": [
    "### Importing All Classes from a Module\n",
    "```python\n",
    "from module_name import *"
   ]
  },
  {
   "cell_type": "markdown",
   "id": "e81f8345-7a38-4c5b-9ff8-03b15f1e8aaf",
   "metadata": {},
   "source": [
    "### Importing a Module into a Module"
   ]
  },
  {
   "cell_type": "code",
   "execution_count": null,
   "id": "00f5ffb3-38e6-4ee9-a19a-2549abd6154a",
   "metadata": {},
   "outputs": [],
   "source": [
    "from car_color import CarColor\n",
    "\n",
    "my_colory_car = CarColor('ford', 'mustang', 2024, 'yellow')\n",
    "\n",
    "my_colory_car.get_descriptive_name()\n",
    "my_colory_car.describe_color()"
   ]
  },
  {
   "cell_type": "markdown",
   "id": "68f25f0b-d37c-4154-b90a-0e2ba9c488c1",
   "metadata": {},
   "source": [
    "### Using Aliases"
   ]
  },
  {
   "cell_type": "code",
   "execution_count": null,
   "id": "13e4d3a1-7cab-4603-bcb7-c5aa62fe95e3",
   "metadata": {},
   "outputs": [],
   "source": [
    "from class_modules import ElectricCar as EC\n",
    "\n",
    "my_leaf = EC('nissan', 'leaf', 2024)\n",
    "my_leaf.get_descriptive_name()"
   ]
  },
  {
   "cell_type": "code",
   "execution_count": null,
   "id": "874aa560-1c47-42b0-9a3f-3d7bce0db945",
   "metadata": {},
   "outputs": [],
   "source": [
    "import class_modules as car\n",
    "\n",
    "my_new_car = car.Car(\"ford\", \"mustang\", 2025)\n",
    "my_new_car.get_descriptive_name()"
   ]
  },
  {
   "cell_type": "markdown",
   "id": "3b910d26-be61-43dd-981d-ecd9b4802e5e",
   "metadata": {},
   "source": [
    "### Finding Your Own Workflow"
   ]
  },
  {
   "cell_type": "markdown",
   "id": "fb0fb0ef-86ac-4f62-8eca-451f347e6976",
   "metadata": {},
   "source": [
    "Python offers many ways to structure code in large projects. Understanding these options helps you organize your own projects and work with others' projects effectively. \n",
    "\n",
    "When starting out, keep the structure simple. Begin by working in a single file, and move your classes to separate modules once everything is functioning. If you like how modules and files interact, consider using them from the start of a project. Find an approach that works for you and build from there.\n"
   ]
  },
  {
   "cell_type": "markdown",
   "id": "712b9650-14a8-45a8-9b34-94e8b8396e53",
   "metadata": {},
   "source": [
    "## **The Python Standard Library**"
   ]
  },
  {
   "cell_type": "markdown",
   "id": "d206cae0-c805-49f7-8aff-ff7a19c71658",
   "metadata": {},
   "source": [
    "- Python’s standard library provides modules included with every installation.\n",
    "- Use functions and classes from these modules by importing them.\n",
    "- Example functions:\n",
    "  - `randint()`: Generates a random integer between two numbers (inclusive).\n",
    "  - `choice()`: Selects a random element from a list or tuple.\n",
    "- The `random` module is useful for modeling real-world scenarios."
   ]
  },
  {
   "cell_type": "code",
   "execution_count": 126,
   "id": "2b8300cd-b15f-4f13-a6c3-c27dc1a10162",
   "metadata": {},
   "outputs": [
    {
     "name": "stdout",
     "output_type": "stream",
     "text": [
      "55\n"
     ]
    }
   ],
   "source": [
    "from random import randint\n",
    "\n",
    "print(randint(1, 100))"
   ]
  },
  {
   "cell_type": "code",
   "execution_count": 156,
   "id": "04d8d5ad-fc90-4043-bcac-8598ba2da39f",
   "metadata": {},
   "outputs": [
    {
     "name": "stdout",
     "output_type": "stream",
     "text": [
      "JavaScript\n"
     ]
    }
   ],
   "source": [
    "from random import choice\n",
    "languages = ['C', 'Python', 'C#', 'JavaScript', 'Java', 'LabVIEW', 'C++']\n",
    "\n",
    "selected_language = choice(languages)\n",
    "print(selected_language)"
   ]
  },
  {
   "cell_type": "markdown",
   "id": "9c74cdc9-1f63-49ef-ab7a-116efa4b5f9e",
   "metadata": {},
   "source": [
    "***Note:*** *You can also download modules from external sources. You’ll see a number of these examples in **Part II**, where we’ll need external modules to complete each project.*"
   ]
  },
  {
   "cell_type": "markdown",
   "id": "88905c2e-f092-471c-b057-de5278374a8f",
   "metadata": {},
   "source": [
    "## **Styling Classes**"
   ]
  },
  {
   "cell_type": "markdown",
   "id": "ce7dd850-2da5-4c50-b633-ad522622cc7d",
   "metadata": {},
   "source": [
    "- Class names should be in CamelCase (capitalize each word, no underscores).\n",
    "- Instance and module names should be lowercase with underscores between words.\n",
    "- Every class must have a docstring describing its purpose.\n",
    "- Modules should also have a docstring explaining the classes and their usage.\n",
    "- Use blank lines to organize code:\n",
    "  - One blank line between methods in a class.\n",
    "  - Two blank lines between classes in a module.\n",
    "- When importing, place standard library imports first, followed by imports from your own modules, with a blank line in between.\n"
   ]
  },
  {
   "cell_type": "markdown",
   "id": "da7d922d-2b89-4f1f-9dcd-66dc651f3642",
   "metadata": {},
   "source": [
    "## **Summary**"
   ]
  },
  {
   "cell_type": "markdown",
   "id": "01176df1-7f0d-4cdb-ab65-9005452940d7",
   "metadata": {},
   "source": [
    "In this chapter, you learned how to:\n",
    "- Create classes, store information using attributes, and define methods for class behavior.\n",
    "- Use the `__init__()` method to create instances with specific attributes and modify them directly or through methods.\n",
    "- Utilize inheritance to simplify creating related classes.\n",
    "- Use instances of one class as attributes in another to maintain simplicity.\n",
    "- Organize projects by storing classes in modules and importing them as needed.\n",
    "- Work with the Python standard library, exemplified by the `random` module.\n",
    "- Follow Python conventions for class styling.\n",
    "\n",
    "In Chapter 10, you will:\n",
    "- Learn to work with files to save program data and user input.\n",
    "- Understand how to handle exceptions to manage errors.\n"
   ]
  }
 ],
 "metadata": {
  "kernelspec": {
   "display_name": "Python 3 (ipykernel)",
   "language": "python",
   "name": "python3"
  },
  "language_info": {
   "codemirror_mode": {
    "name": "ipython",
    "version": 3
   },
   "file_extension": ".py",
   "mimetype": "text/x-python",
   "name": "python",
   "nbconvert_exporter": "python",
   "pygments_lexer": "ipython3",
   "version": "3.9.19"
  }
 },
 "nbformat": 4,
 "nbformat_minor": 5
}
