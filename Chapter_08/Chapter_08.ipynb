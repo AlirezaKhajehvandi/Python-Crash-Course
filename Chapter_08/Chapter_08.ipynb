{
 "cells": [
  {
   "cell_type": "markdown",
   "id": "1b23eb17-73c6-47c6-929b-3201590879e3",
   "metadata": {},
   "source": [
    "# **Functions**\n",
    "***In this chapter, you'll learn to write `functions`, which are named blocks of code.***\n",
    "\n",
    "***Book: Python Crash Course!***"
   ]
  },
  {
   "cell_type": "markdown",
   "id": "07f5fa15-6d13-41aa-a329-30d480e4be18",
   "metadata": {},
   "source": [
    "## **Defining a Function**"
   ]
  },
  {
   "cell_type": "code",
   "execution_count": 3,
   "id": "dcc2132f-867e-4eb4-b24c-43e69b527974",
   "metadata": {},
   "outputs": [],
   "source": [
    "# definition of a simple function\n",
    "def greeting_func():\n",
    "    \"\"\"Display a simple greeting.\"\"\" # docstring\n",
    "    print(\"Hello!\")"
   ]
  },
  {
   "cell_type": "code",
   "execution_count": 4,
   "id": "1d5acdfc-0bc6-459e-8cf8-65596aa799df",
   "metadata": {},
   "outputs": [
    {
     "name": "stdout",
     "output_type": "stream",
     "text": [
      "Hello!\n",
      "lasdf\n"
     ]
    }
   ],
   "source": [
    "greeting_func()"
   ]
  },
  {
   "cell_type": "code",
   "execution_count": 5,
   "id": "3be6864d-9dad-4b0d-ae27-d69e0247d4e4",
   "metadata": {},
   "outputs": [
    {
     "name": "stdout",
     "output_type": "stream",
     "text": [
      "Display a simple greeting.\n"
     ]
    }
   ],
   "source": [
    "print(greeting_func.__doc__)"
   ]
  },
  {
   "cell_type": "code",
   "execution_count": 6,
   "id": "ddc3cec6-bf27-48b2-89b7-c8f34758dcc3",
   "metadata": {},
   "outputs": [
    {
     "name": "stdout",
     "output_type": "stream",
     "text": [
      "Help on function greeting_func in module __main__:\n",
      "\n",
      "greeting_func()\n",
      "    Display a simple greeting.\n",
      "\n"
     ]
    }
   ],
   "source": [
    "help(greeting_func)"
   ]
  },
  {
   "cell_type": "markdown",
   "id": "54cf6594-e770-4ec1-a572-ed1c55df8141",
   "metadata": {},
   "source": [
    "### Passing Information to a Function"
   ]
  },
  {
   "cell_type": "code",
   "execution_count": 7,
   "id": "a77fa2c3-7c40-4242-a2a4-cc194088d3ae",
   "metadata": {},
   "outputs": [
    {
     "name": "stdout",
     "output_type": "stream",
     "text": [
      "Hello, Alireza!\n"
     ]
    }
   ],
   "source": [
    "# function definition\n",
    "def greet_user(name):\n",
    "    \"\"\"Display a simple greeting\"\"\"\n",
    "    print(f\"Hello, {name.title()}!\")\n",
    "\n",
    "# function call\n",
    "greet_user('alireza')"
   ]
  },
  {
   "cell_type": "markdown",
   "id": "30852fe1-37c7-4bb1-a848-b8e0faa5ef5a",
   "metadata": {},
   "source": [
    "### Arguments and Parameters"
   ]
  },
  {
   "cell_type": "code",
   "execution_count": null,
   "id": "3d913664-0b73-4ce7-b12a-db53a1dc9c55",
   "metadata": {},
   "outputs": [],
   "source": [
    "def greet_user(name): # name is an example of parameter\n",
    "    \"\"\"Display a simple greeting\"\"\"\n",
    "    print(f\"Hello, {name.title()}!\")\n",
    "\n",
    "greet_user('alireza') # alireza is an example of argument\n",
    "\n",
    "# In this case the argument 'alireza' was passed to \n",
    "# the function greet_user(), \n",
    "# and the value was assigned to the parameter name."
   ]
  },
  {
   "cell_type": "markdown",
   "id": "be01afbf-a84b-4951-86f3-f703e8d1f43c",
   "metadata": {},
   "source": [
    "*In this case the argument 'alireza' was passed to the function greet_user(), and the value was assigned to the parameter name.*"
   ]
  },
  {
   "cell_type": "markdown",
   "id": "79328598-3079-47e2-92d1-2c5ab3d7cbab",
   "metadata": {},
   "source": [
    "***Note:*** *People sometimes speak of arguments and parameters interchangeably. Don’t be surprised if you see the variables in a function definition referred to as arguments or the variables in a function call referred to as parameters.*"
   ]
  },
  {
   "cell_type": "markdown",
   "id": "3da3d7b8-f544-476e-8bfe-082a6dfd6e8e",
   "metadata": {},
   "source": [
    "## **Passing Arguments**\n",
    "Functions can take multiple arguments passed in different ways:\n",
    "1. Positional arguments (order matters),\n",
    "2. Keyword arguments (specify name=value),\n",
    "3. Lists/dictionaries for multiple values. Let’s explore each."
   ]
  },
  {
   "cell_type": "markdown",
   "id": "90dd4dcc-3cbf-4391-8736-99a027b9c14d",
   "metadata": {},
   "source": [
    "### Positional Arguments"
   ]
  },
  {
   "cell_type": "code",
   "execution_count": 8,
   "id": "3d6566cf-66eb-4511-b906-80d492583e41",
   "metadata": {},
   "outputs": [
    {
     "name": "stdout",
     "output_type": "stream",
     "text": [
      "I have a squirrel.\n",
      "My squirrel's name is Gojomojo.\n"
     ]
    }
   ],
   "source": [
    "def describe_pet(animal_type, pet_name):\n",
    "    \"\"\"Display information about a pet\"\"\"\n",
    "    print(f\"I have a {animal_type}.\")\n",
    "    print(f\"My {animal_type}'s name is {pet_name.title()}.\")\n",
    "\n",
    "describe_pet('squirrel', 'gojomojo')"
   ]
  },
  {
   "cell_type": "code",
   "execution_count": 9,
   "id": "66f8df68-2490-4b9c-b76d-b00e67cbeea5",
   "metadata": {},
   "outputs": [
    {
     "name": "stdout",
     "output_type": "stream",
     "text": [
      "I have a squirrel.\n",
      "My squirrel's name is Gojomojo.\n",
      "I have a dog.\n",
      "My dog's name is Jessi.\n"
     ]
    }
   ],
   "source": [
    "describe_pet('squirrel', 'gojomojo')\n",
    "describe_pet('dog', 'jessi')"
   ]
  },
  {
   "cell_type": "markdown",
   "id": "0f34d4b2-4b0c-41db-9014-367386238635",
   "metadata": {},
   "source": [
    "#### Orcer Matters in Positional Arguments"
   ]
  },
  {
   "cell_type": "code",
   "execution_count": 10,
   "id": "12e478a1-94b5-4316-a1d1-17a9e4bcaa28",
   "metadata": {},
   "outputs": [
    {
     "name": "stdout",
     "output_type": "stream",
     "text": [
      "I have a jessi.\n",
      "My jessi's name is Dog\n"
     ]
    }
   ],
   "source": [
    "def describe_pet(animal_type, pet_name):\n",
    "    \"\"\"Display information about a pet\"\"\"\n",
    "    print(f\"I have a {animal_type}.\")\n",
    "    print(f\"My {animal_type}'s name is {pet_name.title()}\")\n",
    "\n",
    "describe_pet('jessi', 'dog')"
   ]
  },
  {
   "cell_type": "markdown",
   "id": "b84d72e3-66ad-4a62-8302-9b1089d1cba1",
   "metadata": {},
   "source": [
    "### Keyword Arguments (*name-value pair*)\n"
   ]
  },
  {
   "cell_type": "code",
   "execution_count": 11,
   "id": "00005265-2dec-4dbb-8c89-f8d1349a6afe",
   "metadata": {},
   "outputs": [
    {
     "name": "stdout",
     "output_type": "stream",
     "text": [
      "I have a dog.\n",
      "My dog's name is Jessi\n"
     ]
    }
   ],
   "source": [
    "def describe_pet(animal_type, pet_name):\n",
    "    \"\"\"Display information about a pet\"\"\"\n",
    "    print(f\"I have a {animal_type}.\")\n",
    "    print(f\"My {animal_type}'s name is {pet_name.title()}\")\n",
    "\n",
    "describe_pet(animal_type='dog', pet_name='jessi')    "
   ]
  },
  {
   "cell_type": "code",
   "execution_count": 12,
   "id": "06e0c95a-37aa-46a2-9568-5bf1c38bf298",
   "metadata": {},
   "outputs": [
    {
     "name": "stdout",
     "output_type": "stream",
     "text": [
      "I have a dog.\n",
      "My dog's name is Jessi\n",
      "I have a dog.\n",
      "My dog's name is Jessi\n"
     ]
    }
   ],
   "source": [
    "describe_pet(animal_type='dog', pet_name='jessi')  \n",
    "describe_pet(pet_name='jessi', animal_type='dog')  "
   ]
  },
  {
   "cell_type": "markdown",
   "id": "f9727665-7fd0-4967-bc31-a9e873929b1a",
   "metadata": {},
   "source": [
    "***Note:*** *When you use keyword arguments, be sure to use the exact names of the parameters in the function’s definition.*"
   ]
  },
  {
   "cell_type": "markdown",
   "id": "9524886f-ffbb-46bd-a71b-d7fbe9b535a3",
   "metadata": {},
   "source": [
    "### Default Values"
   ]
  },
  {
   "cell_type": "code",
   "execution_count": 14,
   "id": "65d726e5-b259-4fbf-b71e-1390664db28a",
   "metadata": {},
   "outputs": [
    {
     "name": "stdout",
     "output_type": "stream",
     "text": [
      "I have a dog.\n",
      "My dog's name is Alex\n"
     ]
    }
   ],
   "source": [
    "# set default value for each parameter\n",
    "def describe_pet(animal_type='dog', pet_name=None):\n",
    "    \"\"\"Display information about a pet\"\"\"\n",
    "    print(f\"I have a {animal_type}.\")\n",
    "    print(f\"My {animal_type}'s name is {pet_name.title()}\")\n",
    "\n",
    "describe_pet(pet_name='alex')   "
   ]
  },
  {
   "cell_type": "code",
   "execution_count": 16,
   "id": "c727e822-7367-4067-a7cf-3b5ea5f87877",
   "metadata": {},
   "outputs": [
    {
     "name": "stdout",
     "output_type": "stream",
     "text": [
      "I have a dog.\n",
      "My dog's name is Alex\n"
     ]
    }
   ],
   "source": [
    "# Note: write positional parameters at first\n",
    "def describe_pet(pet_name, animal_type='dog'):\n",
    "    \"\"\"Display information about a pet\"\"\"\n",
    "    print(f\"I have a {animal_type}.\")\n",
    "    print(f\"My {animal_type}'s name is {pet_name.title()}\")\n",
    "\n",
    "describe_pet(pet_name='alex')   "
   ]
  },
  {
   "cell_type": "code",
   "execution_count": 17,
   "id": "d2c6cf9f-89f6-43e4-99a3-d868fb530b60",
   "metadata": {},
   "outputs": [
    {
     "name": "stdout",
     "output_type": "stream",
     "text": [
      "I have a dog.\n",
      "My dog's name is Alex\n"
     ]
    }
   ],
   "source": [
    "# the simplest usage\n",
    "describe_pet('alex')  "
   ]
  },
  {
   "cell_type": "code",
   "execution_count": 18,
   "id": "282d8145-ac62-4f66-95db-c811ea3a1d99",
   "metadata": {},
   "outputs": [
    {
     "name": "stdout",
     "output_type": "stream",
     "text": [
      "I have a squirrel.\n",
      "My squirrel's name is Gojomojo\n"
     ]
    }
   ],
   "source": [
    "describe_pet(animal_type='squirrel', pet_name='gojomojo')"
   ]
  },
  {
   "cell_type": "markdown",
   "id": "3e19ee33-344f-49f2-952e-dd713fe89b2d",
   "metadata": {},
   "source": [
    "***Note:*** *When you use default values, any parameter with a default value needs to be listed after all the parameters that don’t have default values. This allows Python to continue interpreting positional arguments correctly.*"
   ]
  },
  {
   "cell_type": "markdown",
   "id": "f4104d17-13ea-4fcd-adf4-56b3fb508774",
   "metadata": {},
   "source": [
    "### Equivalent Function Calls"
   ]
  },
  {
   "cell_type": "code",
   "execution_count": 20,
   "id": "8f88ac29-addf-4fc2-8053-1db1ceeea5eb",
   "metadata": {},
   "outputs": [
    {
     "name": "stdout",
     "output_type": "stream",
     "text": [
      "I have a dog.\n",
      "My dog's name is Willie\n",
      "--------------------\n",
      "I have a dog.\n",
      "My dog's name is Willie\n",
      "--------------------\n",
      "I have a hamster.\n",
      "My hamster's name is Harry\n",
      "--------------------\n",
      "I have a hamster.\n",
      "My hamster's name is Harry\n",
      "--------------------\n",
      "I have a hamster.\n",
      "My hamster's name is Harry\n"
     ]
    }
   ],
   "source": [
    "# A dog named Willie.\n",
    "describe_pet('willie')\n",
    "print(20*\"-\")\n",
    "describe_pet(pet_name='willie')\n",
    "print(20*\"-\")\n",
    "# A hamster named Harry.\n",
    "describe_pet('harry', 'hamster')\n",
    "print(20*\"-\")\n",
    "describe_pet(pet_name='harry', animal_type='hamster')\n",
    "print(20*\"-\")\n",
    "describe_pet(animal_type='hamster', pet_name='harry')"
   ]
  },
  {
   "cell_type": "markdown",
   "id": "5be36e3f-f0cf-458f-bb11-19d425d7ee07",
   "metadata": {},
   "source": [
    "### Avoiding Argument Errors\n",
    "When using functions, you may encounter unmatched argument errors if you provide too few or too many arguments compared to what the function requires."
   ]
  },
  {
   "cell_type": "code",
   "execution_count": 22,
   "id": "0acabb8d-1c3d-43d3-a171-5903f4f6c40c",
   "metadata": {},
   "outputs": [],
   "source": [
    "# def describe_pet(animal_type, pet_name):\n",
    "#     \"\"\"Display information about a pet.\"\"\"\n",
    "#     print(f\"\\nI have a {animal_type}.\")\n",
    "#     print(f\"My {animal_type}'s name is {pet_name.title()}.\")\n",
    "\n",
    "# describe_pet()"
   ]
  },
  {
   "cell_type": "markdown",
   "id": "189a6b23-b3df-4a70-89cc-577e0cc0df31",
   "metadata": {},
   "source": [
    "## **Return Values**\n",
    "A function doesn’t need to display output directly. Instead, it can process data and **return a value** (or values) using the `return` statement. This sends the result back to where the function was called, simplifying your program by moving work into functions."
   ]
  },
  {
   "cell_type": "markdown",
   "id": "78bafe26-f22c-4aa1-9721-beb1035006c8",
   "metadata": {},
   "source": [
    "### Returning a Simple Value"
   ]
  },
  {
   "cell_type": "code",
   "execution_count": 23,
   "id": "0a1b7a6d-897b-491d-b804-3f56ab147d65",
   "metadata": {},
   "outputs": [
    {
     "name": "stdout",
     "output_type": "stream",
     "text": [
      "Alireza Khajehvandi\n"
     ]
    }
   ],
   "source": [
    "def get_formatted_name(first_name, last_name):\n",
    "    \"\"\"Return a full name, neatly formatted.\"\"\"\n",
    "    full_name = f\"{first_name} {last_name}\"\n",
    "    return full_name.title()\n",
    "\n",
    "person_fullname = get_formatted_name('alireza', 'khajehvandi')\n",
    "print(person_fullname)"
   ]
  },
  {
   "cell_type": "markdown",
   "id": "9e41b1a2-1608-4446-a133-44a380ee2e95",
   "metadata": {},
   "source": [
    "### Making an Argument Optional"
   ]
  },
  {
   "cell_type": "code",
   "execution_count": 24,
   "id": "419b7e5f-33c5-4bd5-852a-c3d3720731fe",
   "metadata": {},
   "outputs": [
    {
     "name": "stdout",
     "output_type": "stream",
     "text": [
      "John Lee Hooker\n"
     ]
    }
   ],
   "source": [
    "def get_formatted_name(first_name, middle_name, last_name):\n",
    "    \"\"\"Return a full name, neatly formatted.\"\"\"\n",
    "    full_name = f\"{first_name} {middle_name} {last_name}\"\n",
    "    return full_name.title()\n",
    "    \n",
    "musician = get_formatted_name('john', 'lee', 'hooker')\n",
    "print(musician)"
   ]
  },
  {
   "cell_type": "code",
   "execution_count": 25,
   "id": "650669d9-67d0-475e-9f00-ef2c942ee0a0",
   "metadata": {},
   "outputs": [
    {
     "name": "stdout",
     "output_type": "stream",
     "text": [
      "Jimi Hendrix\n",
      "John Lee Hooker\n"
     ]
    }
   ],
   "source": [
    "def get_formatted_name(first_name, last_name, middle_name=''):\n",
    "    \"\"\"Return a full name, neatly formatted.\"\"\"\n",
    "    if middle_name:\n",
    "        full_name = f\"{first_name} {middle_name} {last_name}\"\n",
    "    else:\n",
    "        full_name = f\"{first_name} {last_name}\"\n",
    "    return full_name.title()\n",
    "    \n",
    "musician = get_formatted_name('jimi', 'hendrix')\n",
    "print(musician)\n",
    "\n",
    "musician = get_formatted_name('john', 'hooker', 'lee')\n",
    "print(musician)"
   ]
  },
  {
   "cell_type": "markdown",
   "id": "125f7d79-52e1-42fc-af2f-0e21fc6f7748",
   "metadata": {},
   "source": [
    "### Returning a Dictionary"
   ]
  },
  {
   "cell_type": "markdown",
   "id": "a12dd368-b7f6-4ab2-bcfd-4b8e343d9e63",
   "metadata": {},
   "source": [
    "*A function can return any value, including complex data structures like lists and dictionaries.*"
   ]
  },
  {
   "cell_type": "code",
   "execution_count": 26,
   "id": "6459bcd8-0173-45d9-99c3-0ff299fb5e25",
   "metadata": {},
   "outputs": [
    {
     "name": "stdout",
     "output_type": "stream",
     "text": [
      "{'first': 'Jimi', 'last': 'Hendrix'}\n"
     ]
    }
   ],
   "source": [
    "def build_person(first_name, last_name):\n",
    "    \"\"\"Return a dictionary of infomration about a person.\"\"\"\n",
    "    person = {'first': first_name.title(), 'last': last_name.title()}\n",
    "    return person\n",
    "\n",
    "musician = build_person('jimi', 'hendrix')\n",
    "print(musician)"
   ]
  },
  {
   "cell_type": "markdown",
   "id": "790c2ce1-2dcc-48ec-bd47-9413337b5026",
   "metadata": {},
   "source": [
    "This function takes simple text (like names) and organizes it into a structured format (e.g., a dictionary), making it easier to work with. For example, it labels 'jimi' and 'hendrix' as first and last names. You can expand it to include optional details like age, middle name, occupation, or other personal information. For instance, adding age support is simple."
   ]
  },
  {
   "cell_type": "code",
   "execution_count": 29,
   "id": "6e585135-4b53-4fd4-92eb-33b737886ffe",
   "metadata": {},
   "outputs": [
    {
     "name": "stdout",
     "output_type": "stream",
     "text": [
      "{'first': 'Jimi', 'last': 'Hendrix', 'age': 27}\n"
     ]
    }
   ],
   "source": [
    "def build_person(first_name, last_name, age=None):\n",
    "    \"\"\"Return a dictionary of information about a person.\"\"\"\n",
    "    person = {'first': first_name.title(), 'last': last_name.title()}\n",
    "    if age:\n",
    "        person['age'] = age\n",
    "    return person\n",
    "    \n",
    "musician = build_person('jimi', 'hendrix', age=27)\n",
    "print(musician)"
   ]
  },
  {
   "cell_type": "markdown",
   "id": "1d853633-ec33-4e29-816b-25417046f45c",
   "metadata": {},
   "source": [
    "### Using a Function with a while loop\n",
    "\n",
    "You can integrate functions with any Python structures you’ve learned, such as loops, conditionals, and more. Functions work seamlessly with all of them."
   ]
  },
  {
   "cell_type": "code",
   "execution_count": 30,
   "id": "b59f6e06-35d3-4a70-84eb-d65e96af83ac",
   "metadata": {},
   "outputs": [
    {
     "name": "stdout",
     "output_type": "stream",
     "text": [
      "\n",
      "Please tell me your name:\n",
      "(enter 'quit' at any time to quit)\n"
     ]
    },
    {
     "name": "stdin",
     "output_type": "stream",
     "text": [
      "First name:  alireza\n",
      "Last name:  khajehvandi\n"
     ]
    },
    {
     "name": "stdout",
     "output_type": "stream",
     "text": [
      "\n",
      "Hello, Alireza Khajehvandi!\n",
      "\n",
      "Please tell me your name:\n",
      "(enter 'quit' at any time to quit)\n"
     ]
    },
    {
     "name": "stdin",
     "output_type": "stream",
     "text": [
      "First name:  quit\n",
      "Last name:  alsdkjf\n"
     ]
    }
   ],
   "source": [
    "def get_formatted_name(first_name, last_name):\n",
    "    \"\"\"Return a full name, neatly formatted.\"\"\"\n",
    "    full_name = f\"{first_name} {last_name}\"\n",
    "    return full_name.title()\n",
    "    \n",
    "# This is an example of usage of function in while loop\n",
    "while True:\n",
    "    print(\"\\nPlease tell me your name:\")\n",
    "    print(\"(enter 'quit' at any time to quit)\")\n",
    "    \n",
    "    f_name = input(\"First name: \")\n",
    "    l_name = input(\"Last name: \")\n",
    "    if (f_name == 'quit' or l_name == 'quit'):\n",
    "        break\n",
    "        \n",
    "    formatted_name = get_formatted_name(f_name, l_name)\n",
    "    print(f\"\\nHello, {formatted_name}!\")\n",
    "    "
   ]
  },
  {
   "cell_type": "markdown",
   "id": "c898a94f-e07e-4015-b6e3-a47937ee3eec",
   "metadata": {},
   "source": [
    "## **Passing a List**"
   ]
  },
  {
   "cell_type": "code",
   "execution_count": 31,
   "id": "ba10ab26-d7cc-4864-b36a-fb2b9e5378bd",
   "metadata": {},
   "outputs": [
    {
     "name": "stdout",
     "output_type": "stream",
     "text": [
      "Hello, Alireza!\n",
      "Hello, Reza!\n",
      "Hello, Ariana!\n"
     ]
    }
   ],
   "source": [
    "def greet_users(names):\n",
    "    \"\"\"Print a simple greeting to each user in the list.\"\"\"\n",
    "    for name in names:\n",
    "        msg = f\"Hello, {name.title()}!\"\n",
    "        print(msg)\n",
    "    \n",
    "usernames = ['alireza', 'reza', 'ariana']\n",
    "greet_users(usernames)"
   ]
  },
  {
   "cell_type": "markdown",
   "id": "2e93e3eb-7b5f-4027-b4a8-bffec1c760b7",
   "metadata": {},
   "source": [
    "### Modifying a List in a Function"
   ]
  },
  {
   "cell_type": "code",
   "execution_count": 33,
   "id": "268fe1d2-835c-4c6d-ba2d-bc89f72c4570",
   "metadata": {},
   "outputs": [
    {
     "name": "stdout",
     "output_type": "stream",
     "text": [
      "2 3\n",
      "3 2\n"
     ]
    }
   ],
   "source": [
    "a = 2\n",
    "b = 3\n",
    "print (a, b)\n",
    "a, b = b, a\n",
    "\n",
    "print (a, b)"
   ]
  },
  {
   "cell_type": "code",
   "execution_count": 35,
   "id": "4983ecae-955d-4066-bd24-81a6e836e388",
   "metadata": {},
   "outputs": [
    {
     "name": "stdout",
     "output_type": "stream",
     "text": [
      "Original list: \n",
      "[1, 2, 3, 4, 5, 6, 7]\n",
      "\n",
      "The specific part of the list is reversed!\n",
      "The reversed list is: [1, 5, 4, 3, 2, 6, 7]\n",
      "\n",
      "After passing to the function: \n",
      "[1, 5, 4, 3, 2, 6, 7]\n"
     ]
    }
   ],
   "source": [
    "def reverse_part_list(A, start, end):\n",
    "    \"\"\"Reverse the part of the list from start index to end index\"\"\"\n",
    "    while start < end:\n",
    "        A[start], A[end] = A[end], A[start]  # Swap the elements\n",
    "        start += 1\n",
    "        end -= 1\n",
    "\n",
    "    print(\"\\nThe specific part of the list is reversed!\")\n",
    "    print(f\"The reversed list is: {A}\")\n",
    "    \n",
    "# Example usage:\n",
    "mylist = [1, 2, 3, 4, 5, 6, 7]\n",
    "print(f\"Original list: \\n{mylist}\")\n",
    "\n",
    "reverse_part_list(mylist, 1, 4)\n",
    "\n",
    "print(f\"\\nAfter passing to the function: \\n{mylist}\")"
   ]
  },
  {
   "cell_type": "code",
   "execution_count": 36,
   "id": "539efc92-5c58-4ab3-b527-7c2c7282e06b",
   "metadata": {},
   "outputs": [
    {
     "name": "stdout",
     "output_type": "stream",
     "text": [
      "Original list: \n",
      "[5, 1, 7, 2, 3, 6, 4, 7, 5, 6, 7]\n",
      "\n",
      "Your mentioned value (5) has removed from the list\n",
      "\n",
      "New list: \n",
      "[1, 7, 2, 3, 6, 4, 7, 6, 7]\n",
      "\n",
      "After passing to the function: \n",
      "[1, 7, 2, 3, 6, 4, 7, 6, 7]\n"
     ]
    }
   ],
   "source": [
    "def remove_value(A, value):\n",
    "    \"\"\"Remove a specific value from the list\"\"\"\n",
    "    while value in A:\n",
    "        A.remove(value)\n",
    "\n",
    "    print(f\"\\nYour mentioned value ({value}) has removed from the list\")\n",
    "    print(f\"\\nNew list: \\n{mylist}\")\n",
    "    \n",
    "mylist = [5, 1, 7, 2, 3, 6, 4, 7, 5, 6, 7]\n",
    "print(f\"Original list: \\n{mylist}\")\n",
    "\n",
    "remove_value(mylist, 5)\n",
    "print(f\"\\nAfter passing to the function: \\n{mylist}\")"
   ]
  },
  {
   "cell_type": "markdown",
   "id": "fb454536-976b-4139-b216-efcec52eea59",
   "metadata": {},
   "source": [
    "### Preventing a Function from Modifying a List"
   ]
  },
  {
   "cell_type": "code",
   "execution_count": 40,
   "id": "36fc4156-9163-42ab-b6c7-f024bc6f3cc5",
   "metadata": {},
   "outputs": [
    {
     "name": "stdout",
     "output_type": "stream",
     "text": [
      "Original list: \n",
      "[1, 2, 3, 4, 5, 6, 7]\n",
      "The specific part of the list is reversed!\n",
      "The reversed list is: [1, 6, 5, 4, 3, 2, 7]\n",
      "\n",
      "After passing to the function: \n",
      "[1, 2, 3, 4, 5, 6, 7]\n"
     ]
    }
   ],
   "source": [
    "def reverse_part_list(A, start, end):\n",
    "    \"\"\"Reverse the part of the list from start index to end index\"\"\"\n",
    "    while start < end:\n",
    "        A[start], A[end] = A[end], A[start]  # Swap the elements\n",
    "        start += 1\n",
    "        end -= 1\n",
    "\n",
    "    print(\"The specific part of the list is reversed!\")\n",
    "    print(f\"The reversed list is: {A}\")\n",
    "    \n",
    "# Example usage:\n",
    "mylist = [1, 2, 3, 4, 5, 6, 7]\n",
    "print(f\"Original list: \\n{mylist}\")\n",
    "reverse_part_list(mylist[:], 1, 5) # a copy of our list is passed to the function\n",
    "print(f\"\\nAfter passing to the function: \\n{mylist}\")"
   ]
  },
  {
   "cell_type": "code",
   "execution_count": 41,
   "id": "a9974e11-9a58-4a8b-9aa3-57691120fc86",
   "metadata": {},
   "outputs": [
    {
     "name": "stdout",
     "output_type": "stream",
     "text": [
      "Original list: \n",
      "[5, 1, 7, 2, 3, 6, 4, 7, 5, 6, 7]\n",
      "\n",
      "Your mentioned value (5) has removed from the list\n",
      "\n",
      "New list: \n",
      "[1, 7, 2, 3, 6, 4, 7, 6, 7]\n",
      "\n",
      "After passing to the function: \n",
      "[5, 1, 7, 2, 3, 6, 4, 7, 5, 6, 7]\n"
     ]
    }
   ],
   "source": [
    "def remove_value(A, value):\n",
    "    \"\"\"Remove a specific value from the list\"\"\"\n",
    "    while value in A:\n",
    "        A.remove(value)\n",
    "        \n",
    "    print(f\"\\nYour mentioned value ({value}) has removed from the list\")\n",
    "    print(f\"\\nNew list: \\n{A}\")\n",
    "    \n",
    "mylist = [5, 1, 7, 2, 3, 6, 4, 7, 5, 6, 7]\n",
    "print(f\"Original list: \\n{mylist}\")\n",
    "\n",
    "remove_value(mylist[:], 5)\n",
    "print(f\"\\nAfter passing to the function: \\n{mylist}\")"
   ]
  },
  {
   "cell_type": "markdown",
   "id": "288f905a-5470-4cdf-b1d1-d21b6f29d163",
   "metadata": {},
   "source": [
    "## **Passing an Arbitrary Number of Arguments**"
   ]
  },
  {
   "cell_type": "code",
   "execution_count": 42,
   "id": "056c4f17-6964-4720-af03-230fc8783b40",
   "metadata": {},
   "outputs": [
    {
     "name": "stdout",
     "output_type": "stream",
     "text": [
      "('pepperoni',)\n",
      "('mushrooms', 'green peppers', 'extra cheese')\n"
     ]
    }
   ],
   "source": [
    "def make_pizza(*toppings):\n",
    "    \"\"\"Print the list of toppings that have been requested by customer.\"\"\"\n",
    "    print(toppings)\n",
    "\n",
    "make_pizza('pepperoni')\n",
    "make_pizza('mushrooms', 'green peppers', 'extra cheese')"
   ]
  },
  {
   "cell_type": "code",
   "execution_count": 43,
   "id": "7ddb4126-6163-46da-890b-65405786b48c",
   "metadata": {},
   "outputs": [
    {
     "name": "stdout",
     "output_type": "stream",
     "text": [
      "\n",
      "Making a pizza with the following toppings:\n",
      "- pepperoni\n",
      "\n",
      "Making a pizza with the following toppings:\n",
      "- mushrooms\n",
      "- green peppers\n",
      "- extra cheese\n"
     ]
    }
   ],
   "source": [
    "def make_pizza(*toppings):\n",
    "    \"\"\"Print each item of toppings that have been requested by customer.\"\"\"\n",
    "    print(\"\\nMaking a pizza with the following toppings:\")\n",
    "    for topping in toppings:\n",
    "        print(f\"- {topping}\")\n",
    "\n",
    "make_pizza('pepperoni')\n",
    "make_pizza('mushrooms', 'green peppers', 'extra cheese')"
   ]
  },
  {
   "cell_type": "markdown",
   "id": "7e44a704-e9f8-4464-b648-ae436aedcd03",
   "metadata": {},
   "source": [
    "***Note:*** *The asterisk in the parameter name `*toppings` tells Python to make a tuple called toppings*"
   ]
  },
  {
   "cell_type": "markdown",
   "id": "30ef43e0-17a7-4e42-86cc-0ac2699b5dd6",
   "metadata": {},
   "source": [
    "### Mixing Positional and Arbitrary Arguments"
   ]
  },
  {
   "cell_type": "code",
   "execution_count": 44,
   "id": "2089664c-e516-4ca5-8125-6a5acca23a01",
   "metadata": {},
   "outputs": [
    {
     "name": "stdout",
     "output_type": "stream",
     "text": [
      "\n",
      "Making a 16-inch pizza with the following toppings:\n",
      "- pepperoni\n",
      "\n",
      "Making a 12-inch pizza with the following toppings:\n",
      "- mushrooms\n",
      "- green peppers\n",
      "- extra cheese\n"
     ]
    }
   ],
   "source": [
    "def make_pizza(size, *toppings):\n",
    "    \"\"\"Summarize the pizza we are about to make.\"\"\"\n",
    "    print(f\"\\nMaking a {size}-inch pizza with the following toppings:\")\n",
    "    for topping in toppings:\n",
    "        print(f\"- {topping}\")\n",
    "        \n",
    "make_pizza(16, 'pepperoni')\n",
    "make_pizza(12, 'mushrooms', 'green peppers', 'extra cheese')"
   ]
  },
  {
   "cell_type": "markdown",
   "id": "cd4c385f-96df-48e5-b590-360d0923a0aa",
   "metadata": {},
   "source": [
    "***Note:*** *You’ll often see the generic parameter name `*args`, which collects arbitrary positional arguments like this.*"
   ]
  },
  {
   "cell_type": "markdown",
   "id": "51325e3b-dbb4-4b9e-88dc-b2842f141ea0",
   "metadata": {},
   "source": [
    "### Using Arbitrary Keyword Arguments"
   ]
  },
  {
   "cell_type": "code",
   "execution_count": 46,
   "id": "ad2be1aa-2efc-4cc6-8ab5-fb383ac0c486",
   "metadata": {},
   "outputs": [
    {
     "name": "stdout",
     "output_type": "stream",
     "text": [
      "{'first_name': 'albert', 'last_name': 'einstein'}\n"
     ]
    }
   ],
   "source": [
    "def build_profile(first, last, **user_info):\n",
    "    \"\"\"Build a dictionary containing everything we know about a user.\"\"\"\n",
    "    user_info['first_name'] = first\n",
    "    user_info['last_name'] = last\n",
    "    return user_info\n",
    "    \n",
    "# user_profile = build_profile('albert', \n",
    "#                              'einstein')\n",
    "\n",
    "user_profile = build_profile('albert', \n",
    "                             'einstein',\n",
    "                             location='princeton',\n",
    "                             field='physics')\n",
    "\n",
    "print(user_profile)"
   ]
  },
  {
   "cell_type": "markdown",
   "id": "ab300978-737e-4684-9755-4f1c2110bf03",
   "metadata": {},
   "source": [
    "***Note:*** *The double asterisks before the parameter `**user_info` cause Python to create a dictionary called user_info containing all the extra name-value pairs the function receives.*\n",
    "\n",
    "***Note:*** *You’ll often see the parameter name `**kwargs` used to collect nonspecific keyword arguments.*"
   ]
  },
  {
   "cell_type": "code",
   "execution_count": 54,
   "id": "5b70681e-0c70-48d8-a177-28d3ed60caf7",
   "metadata": {},
   "outputs": [
    {
     "name": "stdout",
     "output_type": "stream",
     "text": [
      "(1, 2, 3, 65)\n",
      "{'number': 2, 'num': 325}\n"
     ]
    }
   ],
   "source": [
    "def build_profile(*args, **kwargs):\n",
    "    # print(args)\n",
    "    # print(kwargs)\n",
    "    return args, kwargs\n",
    "\n",
    "result_args, result_kwargs = build_profile(1, 2, 3, 65, number=2, num=325)\n",
    "print (result_args)\n",
    "print (result_kwargs)"
   ]
  },
  {
   "cell_type": "markdown",
   "id": "8d3d87a1-1ef4-4721-bf15-bccad93f0c1e",
   "metadata": {},
   "source": [
    "## **Type hints**"
   ]
  },
  {
   "cell_type": "code",
   "execution_count": 57,
   "id": "3ae6b882-e878-42c1-b817-3c5f1d521f70",
   "metadata": {},
   "outputs": [
    {
     "name": "stdout",
     "output_type": "stream",
     "text": [
      "16\n"
     ]
    }
   ],
   "source": [
    "def add_integers(a: int, b: int) -> int:\n",
    "    \"\"\"\n",
    "    Adds two integers and returns the result.\n",
    "    \n",
    "    Parameters:\n",
    "    a (int): The first integer.\n",
    "    b (int): The second integer.\n",
    "    \n",
    "    Returns:\n",
    "    int: The sum of a and b.\n",
    "    \"\"\"\n",
    "    return int(a) + int(b)\n",
    "\n",
    "result = add_integers(10, 6)\n",
    "print(result)"
   ]
  },
  {
   "cell_type": "markdown",
   "id": "0792bd20-ada3-494f-9328-c37ac31ff943",
   "metadata": {},
   "source": [
    "## Recursive Functions"
   ]
  },
  {
   "cell_type": "code",
   "execution_count": 59,
   "id": "a4353ccc-f622-4451-a0b6-4347a8f709e2",
   "metadata": {},
   "outputs": [
    {
     "name": "stdout",
     "output_type": "stream",
     "text": [
      "5\n",
      "4\n",
      "3\n",
      "2\n",
      "1\n"
     ]
    }
   ],
   "source": [
    "def recursive_inverse_counter(n: int):\n",
    "    \"\"\"\n",
    "    Prints numbers from n to 1 recursively.\n",
    "\n",
    "    Parameters:\n",
    "    n (int): The starting number for the countdown.\n",
    "    \"\"\"\n",
    "    if n < 1:  # Base case: stop recursion when n is less than 1\n",
    "        return\n",
    "    print(n)  # Print the current number\n",
    "    recursive_inverse_counter(n - 1)  # Recursive call with n-1\n",
    "\n",
    "# Example usage:\n",
    "recursive_inverse_counter(5)"
   ]
  },
  {
   "cell_type": "code",
   "execution_count": null,
   "id": "de76bb4f-f09b-40f4-a5d3-83a9cbc31be1",
   "metadata": {},
   "outputs": [],
   "source": []
  },
  {
   "cell_type": "markdown",
   "id": "675290bb-d9c1-40e9-b26e-76fd417a2af9",
   "metadata": {},
   "source": [
    "## **Storing Your Functions in Modules**\n",
    "\n",
    "***From this point onward, VS Code ‍has been used for organizing files and writing the code.***"
   ]
  },
  {
   "cell_type": "markdown",
   "id": "d7374552-9a7b-4c2a-adf7-041d0fe3a957",
   "metadata": {},
   "source": [
    "### Importing an Entire Module"
   ]
  },
  {
   "cell_type": "code",
   "execution_count": null,
   "id": "db518e3b-e540-4bcc-87da-8642156cedb3",
   "metadata": {},
   "outputs": [],
   "source": [
    "import helper_functions\n",
    "\n",
    "result = helper_functions.add_floats(a=5.2, b=3)\n",
    "print(result)"
   ]
  },
  {
   "cell_type": "markdown",
   "id": "e28a70cf-c4e1-4765-a7da-8455a72c87c4",
   "metadata": {},
   "source": [
    "### Importing Specific Functions\n",
    "\n",
    "```python\n",
    "from helper_functions import factorial\n",
    "\n",
    "result = factorial(5)"
   ]
  },
  {
   "cell_type": "markdown",
   "id": "02f68a4c-1c42-43c0-b32f-33fb1af7c9b0",
   "metadata": {},
   "source": [
    "### Using *as* to Give a Function an Alias\n",
    "\n",
    "```python\n",
    "from helper_functions import factorial as fact\n",
    "\n",
    "result = fact(4)"
   ]
  },
  {
   "cell_type": "markdown",
   "id": "b9934138-6d20-4e12-abe5-798471e721e0",
   "metadata": {},
   "source": [
    "### Using *as* to Give a Module an Alias\n",
    "\n",
    "```python\n",
    "import helper_functions as help_func\n",
    "\n",
    "result = help_func.add_floats(4.3, 2.1)\n",
    "\n",
    "print (result)"
   ]
  },
  {
   "cell_type": "markdown",
   "id": "4988f737-d093-473e-98d5-502c82613609",
   "metadata": {},
   "source": [
    "### Importing All Functions in a Module\n",
    "```python\n",
    "from helper_functions import *"
   ]
  },
  {
   "cell_type": "markdown",
   "id": "88905c2e-f092-471c-b057-de5278374a8f",
   "metadata": {},
   "source": [
    "## **Styling Functions**"
   ]
  },
  {
   "cell_type": "markdown",
   "id": "49245847-483c-4f24-a905-6acf0b55ac2d",
   "metadata": {},
   "source": [
    "### Function Naming\n",
    "- Use **descriptive names** in lowercase with underscores (e.g., `calculate_sum`).\n",
    "- Follow the same convention for **module names**.\n",
    "\n",
    "### Docstrings\n",
    "- Add a **docstring** immediately after the function definition to describe its purpose.\n",
    "- Docstrings should be concise and explain:\n",
    "  - What the function does.\n",
    "  - Its arguments.\n",
    "  - Its return value.\n",
    "\n",
    "Example:\n",
    "```python\n",
    "def calculate_sum(a, b):\n",
    "    \"\"\"\n",
    "    Adds two numbers and returns the result.\n",
    "\n",
    "    Parameters:\n",
    "    a (int): The first number.\n",
    "    b (int): The second number.\n",
    "\n",
    "    Returns:\n",
    "    int: The sum of a and b.\n",
    "    \"\"\"\n",
    "    return a + b"
   ]
  },
  {
   "cell_type": "markdown",
   "id": "6d210505-f636-4416-8cf5-a5296a7dedf3",
   "metadata": {},
   "source": [
    "### Default Parameter Values\n",
    "* No spaces around the `=` sign for default values:\n",
    "\n",
    "```python\n",
    "def function_name(param_0, param_1='default'):"
   ]
  },
  {
   "cell_type": "markdown",
   "id": "642de09e-c0f9-4a63-b79b-c71adad2ddb5",
   "metadata": {},
   "source": [
    "### Keyword Arguments\n",
    "* No spaces around `=` in keyword arguments:\n",
    "\n",
    "```python\n",
    "function_name(value_0, param_1='value')"
   ]
  },
  {
   "cell_type": "markdown",
   "id": "79694fa9-f809-435d-8fd7-ce9816c823d7",
   "metadata": {},
   "source": [
    "### Line Length\n",
    "* Follow **PEP 8**: Limit lines to **79 characters**.\n",
    "* For long function definitions, break after the opening parenthesis and indent twice:\n",
    "```python\n",
    "def function_name(\n",
    "        param_0, param_1, param_2,\n",
    "        param_3, param_4, param_5):"
   ]
  },
  {
   "cell_type": "markdown",
   "id": "1f6abe34-87ea-44da-943e-010a05215c46",
   "metadata": {},
   "source": [
    "### Function Separation\n",
    "* Separate multiple functions with **two blank lines** for clarity.\n",
    "* For long function definitions, break after the opening parenthesis and \n",
    "\n",
    "### Imports\n",
    "* Place all `import` statements at the **beginning of the file**.\n",
    "* Exception: If comments describe the program, place imports after them.\n",
    "\n",
    "#### Example\n",
    "```Python\n",
    "# Program description\n",
    "# This program demonstrates function styling in Python.\n",
    "\n",
    "import math\n",
    "import os\n",
    "\n",
    "def example_function():\n",
    "    pass"
   ]
  },
  {
   "cell_type": "markdown",
   "id": "da7d922d-2b89-4f1f-9dcd-66dc651f3642",
   "metadata": {},
   "source": [
    "## **Summary**"
   ]
  },
  {
   "cell_type": "markdown",
   "id": "61c3a68f-977a-478c-ac93-f99efbaf3ff1",
   "metadata": {},
   "source": [
    "### What You Learned\n",
    "- How to write functions and pass arguments (positional, keyword, and arbitrary).\n",
    "- Functions can display output or return values.\n",
    "- Using functions with lists, dictionaries, `if` statements, and loops.\n",
    "- Storing functions in **modules** for cleaner code.\n",
    "- Styling functions for readability and maintainability.\n",
    "\n",
    "### Why Functions Matter\n",
    "- Simplify code by breaking it into reusable blocks.\n",
    "- Write once, reuse many times.\n",
    "- Easy to modify and debug.\n",
    "- Improve readability with descriptive names.\n",
    "\n",
    "### Benefits of Functions\n",
    "- Summarize program logic with clear function calls.\n",
    "- Easier to test and debug (test each function separately).\n",
    "- Build confidence in code reliability.\n",
    "\n",
    "### Next Step\n",
    "- In **Chapter 9**, you’ll learn about **classes**, which combine functions and data for more flexible and efficient programming.\n"
   ]
  }
 ],
 "metadata": {
  "kernelspec": {
   "display_name": "Python 3 (ipykernel)",
   "language": "python",
   "name": "python3"
  },
  "language_info": {
   "codemirror_mode": {
    "name": "ipython",
    "version": 3
   },
   "file_extension": ".py",
   "mimetype": "text/x-python",
   "name": "python",
   "nbconvert_exporter": "python",
   "pygments_lexer": "ipython3",
   "version": "3.9.19"
  }
 },
 "nbformat": 4,
 "nbformat_minor": 5
}
