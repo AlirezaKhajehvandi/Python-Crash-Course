{
 "cells": [
  {
   "cell_type": "markdown",
   "id": "1b23eb17-73c6-47c6-929b-3201590879e3",
   "metadata": {},
   "source": [
    "# **Files and Exceptions**\n",
    "***In this chapter, you'll learn how to work with files to store your data.***\n",
    "\n",
    "***Book: Python Crash Course!***"
   ]
  },
  {
   "cell_type": "markdown",
   "id": "54cf6594-e770-4ec1-a572-ed1c55df8141",
   "metadata": {},
   "source": [
    "## Reading from a file"
   ]
  },
  {
   "cell_type": "code",
   "execution_count": null,
   "id": "93633756-c04d-4b1f-8de0-3067b33f4ff1",
   "metadata": {},
   "outputs": [],
   "source": []
  },
  {
   "cell_type": "markdown",
   "id": "53c62a40-e968-4f97-9769-ff485646e18f",
   "metadata": {},
   "source": [
    "### Reading the contents of a file"
   ]
  },
  {
   "cell_type": "code",
   "execution_count": null,
   "id": "6dcba69e-51fa-4c06-87ce-fe03550aa753",
   "metadata": {},
   "outputs": [],
   "source": []
  },
  {
   "cell_type": "markdown",
   "id": "960b757b-6749-4cb3-9bf3-8c1ebf7eb3ff",
   "metadata": {},
   "source": [
    "### Relative and absolute file paths"
   ]
  },
  {
   "cell_type": "code",
   "execution_count": null,
   "id": "0f93b3f8-b6e2-41b9-b985-0ca18eb88d61",
   "metadata": {},
   "outputs": [],
   "source": []
  },
  {
   "cell_type": "markdown",
   "id": "c1970442-9149-4515-8a3d-f56068ee9fcf",
   "metadata": {},
   "source": [
    "### Accessing a file's lines"
   ]
  },
  {
   "cell_type": "code",
   "execution_count": null,
   "id": "c29c2025-0c9b-40e1-b454-144deddc0f8f",
   "metadata": {},
   "outputs": [],
   "source": []
  },
  {
   "cell_type": "markdown",
   "id": "c14f3531-d418-43ce-a834-929e50733886",
   "metadata": {},
   "source": [
    "### Working with a file's contents"
   ]
  },
  {
   "cell_type": "code",
   "execution_count": null,
   "id": "d384efad-b034-42b3-87a9-6ecd93f689e5",
   "metadata": {},
   "outputs": [],
   "source": []
  },
  {
   "cell_type": "markdown",
   "id": "1b991f8c-a4c4-4073-b49e-9bfcaada2f28",
   "metadata": {},
   "source": [
    "### Large files: One million digits"
   ]
  },
  {
   "cell_type": "code",
   "execution_count": null,
   "id": "cd070144-b70a-48a6-8a67-0525cfe686fe",
   "metadata": {},
   "outputs": [],
   "source": []
  },
  {
   "cell_type": "markdown",
   "id": "3f5be723-7cb4-4e30-bfca-9754f094a128",
   "metadata": {},
   "source": [
    "### Is your birthday contained in Pi?"
   ]
  },
  {
   "cell_type": "code",
   "execution_count": null,
   "id": "d2c304f6-411b-4ce9-935a-1336cd91ad39",
   "metadata": {},
   "outputs": [],
   "source": []
  },
  {
   "cell_type": "markdown",
   "id": "e9e46b53-eb1c-450c-9415-109da948c6b2",
   "metadata": {},
   "source": [
    "## Writing to a file"
   ]
  },
  {
   "cell_type": "code",
   "execution_count": null,
   "id": "7ece6357-2e47-4420-8a2d-7e65989c184b",
   "metadata": {},
   "outputs": [],
   "source": []
  },
  {
   "cell_type": "markdown",
   "id": "50aefea3-5f4b-475e-a6c8-05dd2d287b7b",
   "metadata": {},
   "source": [
    "### Writing a single line"
   ]
  },
  {
   "cell_type": "code",
   "execution_count": null,
   "id": "5c6bf353-9b6d-4d32-9cee-4d61ec9e5ae4",
   "metadata": {},
   "outputs": [],
   "source": []
  },
  {
   "cell_type": "markdown",
   "id": "30b4de31-d91a-40f3-8f6e-d041b63e8808",
   "metadata": {},
   "source": [
    "### Writing multiple lines"
   ]
  },
  {
   "cell_type": "code",
   "execution_count": null,
   "id": "c21832e5-c127-421e-9035-0be56b1ad9da",
   "metadata": {},
   "outputs": [],
   "source": []
  },
  {
   "cell_type": "markdown",
   "id": "6564734b-ba1b-4e7c-9426-bfbcf470cbd6",
   "metadata": {},
   "source": [
    "## Exceptions"
   ]
  },
  {
   "cell_type": "code",
   "execution_count": null,
   "id": "b28d66a7-4370-49df-88f7-3d7aafae6b96",
   "metadata": {},
   "outputs": [],
   "source": []
  },
  {
   "cell_type": "markdown",
   "id": "199be61f-08cf-4208-abbf-7061351929e0",
   "metadata": {},
   "source": [
    "### Handling the ZeroDevisionError exception"
   ]
  },
  {
   "cell_type": "code",
   "execution_count": null,
   "id": "b0e44078-f712-493a-a24d-a0e0949e327f",
   "metadata": {},
   "outputs": [],
   "source": []
  },
  {
   "cell_type": "markdown",
   "id": "3683ba65-8d19-44da-bbdf-25a71bb17ddc",
   "metadata": {},
   "source": [
    "### Using try-except blocks"
   ]
  },
  {
   "cell_type": "code",
   "execution_count": null,
   "id": "52b3561a-46a1-4c12-843c-f180784247e2",
   "metadata": {},
   "outputs": [],
   "source": []
  },
  {
   "cell_type": "markdown",
   "id": "fe941b51-33c7-45ac-8731-661b7634d9cf",
   "metadata": {},
   "source": [
    "### Using exceptions to prevent crashes"
   ]
  },
  {
   "cell_type": "code",
   "execution_count": null,
   "id": "cb2f822c-6293-47b3-b0c2-0e7a9cc15111",
   "metadata": {},
   "outputs": [],
   "source": []
  },
  {
   "cell_type": "markdown",
   "id": "f54613c0-85fb-4978-b0bc-fda0719d51ad",
   "metadata": {},
   "source": [
    "### The else block"
   ]
  },
  {
   "cell_type": "code",
   "execution_count": null,
   "id": "16235448-22fd-44f3-9d72-6c0c1a949514",
   "metadata": {},
   "outputs": [],
   "source": []
  },
  {
   "cell_type": "markdown",
   "id": "eec45275-4ab1-40b0-8e1b-9d4a2102be53",
   "metadata": {},
   "source": [
    "### Handling the FileNotFoundError exception"
   ]
  },
  {
   "cell_type": "code",
   "execution_count": null,
   "id": "377f25dc-6a7a-4139-9ac2-6cdd81437f1c",
   "metadata": {},
   "outputs": [],
   "source": []
  },
  {
   "cell_type": "markdown",
   "id": "acd121fc-1e58-4257-9387-4619da382d61",
   "metadata": {},
   "source": [
    "### Analyzing text"
   ]
  },
  {
   "cell_type": "code",
   "execution_count": null,
   "id": "15d9a5b4-a76c-42b3-a60d-a7d2f99543e5",
   "metadata": {},
   "outputs": [],
   "source": []
  },
  {
   "cell_type": "markdown",
   "id": "a52a4800-e629-4181-8bef-e146462ecd33",
   "metadata": {},
   "source": [
    "### Failing Silently"
   ]
  },
  {
   "cell_type": "code",
   "execution_count": null,
   "id": "fa2715a2-0c68-4c04-bd34-03c4a0f99679",
   "metadata": {},
   "outputs": [],
   "source": []
  },
  {
   "cell_type": "markdown",
   "id": "1e08da3d-5853-4244-9a19-bf0410df705a",
   "metadata": {},
   "source": [
    "### Deciding which errors to report"
   ]
  },
  {
   "cell_type": "code",
   "execution_count": null,
   "id": "c838d8a8-c477-4e8f-81f6-4a97e67046d7",
   "metadata": {},
   "outputs": [],
   "source": []
  },
  {
   "cell_type": "markdown",
   "id": "7e0c1874-4227-4d7d-a773-26decee7f31e",
   "metadata": {},
   "source": [
    "## Storing Data"
   ]
  },
  {
   "cell_type": "code",
   "execution_count": null,
   "id": "64877cd8-9221-48f8-99aa-ce22460fc456",
   "metadata": {},
   "outputs": [],
   "source": []
  },
  {
   "cell_type": "markdown",
   "id": "aa479871-094a-4209-a47b-879dff5c4b8c",
   "metadata": {},
   "source": [
    "### Using `json.dumps()` and `json.loads()`"
   ]
  },
  {
   "cell_type": "code",
   "execution_count": null,
   "id": "6416c292-82a4-4856-88dd-2aac34c8244e",
   "metadata": {},
   "outputs": [],
   "source": []
  },
  {
   "cell_type": "markdown",
   "id": "39c42edb-30ae-45bc-99dc-f0d64e8fc39b",
   "metadata": {},
   "source": [
    "### Saving and reading user-generated data"
   ]
  },
  {
   "cell_type": "code",
   "execution_count": null,
   "id": "04f14f18-5a4e-48a8-aa9f-cc5914f704e1",
   "metadata": {},
   "outputs": [],
   "source": []
  },
  {
   "cell_type": "markdown",
   "id": "53627f04-f7e0-4293-b1fe-831c807a1b86",
   "metadata": {},
   "source": [
    "### Refactoring"
   ]
  },
  {
   "cell_type": "code",
   "execution_count": null,
   "id": "2d98b01c-c10c-4684-ae29-55f2e8f0e3a0",
   "metadata": {},
   "outputs": [],
   "source": []
  },
  {
   "cell_type": "code",
   "execution_count": null,
   "id": "3fb88b2b-dabc-444b-a1ec-63f7cf4ff480",
   "metadata": {},
   "outputs": [],
   "source": []
  },
  {
   "cell_type": "code",
   "execution_count": null,
   "id": "a869a46c-f6f4-47cc-bc71-924517bc410c",
   "metadata": {},
   "outputs": [],
   "source": []
  },
  {
   "cell_type": "markdown",
   "id": "dc091086-508a-4466-819a-b08a442792b8",
   "metadata": {},
   "source": [
    "## **Summary**"
   ]
  },
  {
   "cell_type": "code",
   "execution_count": null,
   "id": "6d5d0ae5-90c6-4ea5-be09-660faa1318cf",
   "metadata": {},
   "outputs": [],
   "source": []
  },
  {
   "cell_type": "markdown",
   "id": "7a8938fd-38e5-4cb2-95da-db54abf08a6b",
   "metadata": {},
   "source": [
    "# Test"
   ]
  },
  {
   "cell_type": "code",
   "execution_count": 4,
   "id": "b0157970-9d03-4268-a1f3-44c55d56242a",
   "metadata": {},
   "outputs": [
    {
     "name": "stdout",
     "output_type": "stream",
     "text": [
      "hello from outside\n",
      "Before calling the function.\n",
      "Hello, World!\n",
      "After calling the function.\n"
     ]
    }
   ],
   "source": [
    "# A simple decorator function\n",
    "def decorator(func):\n",
    "  \n",
    "    def wrapper():\n",
    "        print(\"Before calling the function.\")\n",
    "        func()\n",
    "        print(\"After calling the function.\")\n",
    "\n",
    "    print(\"hello from outside\")\n",
    "    return wrapper\n",
    "\n",
    "# Applying the decorator to a function\n",
    "@decorator\n",
    "def greet():\n",
    "    print(\"Hello, World!\")\n",
    "\n",
    "greet()"
   ]
  },
  {
   "cell_type": "code",
   "execution_count": 7,
   "id": "60c5bd69-8b0b-4b68-a1d9-af227811eb2e",
   "metadata": {},
   "outputs": [
    {
     "name": "stdout",
     "output_type": "stream",
     "text": [
      "hello from outside\n"
     ]
    },
    {
     "data": {
      "text/plain": [
       "<function __main__.decorator.<locals>.wrapper()>"
      ]
     },
     "execution_count": 7,
     "metadata": {},
     "output_type": "execute_result"
    }
   ],
   "source": [
    "decorator(greet)"
   ]
  },
  {
   "cell_type": "code",
   "execution_count": 8,
   "id": "7972137b-1092-4c9c-8933-0a0ade60e940",
   "metadata": {},
   "outputs": [
    {
     "name": "stdout",
     "output_type": "stream",
     "text": [
      "25\n"
     ]
    }
   ],
   "source": [
    "def fun(f, x):\n",
    "    return f(x)\n",
    "\n",
    "def square(x):\n",
    "    return x * x\n",
    "\n",
    "res = fun(square, 5)\n",
    "print(res)"
   ]
  },
  {
   "cell_type": "code",
   "execution_count": 9,
   "id": "6dd9e9b8-65d5-417b-838d-3142ec1edf0b",
   "metadata": {},
   "outputs": [
    {
     "name": "stdout",
     "output_type": "stream",
     "text": [
      "Hello, Alice!\n"
     ]
    }
   ],
   "source": [
    "def greet(n):\n",
    "    return f\"Hello, {n}!\"\n",
    "\n",
    "say_hi = greet\n",
    "print(say_hi(\"Alice\"))"
   ]
  },
  {
   "cell_type": "code",
   "execution_count": 10,
   "id": "174676c5-3fb2-4169-add8-d15ff94b9c7a",
   "metadata": {},
   "outputs": [
    {
     "name": "stdout",
     "output_type": "stream",
     "text": [
      "Hello, Bob!\n"
     ]
    }
   ],
   "source": [
    "def apply(f, v):\n",
    "    return f(v)\n",
    "\n",
    "res = apply(say_hi, \"Bob\")\n",
    "print(res)"
   ]
  },
  {
   "cell_type": "code",
   "execution_count": 16,
   "id": "530113f6-9338-45e6-96e5-97d52c192288",
   "metadata": {},
   "outputs": [
    {
     "name": "stdout",
     "output_type": "stream",
     "text": [
      "10\n"
     ]
    }
   ],
   "source": [
    "def make_mult(f):\n",
    "    def mult(x):\n",
    "        return x * f\n",
    "    return mult\n",
    "\n",
    "dbl = make_mult(2)\n",
    "print(dbl(5))"
   ]
  },
  {
   "cell_type": "code",
   "execution_count": 18,
   "id": "da7df915-5fef-4325-99ef-583978f3b7b6",
   "metadata": {},
   "outputs": [
    {
     "name": "stdout",
     "output_type": "stream",
     "text": [
      "Before method execution\n",
      "Hello!\n",
      "After method execution\n"
     ]
    }
   ],
   "source": [
    "def method_decorator(func):\n",
    "    def wrapper(self, *args, **kwargs):\n",
    "        print(\"Before method execution\")\n",
    "        res = func(self, *args, **kwargs)\n",
    "        print(\"After method execution\")\n",
    "        return 1\n",
    "    return wrapper\n",
    "\n",
    "class MyClass:\n",
    "    @method_decorator\n",
    "    def say_hello(self):\n",
    "        print(\"Hello!\")\n",
    "\n",
    "obj = MyClass()\n",
    "x = obj.say_hello()"
   ]
  },
  {
   "cell_type": "code",
   "execution_count": 19,
   "id": "6853198d-4995-4a94-9595-363f1d1733b5",
   "metadata": {},
   "outputs": [
    {
     "data": {
      "text/plain": [
       "1"
      ]
     },
     "execution_count": 19,
     "metadata": {},
     "output_type": "execute_result"
    }
   ],
   "source": [
    "x"
   ]
  },
  {
   "cell_type": "code",
   "execution_count": 20,
   "id": "e21fc4da-69bc-4470-9cb9-c2955664c076",
   "metadata": {},
   "outputs": [
    {
     "name": "stdout",
     "output_type": "stream",
     "text": [
      "Person\n"
     ]
    }
   ],
   "source": [
    "def fun(cls):\n",
    "    cls.class_name = cls.__name__\n",
    "    return cls\n",
    "\n",
    "@fun\n",
    "class Person:\n",
    "    pass\n",
    "\n",
    "print(Person.class_name) "
   ]
  },
  {
   "cell_type": "code",
   "execution_count": 22,
   "id": "5b462453-5232-4d3b-b67d-cac328a4b546",
   "metadata": {},
   "outputs": [
    {
     "name": "stdout",
     "output_type": "stream",
     "text": [
      "Person\n"
     ]
    }
   ],
   "source": [
    "def fun(cls):\n",
    "    cls.class_name = cls.__name__\n",
    "    return cls\n",
    "\n",
    "@fun\n",
    "class Person:\n",
    "    pass\n",
    "\n",
    "print(Person.class_name) "
   ]
  },
  {
   "cell_type": "code",
   "execution_count": null,
   "id": "1062bc17-1817-48e4-ba69-07206f6d41b4",
   "metadata": {},
   "outputs": [],
   "source": []
  }
 ],
 "metadata": {
  "kernelspec": {
   "display_name": "Python 3 (ipykernel)",
   "language": "python",
   "name": "python3"
  },
  "language_info": {
   "codemirror_mode": {
    "name": "ipython",
    "version": 3
   },
   "file_extension": ".py",
   "mimetype": "text/x-python",
   "name": "python",
   "nbconvert_exporter": "python",
   "pygments_lexer": "ipython3",
   "version": "3.9.19"
  }
 },
 "nbformat": 4,
 "nbformat_minor": 5
}
