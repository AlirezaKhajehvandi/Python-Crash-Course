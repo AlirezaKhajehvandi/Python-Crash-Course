{
 "cells": [
  {
   "cell_type": "markdown",
   "id": "1b23eb17-73c6-47c6-929b-3201590879e3",
   "metadata": {},
   "source": [
    "# **Files and Exceptions**\n",
    "***In this chapter, you'll learn how to work with files to store your data.***\n",
    "\n",
    "***Book: Python Crash Course!***"
   ]
  },
  {
   "cell_type": "markdown",
   "id": "54cf6594-e770-4ec1-a572-ed1c55df8141",
   "metadata": {},
   "source": [
    "## Installing pytest with pip"
   ]
  },
  {
   "cell_type": "markdown",
   "id": "0c984a88-3393-4497-b340-84b480209b38",
   "metadata": {},
   "source": [
    "### updating pip\n",
    "`python -m pip install --upgrade pip`"
   ]
  },
  {
   "cell_type": "markdown",
   "id": "c501a14b-03f3-470b-97eb-e63bc61ab9dc",
   "metadata": {},
   "source": [
    "In general form you can use this: <br>\n",
    "`python -m pip install --upgrade package_name`"
   ]
  },
  {
   "cell_type": "markdown",
   "id": "5f1ae5d6-2325-46a6-86cf-08a73866e0fb",
   "metadata": {},
   "source": [
    "### Installing pytest\n",
    "`python -m pip install --user pytest` <br>\n",
    "`python -m pip install pytest` <br>\n",
    "`pip install pytest` <br> <br>\n",
    "***Note:*** *If you have any difficulty running this command, try running the same command without the --user flag.*"
   ]
  },
  {
   "cell_type": "markdown",
   "id": "6c0f5f72-6f48-493e-bcdc-59c9e0efcac4",
   "metadata": {},
   "source": [
    "## Testing a function"
   ]
  },
  {
   "cell_type": "code",
   "execution_count": 1,
   "id": "e3c13887-7498-420a-98dc-e1e1d64d3e59",
   "metadata": {},
   "outputs": [],
   "source": [
    "def get_formatted_name(first_name, last_name):\n",
    "    \"\"\"Generate a neatly formatted full name\"\"\"\n",
    "    full_name = f\"{first_name} {last_name}\"\n",
    "    return full_name.title()\n",
    "    "
   ]
  },
  {
   "cell_type": "code",
   "execution_count": 2,
   "id": "2e2c6ecb-a1cc-44d6-a954-54325d120cd3",
   "metadata": {},
   "outputs": [
    {
     "name": "stdout",
     "output_type": "stream",
     "text": [
      "Enter 'q' at any time to quit.\n"
     ]
    },
    {
     "name": "stdin",
     "output_type": "stream",
     "text": [
      "\n",
      "Please give me a first name:  alireza\n",
      "\n",
      "Please give me a last name:  khajehvandi\n"
     ]
    },
    {
     "name": "stdout",
     "output_type": "stream",
     "text": [
      "\n",
      "\tNeatly formatted name: Alireza Khajehvandi.\n"
     ]
    },
    {
     "name": "stdin",
     "output_type": "stream",
     "text": [
      "\n",
      "Please give me a first name:  q\n"
     ]
    }
   ],
   "source": [
    "from functions import get_formatted_name\n",
    "\n",
    "print(\"Enter 'q' at any time to quit.\")\n",
    "while True:\n",
    "    first_name = input(\"\\nPlease give me a first name: \")\n",
    "    if first_name == 'q':\n",
    "        break\n",
    "    last_name = input(\"\\nPlease give me a last name: \")\n",
    "    if last_name == 'q':\n",
    "        break\n",
    "\n",
    "    formatted_name = get_formatted_name(first_name, last_name)\n",
    "    print(f\"\\n\\tNeatly formatted name: {formatted_name}.\")"
   ]
  },
  {
   "cell_type": "markdown",
   "id": "794856d3-416d-4c7f-bf1f-4ce634252b30",
   "metadata": {},
   "source": [
    "### Using Tests and Test Cases"
   ]
  },
  {
   "cell_type": "markdown",
   "id": "74b4bdbd-fd60-4b0a-9671-3cdd04a9d83f",
   "metadata": {},
   "source": [
    "🧪 Unit Testing in Python\n",
    "Testing is essential in software development. One common method is unit testing, which checks if a specific part of a function works correctly.\n",
    "\n",
    "A unit test verifies one aspect of a function.\n",
    "\n",
    "A test case is a group of unit tests that ensure a function works as expected in different scenarios.\n",
    "\n",
    "✅ Good test cases:\n",
    "\n",
    "Cover different types of input.\n",
    "\n",
    "Aim for full coverage (every possible use case).\n",
    "\n",
    "Focus first on critical functionality, and expand coverage as the project grows.\n",
    "\n",
    "Remember: full coverage is ideal, but start small and test what matters most!"
   ]
  },
  {
   "cell_type": "markdown",
   "id": "5e3adac4-b63e-4e50-9c7c-fdcbf5bffe7d",
   "metadata": {},
   "source": [
    "### A passing test\n",
    "\n",
    "***Note:*** *the name of the test file should be started by `test_`*"
   ]
  },
  {
   "cell_type": "code",
   "execution_count": 5,
   "id": "85cd2a2d-7fed-4fbe-92f8-a7d66c58f18b",
   "metadata": {},
   "outputs": [],
   "source": [
    "from functions import get_formatted_name\n",
    "\n",
    "def test_first_last_name():\n",
    "    \"\"\"Do names like 'Alireza Khajehvandi' work?\"\"\"\n",
    "    formatted_name = get_formatted_name(\"alireza\", \"khajehvandi\")\n",
    "    assert formatted_name == \"Alireza Khajehvandi\""
   ]
  },
  {
   "cell_type": "markdown",
   "id": "dd298e86-5c28-45ba-b581-000a6a83baae",
   "metadata": {},
   "source": [
    "### Running a test\n",
    "If you run the `file test_case.py` directly, nothing will happen—because the test function isn’t called manually.\n",
    "\n",
    "Instead, use `pytest` to run the test file for you:\n",
    "\n",
    "Open a terminal and navigate to the folder with your test file.\n",
    "\n",
    "If you're using VS Code, open the folder and use the built-in terminal.\n",
    "\n",
    "Run the following command:\n",
    "\n",
    "`$ pytest`\n",
    "\n",
    "Restult:"
   ]
  },
  {
   "cell_type": "markdown",
   "id": "918447c5-8c56-4332-851a-73da0d5b92f3",
   "metadata": {},
   "source": [
    "![Alt text](output1.png)"
   ]
  },
  {
   "cell_type": "markdown",
   "id": "cffbab02-06c4-4cb2-8a22-02c8ccf473c1",
   "metadata": {},
   "source": [
    "### A failing test"
   ]
  },
  {
   "cell_type": "markdown",
   "id": "3e50fe9b-dfaa-4a69-8a78-a6e3e4c25041",
   "metadata": {},
   "source": [
    "```python\n",
    "def get_formatted_name(first_name, middle_name, last_name):\n",
    "    \"\"\"Generate a neatly formatted full name\"\"\"\n",
    "    full_name = f\"{first_name} {middle_name} {full_name}\"\n",
    "    return full_name.title()"
   ]
  },
  {
   "cell_type": "markdown",
   "id": "51a4f476-ed3c-43bc-80ed-49d0744bd5c4",
   "metadata": {},
   "source": [
    "### Responding to a failed test\n",
    "\n",
    "```python\n",
    "def get_formatted_name(first_name, last_name, middle_name=''):\n",
    "    \"\"\"Generate a neatly formatted full name.\"\"\"\n",
    "    if middle_name:\n",
    "        full_name = f\"{first_name} {middle_name} {last_name}\"\n",
    "    else:\n",
    "        full_name = f\"{first_name} {last_name}\"\n",
    "    return full_name.title()\n"
   ]
  },
  {
   "cell_type": "markdown",
   "id": "12649709-3cca-425f-86ef-38fe366cbe2f",
   "metadata": {},
   "source": [
    "### Adding new tests"
   ]
  },
  {
   "cell_type": "code",
   "execution_count": null,
   "id": "2ee9361c-b87c-49d1-a904-95cd8ad64779",
   "metadata": {},
   "outputs": [],
   "source": []
  },
  {
   "cell_type": "code",
   "execution_count": null,
   "id": "44edf18e-a2f3-4b9a-83ca-23d49ed85491",
   "metadata": {},
   "outputs": [],
   "source": []
  },
  {
   "cell_type": "markdown",
   "id": "dae459d3-958d-4ae6-89e7-d71238db558c",
   "metadata": {},
   "source": [
    "## Testing a Class"
   ]
  },
  {
   "cell_type": "markdown",
   "id": "4ac070b2-e203-4b09-8e88-fc12de327e38",
   "metadata": {},
   "source": [
    "![table of assertions](table11-1.png)"
   ]
  },
  {
   "cell_type": "markdown",
   "id": "0c300768-bace-4802-a890-45ca71ee1492",
   "metadata": {},
   "source": [
    "### Testing the AnonymousSurvey Class"
   ]
  },
  {
   "cell_type": "markdown",
   "id": "d90dcb86-8eea-467c-bcd9-1eaba5095d01",
   "metadata": {},
   "source": [
    "```python\n",
    "class AnonymousSurvey():\n",
    "    \"\"\"Collect anonymous answers to a survey questoin.\"\"\"\n",
    "    def __init__(self, question):\n",
    "        \"\"\"Store a question, and prepare to store responses.\"\"\"\n",
    "        self.question = question\n",
    "        self.responses = []\n",
    "\n",
    "    def show_question(self):\n",
    "        \"\"\"Show the survey question.\"\"\"\n",
    "        print(self.question)\n",
    "\n",
    "    def store_response(self, new_response):\n",
    "        \"\"\"Store a single response to the survey.\"\"\"\n",
    "        self.responses.append(new_response)\n",
    "\n",
    "    def show_results(self):\n",
    "        \"\"\"Show all the responses that have been given.\"\"\"\n",
    "        print(\"Survey results: \")\n",
    "        for response in self.responses:\n",
    "            print(f\"- {response}\")\n",
    "            "
   ]
  },
  {
   "cell_type": "markdown",
   "id": "680c8c90-befc-41ce-8753-31feeb6c2193",
   "metadata": {},
   "source": [
    "### Using Fixtures"
   ]
  },
  {
   "cell_type": "markdown",
   "id": "a86c58e2-c377-4b5f-83cb-83c0f95e8c0d",
   "metadata": {},
   "source": [
    "```python\n",
    "import pytest\n",
    "\n",
    "@pytest.fixture\n",
    "def language_survey():\n",
    "    \"\"\"A survey that will be available to all test functions.\"\"\"\n",
    "    question = \"What language did you first learn to speak?\"\n",
    "    language_survey = AnonymousSurvey(question)\n",
    "    return language_survey"
   ]
  },
  {
   "cell_type": "markdown",
   "id": "2cf57732-37b4-4992-8189-ffd7685e5cad",
   "metadata": {},
   "source": [
    "## Summary"
   ]
  },
  {
   "cell_type": "markdown",
   "id": "8513e24c-502d-486d-95b1-616bb1267feb",
   "metadata": {},
   "source": [
    "### ✅ Writing Tests with `pytest`\n",
    "\n",
    "In this chapter, you learned how to:\n",
    "\n",
    "- Write tests for functions and classes using **`pytest`**.\n",
    "- Create test functions to check expected behaviors.\n",
    "- Use **fixtures** to reuse setup code across multiple tests.\n",
    "\n",
    "---\n",
    "\n",
    "## 🛠 Why Testing Matters\n",
    "\n",
    "- Helps catch bugs early—before users find them.\n",
    "- Not necessary for every small project, but essential for larger ones.\n",
    "- Focus on testing **critical behaviors** first.\n",
    "- Increases confidence when updating or refactoring code.\n",
    "\n",
    "---\n",
    "\n",
    "## 👥 Working with Others\n",
    "\n",
    "- Well-tested projects earn more trust and collaboration.\n",
    "- Most open-source projects **require** passing tests for new contributions.\n",
    "- Tests show professionalism and make teamwork easier.\n",
    "\n",
    "---\n",
    "\n",
    "> **Tip:** Don’t worry about full test coverage in early projects.  \n",
    "> Start by testing the most important parts of your code.\n",
    "\n"
   ]
  }
 ],
 "metadata": {
  "kernelspec": {
   "display_name": "Python 3 (ipykernel)",
   "language": "python",
   "name": "python3"
  },
  "language_info": {
   "codemirror_mode": {
    "name": "ipython",
    "version": 3
   },
   "file_extension": ".py",
   "mimetype": "text/x-python",
   "name": "python",
   "nbconvert_exporter": "python",
   "pygments_lexer": "ipython3",
   "version": "3.9.19"
  }
 },
 "nbformat": 4,
 "nbformat_minor": 5
}
