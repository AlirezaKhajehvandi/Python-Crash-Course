{
 "cells": [
  {
   "cell_type": "markdown",
   "id": "4b45e57b-b4be-43b3-853b-2480c144f0b3",
   "metadata": {},
   "source": [
    "## IF STATEMENTS"
   ]
  },
  {
   "cell_type": "code",
   "execution_count": 1,
   "id": "69117076-d7f8-4a50-8596-186d329ba3b9",
   "metadata": {},
   "outputs": [],
   "source": [
    "# if (conditional test):\n",
    "#     statements"
   ]
  },
  {
   "cell_type": "code",
   "execution_count": 2,
   "id": "be0c3181-c5d0-450f-8801-c552b462edd2",
   "metadata": {},
   "outputs": [],
   "source": [
    "cars = ['audi', 'bmw', 'mercedes-benz']"
   ]
  },
  {
   "cell_type": "code",
   "execution_count": 4,
   "id": "32c74a1c-71c7-4d91-9d59-12a72fa428c3",
   "metadata": {},
   "outputs": [
    {
     "name": "stdout",
     "output_type": "stream",
     "text": [
      "audi\n",
      "bmw\n",
      "Mercedes-Benz\n"
     ]
    }
   ],
   "source": [
    "for car in cars: \n",
    "    if car == 'mercedes-benz':\n",
    "        print (car.title())\n",
    "    else:\n",
    "        print (car)"
   ]
  },
  {
   "cell_type": "markdown",
   "id": "31f63dcc-5ded-47fd-b3a7-45ef1d0b4247",
   "metadata": {},
   "source": [
    "### Conditional tests\n"
   ]
  },
  {
   "cell_type": "code",
   "execution_count": null,
   "id": "64babbd9-9990-42b1-94fa-34404067ef86",
   "metadata": {},
   "outputs": [],
   "source": [
    "# if (conditional test):\n",
    "#     statements"
   ]
  },
  {
   "cell_type": "markdown",
   "id": "bb8b8901-54f3-4b0d-af75-47277b8ac501",
   "metadata": {},
   "source": [
    "#### Checking for Equality"
   ]
  },
  {
   "cell_type": "code",
   "execution_count": 6,
   "id": "587dcabe-5579-4421-8456-033b41f4b380",
   "metadata": {},
   "outputs": [
    {
     "name": "stdout",
     "output_type": "stream",
     "text": [
      "False\n"
     ]
    }
   ],
   "source": [
    "car = 'bmw'\n",
    "print (car == 'audi')"
   ]
  },
  {
   "cell_type": "code",
   "execution_count": 7,
   "id": "3322bda8-e502-4a00-a677-e2ca844ffd1d",
   "metadata": {},
   "outputs": [
    {
     "name": "stdout",
     "output_type": "stream",
     "text": [
      "False\n"
     ]
    }
   ],
   "source": [
    "# Case sensitive\n",
    "car = 'Audi'\n",
    "print (car == 'audi')"
   ]
  },
  {
   "cell_type": "code",
   "execution_count": 10,
   "id": "cb177614-f10a-41fe-9a07-0abe50998e72",
   "metadata": {},
   "outputs": [
    {
     "name": "stdout",
     "output_type": "stream",
     "text": [
      "audi\n",
      "True\n"
     ]
    }
   ],
   "source": [
    "## Ignoring Case When Checking for Equality\n",
    "car = 'AUDI'\n",
    "print (car.lower())\n",
    "print (car.lower() == 'audi')"
   ]
  },
  {
   "cell_type": "markdown",
   "id": "7549a4a9-5be0-44bb-bf20-272c98721206",
   "metadata": {},
   "source": [
    "#### Checking for Inequality"
   ]
  },
  {
   "cell_type": "code",
   "execution_count": 14,
   "id": "73255aff-5a02-4dd4-9f57-c7b82c231770",
   "metadata": {},
   "outputs": [
    {
     "name": "stdout",
     "output_type": "stream",
     "text": [
      "Python is not equal to python\n"
     ]
    }
   ],
   "source": [
    "language_name = 'python'\n",
    "\n",
    "if language_name != 'Python':\n",
    "    print (f\"Python is not equal to {language_name}\")"
   ]
  },
  {
   "cell_type": "markdown",
   "id": "feec616b-ac79-4381-9eb2-45e21f6c2dc9",
   "metadata": {},
   "source": [
    "#### Numerical Comparisons"
   ]
  },
  {
   "cell_type": "code",
   "execution_count": 17,
   "id": "df619aa7-ea00-4fbd-9f6d-034cedd1718c",
   "metadata": {},
   "outputs": [
    {
     "name": "stdout",
     "output_type": "stream",
     "text": [
      "True\n"
     ]
    }
   ],
   "source": [
    "age = 18\n",
    "print (age == 18)"
   ]
  },
  {
   "cell_type": "code",
   "execution_count": 18,
   "id": "e1a70221-0938-4334-ba2a-4b39778c7bc8",
   "metadata": {},
   "outputs": [
    {
     "name": "stdout",
     "output_type": "stream",
     "text": [
      "10 is not equal to 15\n"
     ]
    }
   ],
   "source": [
    "num1 = 10\n",
    "num2 = 15\n",
    "\n",
    "if num1 != num2:\n",
    "    print (f\"{num1} is not equal to {num2}\")\n",
    "    "
   ]
  },
  {
   "cell_type": "markdown",
   "id": "882f1059-4dc7-441b-8308-f2f6016db465",
   "metadata": {},
   "source": [
    "`==, !=, >=, <=, ...`"
   ]
  },
  {
   "cell_type": "code",
   "execution_count": 21,
   "id": "a1fd269e-04c9-4bb3-9413-b6eb66f15f6f",
   "metadata": {},
   "outputs": [
    {
     "name": "stdout",
     "output_type": "stream",
     "text": [
      "False\n"
     ]
    }
   ],
   "source": [
    "print (15 >= 16)"
   ]
  },
  {
   "cell_type": "code",
   "execution_count": 22,
   "id": "39a67581-86c0-47d5-9c7a-ae657048b446",
   "metadata": {},
   "outputs": [
    {
     "name": "stdout",
     "output_type": "stream",
     "text": [
      "False\n"
     ]
    }
   ],
   "source": [
    "print (5 < 3)"
   ]
  },
  {
   "cell_type": "markdown",
   "id": "09f9c1de-4a2e-40b2-a788-599bebacaaf3",
   "metadata": {},
   "source": [
    "#### Checking Multiple Conditions\n",
    "use keywords `and`, `or` for checking multiple conditions"
   ]
  },
  {
   "cell_type": "code",
   "execution_count": 27,
   "id": "d2b761c7-c705-4a40-b87f-822717f947ee",
   "metadata": {},
   "outputs": [
    {
     "name": "stdout",
     "output_type": "stream",
     "text": [
      "False\n"
     ]
    }
   ],
   "source": [
    "age_1 = 22\n",
    "age_2 = 18\n",
    "age_3 = 27\n",
    "age_4 = 15\n",
    "\n",
    "print (age_1 > 20 and age_3 > 20 and age_4 > 20)"
   ]
  },
  {
   "cell_type": "code",
   "execution_count": 29,
   "id": "6450c6d9-52a0-4b06-a146-0d23df532ffc",
   "metadata": {},
   "outputs": [
    {
     "name": "stdout",
     "output_type": "stream",
     "text": [
      "True\n"
     ]
    }
   ],
   "source": [
    "print (age_1 > 20 or age_3 > 20 or age_4 > 20)"
   ]
  },
  {
   "cell_type": "markdown",
   "id": "36cb5a05-4b3e-425c-971c-c4e0a701670c",
   "metadata": {},
   "source": [
    "***for more readability*** use parentheses around the individual \n",
    "tests"
   ]
  },
  {
   "cell_type": "code",
   "execution_count": 30,
   "id": "b9f59428-8e46-4ab5-b9a8-80f26c87a6b3",
   "metadata": {},
   "outputs": [
    {
     "name": "stdout",
     "output_type": "stream",
     "text": [
      "False\n"
     ]
    }
   ],
   "source": [
    "print ((age_4 > 20) or (age_2 > 20))"
   ]
  },
  {
   "cell_type": "markdown",
   "id": "4096f2bb-e9a4-4c71-b7fe-a63b7d2c71d6",
   "metadata": {},
   "source": [
    "####  Checking Whether a Value Is in a List or not\n",
    "use keywords `in` and `not in`"
   ]
  },
  {
   "cell_type": "code",
   "execution_count": 31,
   "id": "c2168120-d7e7-4697-8b02-1bf456133079",
   "metadata": {},
   "outputs": [
    {
     "name": "stdout",
     "output_type": "stream",
     "text": [
      "['python', 'java', 'javascript']\n"
     ]
    }
   ],
   "source": [
    "programming_languages = ['python', 'java', 'javascript']\n",
    "print (programming_languages)"
   ]
  },
  {
   "cell_type": "code",
   "execution_count": 34,
   "id": "a82a03c0-8081-4cc0-9ed8-6b3136c1acb9",
   "metadata": {},
   "outputs": [
    {
     "name": "stdout",
     "output_type": "stream",
     "text": [
      "True\n"
     ]
    }
   ],
   "source": [
    "print (\"python\" in programming_languages)"
   ]
  },
  {
   "cell_type": "code",
   "execution_count": 35,
   "id": "9211a38d-c135-4cb0-a0d0-ddb249102292",
   "metadata": {},
   "outputs": [
    {
     "name": "stdout",
     "output_type": "stream",
     "text": [
      "False\n"
     ]
    }
   ],
   "source": [
    "print (\"c\" in programming_languages)"
   ]
  },
  {
   "cell_type": "code",
   "execution_count": 37,
   "id": "1cebab3e-bacf-45ef-b67c-7c770c8c7983",
   "metadata": {},
   "outputs": [
    {
     "name": "stdout",
     "output_type": "stream",
     "text": [
      "True\n"
     ]
    }
   ],
   "source": [
    "print ('c' not in programming_languages)"
   ]
  },
  {
   "cell_type": "code",
   "execution_count": null,
   "id": "28ee19d3-34c0-4f69-97d4-58fe5b3ae444",
   "metadata": {},
   "outputs": [],
   "source": [
    "# Boolean Expressions\n",
    "game_active = True\n",
    "can_edit = False"
   ]
  },
  {
   "cell_type": "markdown",
   "id": "8b628d3b-5818-4fb5-93e3-f95a7565ca8b",
   "metadata": {},
   "source": [
    "## if statements"
   ]
  },
  {
   "cell_type": "markdown",
   "id": "b8cefcf0-d4e8-4bb7-a54b-1b9fc966ad2d",
   "metadata": {},
   "source": [
    "### simple if statements"
   ]
  },
  {
   "cell_type": "code",
   "execution_count": null,
   "id": "177321bf-87a3-4ff0-8eff-690e029eb6db",
   "metadata": {},
   "outputs": [],
   "source": [
    "# if (conditional test):\n",
    "#     do something"
   ]
  },
  {
   "cell_type": "code",
   "execution_count": 38,
   "id": "8086bd59-3bc9-41bc-91b3-4173d51564a7",
   "metadata": {},
   "outputs": [
    {
     "name": "stdout",
     "output_type": "stream",
     "text": [
      "You are old enough to vote!\n"
     ]
    }
   ],
   "source": [
    "age = 19\n",
    "\n",
    "if age >= 18:\n",
    "    print (\"You are old enough to vote!\")"
   ]
  },
  {
   "cell_type": "code",
   "execution_count": 39,
   "id": "9b3fc557-1f3a-4e47-bb5b-5ad516bbbc4f",
   "metadata": {},
   "outputs": [
    {
     "name": "stdout",
     "output_type": "stream",
     "text": [
      "You are old enough to vote!\n",
      "Do you want to vote?\n"
     ]
    }
   ],
   "source": [
    "age = 19\n",
    "\n",
    "if age >= 18:\n",
    "    print (\"You are old enough to vote!\")\n",
    "    print (\"Do you want to vote?\")"
   ]
  },
  {
   "cell_type": "markdown",
   "id": "c62efac9-df46-4a42-964a-85a5031007ce",
   "metadata": {},
   "source": [
    "###  if-else Statements"
   ]
  },
  {
   "cell_type": "code",
   "execution_count": 41,
   "id": "262c18f7-be33-426d-88f1-b66544b6010e",
   "metadata": {},
   "outputs": [
    {
     "name": "stdout",
     "output_type": "stream",
     "text": [
      "You are old enough to vote!\n",
      "Do you want to vote?\n"
     ]
    }
   ],
   "source": [
    "age = 20\n",
    "\n",
    "if age >= 18:\n",
    "    print (\"You are old enough to vote!\")\n",
    "    print (\"Do you want to vote?\")\n",
    "else:\n",
    "    print (\"Sorry, you are too young to vote.\")\n",
    "    print (\"Please wait until you turn 18!\")"
   ]
  },
  {
   "cell_type": "markdown",
   "id": "6cbff1b5-8281-4d89-be7a-04dd7b2d4834",
   "metadata": {},
   "source": [
    "### The if-elif-else Chain"
   ]
  },
  {
   "cell_type": "code",
   "execution_count": 46,
   "id": "51eeae1a-0c1a-4a22-8962-411e305639b1",
   "metadata": {},
   "outputs": [
    {
     "name": "stdout",
     "output_type": "stream",
     "text": [
      "Your admission cost is $40.\n"
     ]
    }
   ],
   "source": [
    "age = 100\n",
    "\n",
    "if (age < 4):\n",
    "    print (\"Your admission cost is $0.\")\n",
    "elif (age < 18):\n",
    "    print (\"Your admission cost is $25.\")\n",
    "else:\n",
    "    print (\"Your admission cost is $40.\")"
   ]
  },
  {
   "cell_type": "code",
   "execution_count": 47,
   "id": "a7a4ffdd-7f41-4e48-9d02-7a11b33b7f63",
   "metadata": {},
   "outputs": [
    {
     "name": "stdout",
     "output_type": "stream",
     "text": [
      "Your admission cost is $25\n"
     ]
    }
   ],
   "source": [
    "age = 12\n",
    "\n",
    "if (age < 4):\n",
    "    price = 0\n",
    "elif (age < 18):\n",
    "    price = 25\n",
    "else:\n",
    "    price = 40\n",
    "\n",
    "print (f\"Your admission cost is ${price}\")"
   ]
  },
  {
   "cell_type": "markdown",
   "id": "14ceb1c1-a7ab-4625-9bc7-f64a500569ef",
   "metadata": {},
   "source": [
    "### Using Multiple elif Blocks"
   ]
  },
  {
   "cell_type": "code",
   "execution_count": 51,
   "id": "dc9210de-66d0-45c8-a052-d3c9b355034a",
   "metadata": {},
   "outputs": [
    {
     "name": "stdout",
     "output_type": "stream",
     "text": [
      "Your admission cost is $20\n"
     ]
    }
   ],
   "source": [
    "age = 65\n",
    "\n",
    "if (age < 4):\n",
    "    price = 0\n",
    "elif (age < 18):\n",
    "    price = 25\n",
    "elif (age < 65):\n",
    "    price = 40\n",
    "else: \n",
    "    price = 20\n",
    "\n",
    "print (f\"Your admission cost is ${price}\")"
   ]
  },
  {
   "cell_type": "markdown",
   "id": "ca977449-5dfe-40c4-afb0-19750875cc69",
   "metadata": {},
   "source": [
    "### Omitting the else Block"
   ]
  },
  {
   "cell_type": "code",
   "execution_count": null,
   "id": "aa67cad2-bd55-4848-8899-0c78b25cfdad",
   "metadata": {},
   "outputs": [],
   "source": [
    "age = 65\n",
    "\n",
    "if (age < 4):\n",
    "    price = 0\n",
    "elif (age < 18):\n",
    "    price = 25\n",
    "elif (age < 65):\n",
    "    price = 40\n",
    "elif (age >= 65): \n",
    "    price = 20\n",
    "\n",
    "print (f\"Your admission cost is ${price}\")"
   ]
  },
  {
   "cell_type": "markdown",
   "id": "0d87f156-2c97-4c5d-b58a-514dd54044a0",
   "metadata": {},
   "source": [
    "### Testing Multiple Conditions"
   ]
  },
  {
   "cell_type": "code",
   "execution_count": 52,
   "id": "999d36b6-6e42-4603-b6b2-83c29d6165dc",
   "metadata": {},
   "outputs": [
    {
     "name": "stdout",
     "output_type": "stream",
     "text": [
      "alireza is in the users list!\n"
     ]
    }
   ],
   "source": [
    "users = ['alireza', 'ali', 'reza']\n",
    "\n",
    "if (\"alireza\" in users):\n",
    "    print (\"alireza is in the users list!\")\n",
    "elif (\"ali\" in users):\n",
    "    print (\"ali is in the users list!\")"
   ]
  },
  {
   "cell_type": "code",
   "execution_count": 53,
   "id": "56111827-6a92-4da2-9438-a6ed90d337ab",
   "metadata": {},
   "outputs": [
    {
     "name": "stdout",
     "output_type": "stream",
     "text": [
      "alireza is in the users list!\n",
      "ali is in the users list!\n"
     ]
    }
   ],
   "source": [
    "if (\"alireza\" in users):\n",
    "    print (\"alireza is in the users list!\")\n",
    "if (\"ali\" in users):\n",
    "    print (\"ali is in the users list!\")"
   ]
  },
  {
   "cell_type": "markdown",
   "id": "2247c86e-2b34-4abf-823b-f58a18e208be",
   "metadata": {},
   "source": [
    "### Using if Statements with Lists"
   ]
  },
  {
   "cell_type": "code",
   "execution_count": 59,
   "id": "adaf1d19-f9ec-4105-b034-614d6378a9d1",
   "metadata": {},
   "outputs": [],
   "source": [
    "users = ['alireza', 'ali', 'reza']"
   ]
  },
  {
   "cell_type": "code",
   "execution_count": 61,
   "id": "d5b43b88-6c5c-4534-8230-cf0307d4360b",
   "metadata": {},
   "outputs": [
    {
     "name": "stdout",
     "output_type": "stream",
     "text": [
      "amir is in the users list!\n",
      "your list is:\n",
      "['alireza', 'ali', 'reza', 'amir']\n"
     ]
    }
   ],
   "source": [
    "# users = ['alireza', 'ali', 'reza']\n",
    "\n",
    "if (\"amir\" in users):\n",
    "    print (\"amir is in the users list!\")\n",
    "    print (\"your list is:\")\n",
    "    print (users)\n",
    "else:\n",
    "    print (\"amir is not in the users list!\")\n",
    "    users.append(\"amir\")\n",
    "    print (\"amir is added to the users list!\")\n",
    "    print (\"updated list is:\")\n",
    "    print (users)\n",
    "\n"
   ]
  },
  {
   "cell_type": "code",
   "execution_count": 63,
   "id": "ecbdcc1a-bb4a-45c4-a27a-bfb2ca29b254",
   "metadata": {},
   "outputs": [
    {
     "name": "stdout",
     "output_type": "stream",
     "text": [
      "Your list is not empty!\n",
      "You can work on your list!\n"
     ]
    }
   ],
   "source": [
    "a_list = [1, 2, 3, 4, 5, 8]\n",
    "# a_list = [] # empty list\n",
    "\n",
    "if a_list:\n",
    "    print (\"Your list is not empty!\")\n",
    "    print (\"You can work on your list!\")\n",
    "else:\n",
    "    print (\"Your list is empty!\")\n",
    "    print (\"add an item to your list!\")"
   ]
  },
  {
   "cell_type": "code",
   "execution_count": 64,
   "id": "f7e9815e-01ab-481a-8eb2-ee4f1d093f8b",
   "metadata": {},
   "outputs": [
    {
     "name": "stdout",
     "output_type": "stream",
     "text": [
      "1\n",
      "2\n",
      "3\n",
      "4\n",
      "5\n",
      "8\n"
     ]
    }
   ],
   "source": [
    "for item in a_list:\n",
    "    print (item)"
   ]
  },
  {
   "cell_type": "code",
   "execution_count": null,
   "id": "afa99dfe-9d82-491e-b441-52b2040388b0",
   "metadata": {},
   "outputs": [],
   "source": []
  },
  {
   "cell_type": "code",
   "execution_count": null,
   "id": "d61e3ff2-0cf6-4ba1-b592-0f9daab41ade",
   "metadata": {},
   "outputs": [],
   "source": []
  },
  {
   "cell_type": "code",
   "execution_count": null,
   "id": "4fa057bf-77b1-474b-97cb-b9c9c7a5e39b",
   "metadata": {},
   "outputs": [],
   "source": []
  },
  {
   "cell_type": "code",
   "execution_count": null,
   "id": "860d9687-27d8-4b66-9844-845f5e02c033",
   "metadata": {},
   "outputs": [],
   "source": []
  },
  {
   "cell_type": "code",
   "execution_count": null,
   "id": "e92db629-f346-4072-9ec2-2c8d1ceb9b39",
   "metadata": {},
   "outputs": [],
   "source": []
  },
  {
   "cell_type": "code",
   "execution_count": null,
   "id": "1eecbf8f-27d5-447d-a982-d4aae797fab4",
   "metadata": {},
   "outputs": [],
   "source": []
  },
  {
   "cell_type": "code",
   "execution_count": null,
   "id": "e22bd55d-3f1f-406c-92b4-a400119b7b7b",
   "metadata": {},
   "outputs": [],
   "source": []
  },
  {
   "cell_type": "code",
   "execution_count": null,
   "id": "64c6df8e-b233-4eca-bb60-f86e799349c6",
   "metadata": {},
   "outputs": [],
   "source": []
  },
  {
   "cell_type": "code",
   "execution_count": null,
   "id": "4bcdfbfc-de04-418f-8394-330ac3ef2d63",
   "metadata": {},
   "outputs": [],
   "source": []
  },
  {
   "cell_type": "code",
   "execution_count": null,
   "id": "c05ef350-0f15-4a91-aed3-6f33405c72f6",
   "metadata": {},
   "outputs": [],
   "source": []
  },
  {
   "cell_type": "code",
   "execution_count": null,
   "id": "d36e279e-7100-4e03-8361-7d55253e833c",
   "metadata": {},
   "outputs": [],
   "source": [
    "## Check the number and tell whether it is prime or not.\n",
    "n = 12\n",
    "\n",
    "for num in range(2, n):\n",
    "    if n % num == 0:\n",
    "        print (f\"{n} is not prime!\")\n",
    "        break\n",
    "else:\n",
    "    print (f\"{n} is prime!\")"
   ]
  },
  {
   "cell_type": "code",
   "execution_count": null,
   "id": "c87acb8c-4533-44fb-bb80-54ee90482f58",
   "metadata": {},
   "outputs": [],
   "source": []
  }
 ],
 "metadata": {
  "kernelspec": {
   "display_name": "Python 3 (ipykernel)",
   "language": "python",
   "name": "python3"
  },
  "language_info": {
   "codemirror_mode": {
    "name": "ipython",
    "version": 3
   },
   "file_extension": ".py",
   "mimetype": "text/x-python",
   "name": "python",
   "nbconvert_exporter": "python",
   "pygments_lexer": "ipython3",
   "version": "3.9.19"
  }
 },
 "nbformat": 4,
 "nbformat_minor": 5
}
