{
 "cells": [
  {
   "cell_type": "markdown",
   "id": "1b23eb17-73c6-47c6-929b-3201590879e3",
   "metadata": {},
   "source": [
    "## User Input and While Loops\n",
    "***In this chapter, you'll learn how to work with while loops and how to get input from user in Python.***\n",
    "\n",
    "***Book: Python Crash Course!***"
   ]
  },
  {
   "cell_type": "markdown",
   "id": "07f5fa15-6d13-41aa-a329-30d480e4be18",
   "metadata": {},
   "source": [
    "### How the input() function works"
   ]
  },
  {
   "cell_type": "code",
   "execution_count": 1,
   "id": "babab84f-b6de-4568-801c-687af06b40fe",
   "metadata": {},
   "outputs": [
    {
     "name": "stdin",
     "output_type": "stream",
     "text": [
      "Tell me something, and I will repeat it back to you:  my name is alireza\n"
     ]
    },
    {
     "name": "stdout",
     "output_type": "stream",
     "text": [
      "my name is alireza\n"
     ]
    }
   ],
   "source": [
    "message = input(\"Tell me something, and I will repeat it back to you: \")\n",
    "\n",
    "print (message)"
   ]
  },
  {
   "cell_type": "markdown",
   "id": "8ad367a8-f890-4fde-b007-568a11aec186",
   "metadata": {},
   "source": [
    "***Note:*** *NOTE Some text editors won’t run programs that prompt the user for input. You can use these editors to write programs that prompt for input, but you’ll need to run these programs from a terminal. You can also run your code from Terminal*"
   ]
  },
  {
   "cell_type": "markdown",
   "id": "a64f1bc1-8bd7-4050-92aa-5a7965789625",
   "metadata": {},
   "source": [
    "#### Writing clear prompts"
   ]
  },
  {
   "cell_type": "code",
   "execution_count": 2,
   "id": "5b904292-a1b7-4445-aa2d-386dc7553057",
   "metadata": {},
   "outputs": [
    {
     "name": "stdin",
     "output_type": "stream",
     "text": [
      "Please enter your name:  alireza\n"
     ]
    },
    {
     "name": "stdout",
     "output_type": "stream",
     "text": [
      "\n",
      "Hello, alireza!\n"
     ]
    }
   ],
   "source": [
    "name = input(\"Please enter your name: \")\n",
    "print(f\"\\nHello, {name}!\")"
   ]
  },
  {
   "cell_type": "code",
   "execution_count": 3,
   "id": "9befbb94-0642-464b-9389-64fe29e37d92",
   "metadata": {},
   "outputs": [
    {
     "name": "stdin",
     "output_type": "stream",
     "text": [
      "If you share your name, we can personalize the messages you see.\n",
      "What is your first name?  alireza\n"
     ]
    },
    {
     "name": "stdout",
     "output_type": "stream",
     "text": [
      "\n",
      "Hello, alireza!\n"
     ]
    }
   ],
   "source": [
    "# prompt in multiple lines\n",
    "prompt = \"If you share your name, we can personalize the messages you see.\"\n",
    "prompt += \"\\nWhat is your first name? \"\n",
    "name = input(prompt)\n",
    "print(f\"\\nHello, {name}!\")"
   ]
  },
  {
   "cell_type": "markdown",
   "id": "8ab17f99-3a34-4bf0-875f-44ed5466b140",
   "metadata": {},
   "source": [
    "#### Using int() to accept numerical input"
   ]
  },
  {
   "cell_type": "code",
   "execution_count": 4,
   "id": "d175691a-691f-42fc-9212-d6d09b7495af",
   "metadata": {},
   "outputs": [
    {
     "name": "stdin",
     "output_type": "stream",
     "text": [
      "How old are you?  45\n"
     ]
    },
    {
     "name": "stdout",
     "output_type": "stream",
     "text": [
      "Your age is: 45\n"
     ]
    }
   ],
   "source": [
    "# All things you enter is considered as a string\n",
    "age = input(\"How old are you? \")\n",
    "\n",
    "print (f\"Your age is: {age}\")"
   ]
  },
  {
   "cell_type": "code",
   "execution_count": 5,
   "id": "7ada00c0-274d-433a-adbe-ef2640fd6412",
   "metadata": {},
   "outputs": [
    {
     "name": "stdout",
     "output_type": "stream",
     "text": [
      "45\n"
     ]
    },
    {
     "data": {
      "text/plain": [
       "str"
      ]
     },
     "execution_count": 5,
     "metadata": {},
     "output_type": "execute_result"
    }
   ],
   "source": [
    "print (age)\n",
    "type (age)"
   ]
  },
  {
   "cell_type": "code",
   "execution_count": 6,
   "id": "7e5c95e1-e6ce-4da9-87fc-76898f03d5db",
   "metadata": {},
   "outputs": [
    {
     "name": "stdin",
     "output_type": "stream",
     "text": [
      "How old are you?  20\n"
     ]
    },
    {
     "name": "stdout",
     "output_type": "stream",
     "text": [
      "Your age is: 20.0\n",
      "30.0\n"
     ]
    }
   ],
   "source": [
    "age = float(input(\"How old are you? \"))\n",
    "\n",
    "print (f\"Your age is: {age}\")\n",
    "\n",
    "print (age + 10)"
   ]
  },
  {
   "cell_type": "code",
   "execution_count": 26,
   "id": "cb829d8e-1ed8-4b68-aa95-d8c3cf538aaf",
   "metadata": {},
   "outputs": [
    {
     "name": "stdin",
     "output_type": "stream",
     "text": [
      "How tall are you, in cm?  200\n"
     ]
    },
    {
     "name": "stdout",
     "output_type": "stream",
     "text": [
      "\n",
      "You're tall enough to ride!\n"
     ]
    }
   ],
   "source": [
    "height = input(\"How tall are you, in cm? \")\n",
    "height = int(height)\n",
    "\n",
    "if height >= 140:\n",
    "    print(\"\\nYou're tall enough to ride!\")\n",
    "else:\n",
    "    print(\"\\nYou'll be able to ride when you're a little older (taller).\")"
   ]
  },
  {
   "cell_type": "markdown",
   "id": "81ce87c2-4bf1-4e1a-9b4a-e111d1c64e0c",
   "metadata": {},
   "source": [
    "#### The modulo operator (%)"
   ]
  },
  {
   "cell_type": "code",
   "execution_count": 8,
   "id": "0e0be2dc-6ea7-40fb-a9fa-5bb80acb1405",
   "metadata": {},
   "outputs": [
    {
     "name": "stdout",
     "output_type": "stream",
     "text": [
      "1\n"
     ]
    }
   ],
   "source": [
    "print (4 % 3)"
   ]
  },
  {
   "cell_type": "code",
   "execution_count": 9,
   "id": "f4174c6a-0529-4d19-895e-19fc12087956",
   "metadata": {},
   "outputs": [
    {
     "name": "stdout",
     "output_type": "stream",
     "text": [
      "2\n"
     ]
    }
   ],
   "source": [
    "print (5 % 3)"
   ]
  },
  {
   "cell_type": "code",
   "execution_count": 10,
   "id": "b585d4b2-e05f-4f23-adde-1dc8f61e8943",
   "metadata": {},
   "outputs": [
    {
     "name": "stdout",
     "output_type": "stream",
     "text": [
      "0\n"
     ]
    }
   ],
   "source": [
    "print (6 % 3)"
   ]
  },
  {
   "cell_type": "code",
   "execution_count": 11,
   "id": "74af8be2-48bd-40b0-b650-66ffe7844a25",
   "metadata": {},
   "outputs": [
    {
     "name": "stdout",
     "output_type": "stream",
     "text": [
      "1\n"
     ]
    }
   ],
   "source": [
    "print (7 % 3)"
   ]
  },
  {
   "cell_type": "code",
   "execution_count": 12,
   "id": "8a29c9af-1c84-4ba2-81e7-0e04fb91e402",
   "metadata": {},
   "outputs": [
    {
     "name": "stdin",
     "output_type": "stream",
     "text": [
      "Enter a number, and I'll tell you if it's even or odd:  12\n"
     ]
    },
    {
     "name": "stdout",
     "output_type": "stream",
     "text": [
      "\n",
      "The number 12 is even.\n"
     ]
    }
   ],
   "source": [
    "number = input(\"Enter a number, and I'll tell you if it's even or odd: \")\n",
    "number = int(number)\n",
    "\n",
    "if number % 2 == 0:\n",
    "    print(f\"\\nThe number {number} is even.\")\n",
    "else:\n",
    "    print(f\"\\nThe number {number} is odd.\")"
   ]
  },
  {
   "cell_type": "markdown",
   "id": "82ea6844-8e9b-45b1-afd0-c4a1691e555f",
   "metadata": {},
   "source": [
    "### Introducing while loops"
   ]
  },
  {
   "cell_type": "markdown",
   "id": "553a3ca7-15ec-44f8-b828-10d47453e836",
   "metadata": {},
   "source": [
    "**The `for` loop takes a collection of items and executes a block of code once\n",
    "for each item in the collection. In contrast, the `while` loop runs as long as, or\n",
    "*while*, a certain condition is true.**"
   ]
  },
  {
   "cell_type": "markdown",
   "id": "0c067a40-36f4-49b8-a033-ad90a8976c5e",
   "metadata": {},
   "source": [
    "#### The while loop in action"
   ]
  },
  {
   "cell_type": "code",
   "execution_count": 13,
   "id": "dcb090c6-ae44-447d-bc7f-a5a42d529169",
   "metadata": {},
   "outputs": [],
   "source": [
    "# While Syntax in Python:\n",
    "\n",
    "# while (conditional statement):\n",
    "#     statements"
   ]
  },
  {
   "cell_type": "code",
   "execution_count": 14,
   "id": "1a20d57a-4436-4b7f-83ac-6c2ee182ebd2",
   "metadata": {},
   "outputs": [
    {
     "name": "stdout",
     "output_type": "stream",
     "text": [
      "1\n",
      "before while\n",
      "\n",
      "1\n",
      "2\n",
      "3\n",
      "4\n",
      "5\n",
      "\n",
      "after while\n",
      "6\n"
     ]
    }
   ],
   "source": [
    "current_number = 1\n",
    "print (current_number)\n",
    "print (\"before while\\n\")\n",
    "\n",
    "while current_number <= 5:\n",
    "    print (current_number)\n",
    "    current_number += 1\n",
    "\n",
    "print (\"\\nafter while\")\n",
    "print (current_number)"
   ]
  },
  {
   "cell_type": "markdown",
   "id": "d04ec8ad-eb9d-4873-a7f6-b66f54849737",
   "metadata": {},
   "source": [
    "#### Letting the user choose when to quit"
   ]
  },
  {
   "cell_type": "code",
   "execution_count": 15,
   "id": "bc833c53-329c-4a28-b897-a567793fe4a0",
   "metadata": {},
   "outputs": [
    {
     "name": "stdin",
     "output_type": "stream",
     "text": [
      "\n",
      "Tell me something, and I will repeat it back to you:\n",
      "Enter 'quit' to end the program.  wonderful\n"
     ]
    },
    {
     "name": "stdout",
     "output_type": "stream",
     "text": [
      "wonderful\n"
     ]
    },
    {
     "name": "stdin",
     "output_type": "stream",
     "text": [
      "\n",
      "Tell me something, and I will repeat it back to you:\n",
      "Enter 'quit' to end the program.  extremely good\n"
     ]
    },
    {
     "name": "stdout",
     "output_type": "stream",
     "text": [
      "extremely good\n"
     ]
    },
    {
     "name": "stdin",
     "output_type": "stream",
     "text": [
      "\n",
      "Tell me something, and I will repeat it back to you:\n",
      "Enter 'quit' to end the program.  quit\n"
     ]
    },
    {
     "name": "stdout",
     "output_type": "stream",
     "text": [
      "quit\n",
      "********************\n",
      "finished...!\n"
     ]
    }
   ],
   "source": [
    "prompt = \"\\nTell me something, and I will repeat it back to you:\"\n",
    "prompt += \"\\nEnter 'quit' to end the program. \"\n",
    "message = \"\"\n",
    "\n",
    "while message != 'quit':\n",
    "    message = input(prompt)\n",
    "    print(message)\n",
    "\n",
    "print (20*\"*\")\n",
    "print (\"finished...!\")\n",
    "# tekraresh kon :) wonderful, extremely good"
   ]
  },
  {
   "cell_type": "code",
   "execution_count": 16,
   "id": "2dcdfcb4-4fed-41d3-bfc0-0c182b281391",
   "metadata": {},
   "outputs": [
    {
     "name": "stdin",
     "output_type": "stream",
     "text": [
      "\n",
      "Tell me something, and I will repeat it back to you:\n",
      "Enter 'quit' to end the program.  wonderful\n"
     ]
    },
    {
     "name": "stdout",
     "output_type": "stream",
     "text": [
      "wonderful\n"
     ]
    },
    {
     "name": "stdin",
     "output_type": "stream",
     "text": [
      "\n",
      "Tell me something, and I will repeat it back to you:\n",
      "Enter 'quit' to end the program.  extremely good\n"
     ]
    },
    {
     "name": "stdout",
     "output_type": "stream",
     "text": [
      "extremely good\n"
     ]
    },
    {
     "name": "stdin",
     "output_type": "stream",
     "text": [
      "\n",
      "Tell me something, and I will repeat it back to you:\n",
      "Enter 'quit' to end the program.  quit\n"
     ]
    },
    {
     "name": "stdout",
     "output_type": "stream",
     "text": [
      "********************\n",
      "finished...!\n"
     ]
    }
   ],
   "source": [
    "prompt = \"\\nTell me something, and I will repeat it back to you:\"\n",
    "prompt += \"\\nEnter 'quit' to end the program. \"\n",
    "message = \"\"\n",
    "\n",
    "while message != 'quit':\n",
    "    message = input(prompt)\n",
    "    if message != 'quit':\n",
    "        print(message)\n",
    "\n",
    "print (20*\"*\")\n",
    "print (\"finished...!\")"
   ]
  },
  {
   "cell_type": "markdown",
   "id": "a82bd4e3-27e5-4b65-b192-69b1f2857eb2",
   "metadata": {},
   "source": [
    "#### Using a flag"
   ]
  },
  {
   "cell_type": "code",
   "execution_count": 17,
   "id": "ef535e63-40b8-4c0f-afbc-093bc6ef540c",
   "metadata": {},
   "outputs": [
    {
     "name": "stdin",
     "output_type": "stream",
     "text": [
      "\n",
      "Tell me something, and I will repeat it back to you:\n",
      "Enter 'quit' to end the program.  quit\n"
     ]
    }
   ],
   "source": [
    "prompt = \"\\nTell me something, and I will repeat it back to you:\"\n",
    "prompt += \"\\nEnter 'quit' to end the program. \"\n",
    "\n",
    "active = True\n",
    "while active:\n",
    "    message = input(prompt)\n",
    "    \n",
    "    if message == 'quit':\n",
    "        active = False\n",
    "    else:\n",
    "        print(message)"
   ]
  },
  {
   "cell_type": "markdown",
   "id": "ed1df10d-c03b-435b-9c41-9414431b7587",
   "metadata": {},
   "source": [
    "*This is useful in complicated programs like games, in which there may be many events that should each make the\n",
    "program stop running. When any of these events causes the active flag to become False, the main game loop will exit, a Game Over message can be displayed, and the player can be given the option to play again.*"
   ]
  },
  {
   "cell_type": "markdown",
   "id": "a2872129-543a-42cc-bb7f-09e552f1d3d2",
   "metadata": {},
   "source": [
    "#### Using break to exit a loop"
   ]
  },
  {
   "cell_type": "code",
   "execution_count": 18,
   "id": "c6b4cce9-dc96-4e74-b3b1-7711a21f62bc",
   "metadata": {},
   "outputs": [
    {
     "name": "stdin",
     "output_type": "stream",
     "text": [
      "\n",
      "Tell me something, and I will repeat it back to you:\n",
      "Enter 'quit' to end the program.  quit\n"
     ]
    }
   ],
   "source": [
    "while True:\n",
    "    city = input(prompt)\n",
    "    \n",
    "    if city == 'quit':\n",
    "        break\n",
    "    else:\n",
    "        print(f\"I'd love to go to {city.title()}!\")"
   ]
  },
  {
   "cell_type": "markdown",
   "id": "5909407e-c9b7-4f6a-8d4a-69790acb0ea1",
   "metadata": {},
   "source": [
    "***Note:*** *You can use the **break** statement in any of Python’s loops. For example, you could use\n",
    "**break** to quit a **for loop** that’s working through a list or a dictionary.*"
   ]
  },
  {
   "cell_type": "markdown",
   "id": "bab174c1-de83-47e8-84a8-5730a86c209e",
   "metadata": {},
   "source": [
    "#### Using continue in a loop"
   ]
  },
  {
   "cell_type": "code",
   "execution_count": 19,
   "id": "256f3e3f-eb91-4173-9a6b-360a0a9d5c5d",
   "metadata": {},
   "outputs": [
    {
     "name": "stdout",
     "output_type": "stream",
     "text": [
      "1\n",
      "3\n",
      "5\n",
      "7\n",
      "9\n"
     ]
    }
   ],
   "source": [
    "current_number = 0\n",
    "while current_number < 10:\n",
    "    current_number += 1\n",
    "    if current_number % 2 == 0:\n",
    "        continue\n",
    "        \n",
    "    print(current_number)"
   ]
  },
  {
   "cell_type": "markdown",
   "id": "b0deb7ad-0d5c-4194-b131-43bc7309121b",
   "metadata": {},
   "source": [
    "#### Avoiding infinite loops"
   ]
  },
  {
   "cell_type": "code",
   "execution_count": 20,
   "id": "65d11c0b-794d-4e71-b035-adb4e5389d86",
   "metadata": {},
   "outputs": [
    {
     "name": "stdout",
     "output_type": "stream",
     "text": [
      "1\n",
      "2\n",
      "3\n",
      "4\n",
      "5\n"
     ]
    }
   ],
   "source": [
    "x = 1\n",
    "while x <= 5:\n",
    "    print(x)\n",
    "    x += 1"
   ]
  },
  {
   "cell_type": "code",
   "execution_count": 21,
   "id": "c5df02b4-cc69-40a4-86d6-fd4c196f6c52",
   "metadata": {},
   "outputs": [],
   "source": [
    "# x = 1\n",
    "# while x <= 5:\n",
    "#     print(x)\n",
    "    # x += 1\n",
    "\n",
    "\n",
    "# use CTRL-C in ternminal to stop running!"
   ]
  },
  {
   "cell_type": "markdown",
   "id": "139b07be-973a-49d4-a465-ddc49ddfea88",
   "metadata": {},
   "source": [
    "### Using a while loop with Lists and Dictionaries"
   ]
  },
  {
   "cell_type": "markdown",
   "id": "10959216-09eb-4292-96fb-fcc2a56599ba",
   "metadata": {},
   "source": [
    "***A `for` loop is effective for looping through a list, but you shouldn’t modify a list inside a for loop because Python will have trouble keeping track of the items in the list. To modify a list as you work through it, use a `while` loop. Using `while` loops with lists and dictionaries allows you to collect, store, and organize lots of input to examine and report on later.***"
   ]
  },
  {
   "cell_type": "markdown",
   "id": "a51e1444-8096-4f28-a9be-56242ee276f4",
   "metadata": {},
   "source": [
    "#### Moving items from one list to another"
   ]
  },
  {
   "cell_type": "code",
   "execution_count": 22,
   "id": "4aba04d0-24a8-4729-95c2-26b851288459",
   "metadata": {},
   "outputs": [
    {
     "name": "stdout",
     "output_type": "stream",
     "text": [
      "Verifying user: Reza\n",
      "Verifying user: Ariana\n",
      "Verifying user: Alireza\n",
      "\n",
      "The following users have been confirmed:\n",
      "Reza\n",
      "Ariana\n",
      "Alireza\n"
     ]
    }
   ],
   "source": [
    "# Start with users that need to be verified,\n",
    "# and an empty list to hold confirmed users.\n",
    "unconfirmed_users = ['alireza', 'ariana', 'reza']\n",
    "confirmed_users = []\n",
    "\n",
    "# Verify each user until there are no more unconfirmed users.\n",
    "# Move each verified user into the list of confirmed users.\n",
    "while unconfirmed_users:\n",
    "    current_user = unconfirmed_users.pop()\n",
    "    \n",
    "    print(f\"Verifying user: {current_user.title()}\")\n",
    "    confirmed_users.append(current_user)\n",
    "    \n",
    "# Display all confirmed users.\n",
    "print(\"\\nThe following users have been confirmed:\")\n",
    "for confirmed_user in confirmed_users:\n",
    "    print(confirmed_user.title())"
   ]
  },
  {
   "cell_type": "markdown",
   "id": "ab45af00-c6f1-4624-8148-b6a55728c449",
   "metadata": {},
   "source": [
    "#### Removing all instances of specific values from a list"
   ]
  },
  {
   "cell_type": "code",
   "execution_count": 23,
   "id": "2a2181d7-97e4-4771-9ab2-8a4e88469803",
   "metadata": {},
   "outputs": [
    {
     "name": "stdout",
     "output_type": "stream",
     "text": [
      "['dog', 'cat', 'dog', 'goldfish', 'cat', 'rabbit', 'cat']\n",
      "['dog', 'dog', 'goldfish', 'rabbit']\n"
     ]
    }
   ],
   "source": [
    "pets = ['dog', 'cat', 'dog', 'goldfish', 'cat', 'rabbit', 'cat']\n",
    "print(pets)\n",
    "\n",
    "while 'cat' in pets:\n",
    "    pets.remove('cat')\n",
    "    \n",
    "print(pets)"
   ]
  },
  {
   "cell_type": "markdown",
   "id": "9948506e-6463-4838-b135-7dfbdff53eaf",
   "metadata": {},
   "source": [
    "#### Filling a Dictionary with user input"
   ]
  },
  {
   "cell_type": "code",
   "execution_count": 24,
   "id": "22abb4a0-d56e-44bb-98c3-a045d96c26d1",
   "metadata": {},
   "outputs": [
    {
     "name": "stdin",
     "output_type": "stream",
     "text": [
      "\n",
      "What is your name?  alireza\n",
      "Which mountain would you like to climb someday?  damavand\n",
      "Would you like to let another person respond? (yes/ no)  yes\n",
      "\n",
      "What is your name?  ariana\n",
      "Which mountain would you like to climb someday?  everest\n",
      "Would you like to let another person respond? (yes/ no)  no\n"
     ]
    },
    {
     "name": "stdout",
     "output_type": "stream",
     "text": [
      "\n",
      "--- Poll Results ---\n",
      "Alireza would like to climb damavand.\n",
      "Ariana would like to climb everest.\n"
     ]
    }
   ],
   "source": [
    "responses = {}\n",
    "# Set a flag to indicate that polling is active.\n",
    "polling_active = True\n",
    "\n",
    "while polling_active:\n",
    "    # Prompt for the person's name and response.\n",
    "    name = input(\"\\nWhat is your name? \")\n",
    "    response = input(\"Which mountain would you like to climb someday? \")\n",
    "    \n",
    "    # Store the response in the dictionary.\n",
    "    responses[name] = response\n",
    "\n",
    "    # Find out if anyone else is going to take the poll.\n",
    "    repeat = input(\"Would you like to let another person respond? (yes/ no) \")\n",
    "    if repeat == 'no':\n",
    "        polling_active = False\n",
    "\n",
    "# Polling is complete. Show the results.\n",
    "print(\"\\n--- Poll Results ---\")\n",
    "for name, response in responses.items():\n",
    "    print(f\"{name.title()} would like to climb {response}.\")"
   ]
  },
  {
   "cell_type": "markdown",
   "id": "e315dbee-8f53-4534-90ec-df3d9be9785a",
   "metadata": {},
   "source": [
    "## Summary"
   ]
  },
  {
   "cell_type": "markdown",
   "id": "dd4fb69b-ef7e-47a2-a271-a14f392d3e8e",
   "metadata": {},
   "source": [
    "* Learned to use input() to allow users to provide their own information in programs.\n",
    "\n",
    "* Worked with both text and numerical input.\n",
    "\n",
    "* Used while loops to keep programs running as long as users want.\n",
    "\n",
    "* Controlled while loop flow using:\n",
    "\n",
    "    * An active flag.\n",
    "\n",
    "    * The break statement.\n",
    "\n",
    "    * The continue statement.\n",
    "\n",
    "* Moved items from one list to another using a while loop.\n",
    "\n",
    "* Removed all instances of a value from a list.\n",
    "\n",
    "* Applied while loops with dictionaries.\n",
    "\n",
    "* Preview of Chapter 8: Functions:\n",
    "\n",
    "    * Functions break programs into small, specific tasks.\n",
    "\n",
    "    * Functions can be called multiple times and stored in separate files.\n",
    "\n",
    "    * Benefits of functions:\n",
    "\n",
    "        * More efficient code.\n",
    "\n",
    "        * Easier troubleshooting and maintenance.\n",
    "\n",
    "        * Reusability across different programs."
   ]
  }
 ],
 "metadata": {
  "kernelspec": {
   "display_name": "Python 3 (ipykernel)",
   "language": "python",
   "name": "python3"
  },
  "language_info": {
   "codemirror_mode": {
    "name": "ipython",
    "version": 3
   },
   "file_extension": ".py",
   "mimetype": "text/x-python",
   "name": "python",
   "nbconvert_exporter": "python",
   "pygments_lexer": "ipython3",
   "version": "3.9.19"
  }
 },
 "nbformat": 4,
 "nbformat_minor": 5
}
